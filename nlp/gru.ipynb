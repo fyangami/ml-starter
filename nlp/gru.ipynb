{
 "cells": [
  {
   "cell_type": "code",
   "execution_count": 13,
   "metadata": {},
   "outputs": [],
   "source": [
    "import torch\n",
    "from torch import nn\n",
    "import matplotlib.pyplot as plt\n"
   ]
  },
  {
   "cell_type": "code",
   "execution_count": 14,
   "metadata": {},
   "outputs": [],
   "source": [
    "def read_data():\n",
    "    with open('../rnn/the_time_machine.txt', 'r') as txt:\n",
    "        lines = txt.readlines()\n",
    "    import re\n",
    "    return [\n",
    "        l for l in\n",
    "        [re.sub('[^A-Za-z]+', ' ', line).strip().lower() for line in lines]\n",
    "        if l.strip() != ''\n",
    "    ]\n",
    "def tokenize(data):\n",
    "    return [ch for line in data for ch in list(line)]\n",
    "class Vocab:\n",
    "    \n",
    "    def __init__(self, tokens) -> None:\n",
    "        import collections\n",
    "        counter = collections.Counter(tokens)\n",
    "        tokens = [ k for k, _ in sorted(counter.items(), key=lambda item: item[1], reverse=True) ]\n",
    "        tokens.insert(0, '<unk>')\n",
    "        self.tokens_indicates = { token: idx for idx, token in enumerate(tokens)}\n",
    "        self.indicates_tokens = { v: k for k, v in self.tokens_indicates.items()}\n",
    "    \n",
    "    @property\n",
    "    def unk(self):\n",
    "        return 0\n",
    "    \n",
    "    def __len__(self):\n",
    "        return len(self.tokens_indicates)\n",
    "    \n",
    "    def __getitem__(self, keys):\n",
    "        if isinstance(keys, str):\n",
    "            return self.tokens_indicates[keys]\n",
    "        if isinstance(keys, list):\n",
    "            return [self.__getitem__(key) for key in keys]\n",
    "        if isinstance(keys, (torch.Tensor)):\n",
    "            keys = keys.reshape(-1)\n",
    "            return ''.join(self.indicates_tokens[int(keys[i])] for i in range(keys.numel()))\n",
    "        return self.indicates_tokens[keys]\n",
    "def build_data(tokens):\n",
    "    vocab = Vocab(tokens=tokens)\n",
    "    corpus = [vocab[t] for t in tokens]\n",
    "    return corpus, vocab\n",
    "\n",
    "def dataloader(steps, batch_size=2):    \n",
    "    import random\n",
    "    corpus, vocab = build_data(tokenize(read_data()))\n",
    "    _len = len(corpus)\n",
    "    def _train_iter():\n",
    "        _discard = random.randint(0, _len - 1)\n",
    "        _corpus = corpus[_discard:]\n",
    "        m = (_len - _discard) // steps\n",
    "        coll = []\n",
    "        indicates = list(range(m))\n",
    "        random.shuffle(indicates)\n",
    "        batch_x, batch_y = [], []\n",
    "        for i in indicates:\n",
    "            start = i * steps\n",
    "            end = (i + 1) * steps\n",
    "            x = _corpus[start:end]\n",
    "            y = _corpus[start+1:end+1]\n",
    "            if len(x) == steps and len(y) == steps:\n",
    "                batch_x.append(x)\n",
    "                batch_y.append(y)\n",
    "            if len(batch_x) == batch_size:\n",
    "                yield torch.tensor(batch_x, dtype=torch.int64), torch.tensor(batch_y, dtype=torch.int64)\n",
    "                batch_x, batch_y = [], []\n",
    "    while True:\n",
    "        yield _train_iter(), vocab"
   ]
  },
  {
   "cell_type": "code",
   "execution_count": 15,
   "metadata": {},
   "outputs": [],
   "source": [
    "class SampleGRU(nn.Module):\n",
    "    \n",
    "    def __init__(self, vocab_size, n_hidden, std=1e-2, **kwargs) -> None:\n",
    "        super(**kwargs).__init__()\n",
    "        self.vocab_size = vocab_size\n",
    "        # parameters of candidate `hidden state` of time step T\n",
    "        self.w_xh = nn.Parameter(torch.randn(vocab_size, n_hidden) * std)\n",
    "        self.w_hh = nn.Parameter(torch.randn(n_hidden, n_hidden) * std)\n",
    "        self.b_h = nn.Parameter(torch.zeros(size=(n_hidden,)))\n",
    "        \n",
    "        # parameters of reset gate\n",
    "        self.w_xr = nn.Parameter(torch.randn(vocab_size, n_hidden) * std)\n",
    "        self.w_hr = nn.Parameter(torch.randn(n_hidden, n_hidden) * std)\n",
    "        self.b_r = nn.Parameter(torch.zeros(size=(n_hidden,)))\n",
    "        \n",
    "        # parameters of update gate\n",
    "        self.w_xz = nn.Parameter(torch.randn(vocab_size, n_hidden) * std)\n",
    "        self.w_hz = nn.Parameter(torch.randn(n_hidden, n_hidden) * std)\n",
    "        self.b_z = nn.Parameter(torch.zeros(size=(n_hidden,)))\n",
    "        \n",
    "        self.fc = nn.Linear(n_hidden, vocab_size)\n",
    "    \n",
    "    def forward(self, x, state=None):\n",
    "        # x.T.shape = (step, batch_size)\n",
    "        if len(x.shape) < 2:\n",
    "            x = x.unsqueeze(1)\n",
    "        x = torch.nn.functional.one_hot(x.T, self.vocab_size).to(dtype=torch.float32)\n",
    "        # (batch_size, step, input) to (step, batch_size, input)\n",
    "        # x = x.permute((1, 0, 2))\n",
    "        outputs = []\n",
    "        for step in x:\n",
    "            # through the `step` dimension for updating state\n",
    "            \n",
    "            # calculate reset gate\n",
    "            reset_gate = torch.sigmoid((step @ self.w_xr) + (0. if state is None else state @ self.w_hr) + self.b_r)\n",
    "            # calculate update gate\n",
    "            update_gate = torch.sigmoid((step @ self.w_xz) + (0. if state is None else state @ self.w_hz) + self.b_z)\n",
    "            # candidate state\n",
    "            candidate = torch.tanh((step @ self.w_xh) + (0. if state is None else (reset_gate * state) @ self.w_hh) + self.b_h)\n",
    "            # determinate current hidden state\n",
    "            state = (update_gate * (0. if state is None else state)) + ((1. - update_gate) * candidate)\n",
    "            outputs.append(self.fc(state))\n",
    "        return torch.stack(outputs, dim=1), state"
   ]
  },
  {
   "cell_type": "code",
   "execution_count": 16,
   "metadata": {},
   "outputs": [],
   "source": [
    "def grad_clip(net: nn.Module, clip_val=1):\n",
    "    params = [p for p in net.parameters() if p.requires_grad]\n",
    "    norm = torch.sqrt(sum(torch.sum((p.grad ** 2)) for p in params))\n",
    "    if norm > clip_val:\n",
    "        for parm in params:\n",
    "            parm.grad[:] *= clip_val / norm"
   ]
  },
  {
   "cell_type": "code",
   "execution_count": 17,
   "metadata": {},
   "outputs": [
    {
     "name": "stdout",
     "output_type": "stream",
     "text": [
      "epoch: [1000/1000\n"
     ]
    },
    {
     "data": {
      "text/plain": [
       "[<matplotlib.lines.Line2D at 0x7fa733bb7310>]"
      ]
     },
     "execution_count": 17,
     "metadata": {},
     "output_type": "execute_result"
    },
    {
     "data": {
      "image/png": "[encoded data removed]",
      "text/plain": [
       "<Figure size 432x288 with 1 Axes>"
      ]
     },
     "metadata": {
      "needs_background": "light"
     },
     "output_type": "display_data"
    }
   ],
   "source": [
    "# training the rnn model\n",
    "dl = dataloader(32, batch_size=1024)\n",
    "_, vocab = next(dl)\n",
    "net = SampleGRU(vocab_size=len(vocab), n_hidden=32)\n",
    "epochs = 100\n",
    "optimizer = torch.optim.SGD(net.parameters(), lr=2)\n",
    "loss_fn = torch.nn.CrossEntropyLoss()\n",
    "net.zero_grad()\n",
    "losses = []\n",
    "for epoch in range(0, epochs + 1):\n",
    "    train_iter, _ = next(dl)\n",
    "    for x, y in train_iter:\n",
    "        optimizer.zero_grad()\n",
    "        # 1024 32 28\n",
    "        y_hat, _ = net(x)\n",
    "        y_hat = y_hat.permute((0, 2, 1))\n",
    "        # y_hat = torch.reshape(y_hat, (-1, y_hat.shape[-1]))\n",
    "        # y = torch.nn.functional.one_hot(y, net.vocab_size).to(dtype=torch.float32)\n",
    "        loss = loss_fn(y_hat, y)\n",
    "        with torch.no_grad():\n",
    "            loss.backward()\n",
    "            grad_clip(net)\n",
    "            optimizer.step()\n",
    "    print(f\"\\repoch: [{epoch}/{epochs}\", end='')\n",
    "    losses.append(loss.detach().numpy())\n",
    "    # print(f'loss: {loss: .6f}')\n",
    "print()\n",
    "plt.plot(losses)"
   ]
  },
  {
   "cell_type": "code",
   "execution_count": 19,
   "metadata": {},
   "outputs": [
    {
     "data": {
      "text/plain": [
       "'the time machined the soon i stould and the soon i stould and the soon i stould and the soon i stould and the soon i'"
      ]
     },
     "execution_count": 19,
     "metadata": {},
     "output_type": "execute_result"
    }
   ],
   "source": [
    "def predict(input, num_preds, vocab, net):\n",
    "    # warmup\n",
    "    state = None\n",
    "    output = []\n",
    "    softmax = torch.nn.LogSoftmax(dim=2)\n",
    "    for ch in input:\n",
    "        x = torch.tensor([vocab[ch]])\n",
    "        # x = x.reshape((1,1,1))\n",
    "        _, state = net(x, state)\n",
    "        output.append(x)\n",
    "    for i in range(num_preds):\n",
    "        x = output[-1]\n",
    "        # x = x.reshape((1,1,1))\n",
    "        y_hat, state = net(x, state)\n",
    "        y_hat = softmax(y_hat)\n",
    "        y_hat = torch.argmax(y_hat, dim=2)\n",
    "        output.append(y_hat.detach())\n",
    "    return ''.join(vocab[output])\n",
    "predict(\"the time machine\", 100, vocab, net)"
   ]
  }
 ],
 "metadata": {
  "kernelspec": {
   "display_name": "Python 3.10.0 ('mlenv')",
   "language": "python",
   "name": "python3"
  },
  "language_info": {
   "codemirror_mode": {
    "name": "ipython",
    "version": 3
   },
   "file_extension": ".py",
   "mimetype": "text/x-python",
   "name": "python",
   "nbconvert_exporter": "python",
   "pygments_lexer": "ipython3",
   "version": "3.10.0"
  },
  "orig_nbformat": 4,
  "vscode": {
   "interpreter": {
    "hash": "8ae33f7c48cc3e1271596d1bf08ce4d5e6d6f7129ff8bbb83bbb95ed8addff62"
   }
  }
 },
 "nbformat": 4,
 "nbformat_minor": 2
}
