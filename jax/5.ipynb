{
 "cells": [
  {
   "cell_type": "code",
   "execution_count": 1,
   "metadata": {},
   "outputs": [
    {
     "name": "stderr",
     "output_type": "stream",
     "text": [
      "2022-06-23 09:04:56.459808: W external/org_tensorflow/tensorflow/stream_executor/platform/default/dso_loader.cc:64] Could not load dynamic library 'libcudart.so.11.0'; dlerror: libcudart.so.11.0: cannot open shared object file: No such file or directory\n",
      "2022-06-23 09:04:56.483962: W external/org_tensorflow/tensorflow/stream_executor/platform/default/dso_loader.cc:64] Could not load dynamic library 'libcudart.so.11.0'; dlerror: libcudart.so.11.0: cannot open shared object file: No such file or directory\n",
      "2022-06-23 09:04:56.485591: W external/org_tensorflow/tensorflow/stream_executor/platform/default/dso_loader.cc:64] Could not load dynamic library 'libcudart.so.11.0'; dlerror: libcudart.so.11.0: cannot open shared object file: No such file or directory\n",
      "2022-06-23 09:04:56.701112: W external/org_tensorflow/tensorflow/stream_executor/platform/default/dso_loader.cc:64] Could not load dynamic library 'libcuda.so.1'; dlerror: libcuda.so.1: cannot open shared object file: No such file or directory\n",
      "WARNING:absl:No GPU/TPU found, falling back to CPU. (Set TF_CPP_MIN_LOG_LEVEL=0 and rerun for more info.)\n",
      "2022-06-23 09:04:56.701161: W external/org_tensorflow/tensorflow/stream_executor/cuda/cuda_driver.cc:269] failed call to cuInit: UNKNOWN ERROR (303)\n"
     ]
    }
   ],
   "source": [
    "from jaxnn import dataset\n",
    "from jaxnn.model import Model\n",
    "from jaxnn import nn\n",
    "from jaxnn import optimizers\n",
    "from jaxnn import loss\n",
    "import jax\n",
    "from jax import numpy as jnp\n",
    "from matplotlib import pyplot as plt"
   ]
  },
  {
   "cell_type": "code",
   "execution_count": 2,
   "metadata": {},
   "outputs": [],
   "source": [
    "dataloader = dataset.mnist_dataloader(map_fn=lambda x: x / 255., batch_size=256)"
   ]
  },
  {
   "cell_type": "code",
   "execution_count": 8,
   "metadata": {},
   "outputs": [
    {
     "name": "stdout",
     "output_type": "stream",
     "text": [
      "(28, 28)\n",
      "(28, 28, 16)\n",
      "(28, 28, 16)\n",
      "12544\n",
      "10\n",
      "epoch: [  1\\20 #------------------- loss: 10.224 valid loss: 10.329 valid accuracy: 0.486\n",
      "epoch: [  2\\20 ##------------------ loss: 10.108 valid loss: 9.540 valid accuracy: 0.529\n",
      "epoch: [  3\\20 ###----------------- loss: 8.849 valid loss: 9.259 valid accuracy: 0.545\n",
      "epoch: [  4\\20 ####---------------- loss: 10.016 valid loss: 9.143 valid accuracy: 0.549\n",
      "epoch: [  5\\20 #####--------------- loss: 8.222 valid loss: 9.128 valid accuracy: 0.550\n",
      "epoch: [  6\\20 ######-------------- loss: 8.200 valid loss: 9.030 valid accuracy: 0.558\n",
      "epoch: [  7\\20 #######------------- loss: 8.674 valid loss: 8.841 valid accuracy: 0.567\n",
      "epoch: [  8\\20 ########------------ loss: 9.104 valid loss: 8.823 valid accuracy: 0.567\n",
      "epoch: [  9\\20 #########----------- loss: 8.575 valid loss: 8.718 valid accuracy: 0.571\n",
      "epoch: [ 10\\20 ##########---------- loss: 9.263 valid loss: 8.778 valid accuracy: 0.569\n",
      "epoch: [ 11\\20 ###########--------- loss: 8.514 valid loss: 8.831 valid accuracy: 0.566\n",
      "epoch: [ 12\\20 ############-------- loss: 8.801 valid loss: 8.915 valid accuracy: 0.563\n",
      "epoch: [ 13\\20 #############------- loss: 9.091 valid loss: 8.657 valid accuracy: 0.574\n",
      "epoch: [ 14\\20 ##############------ loss: 9.058 valid loss: 8.648 valid accuracy: 0.576\n",
      "epoch: [ 15\\20 ###############----- loss: 9.050 valid loss: 8.565 valid accuracy: 0.579\n",
      "epoch: [ 16\\20 ################---- loss: 9.144 valid loss: 8.669 valid accuracy: 0.573\n",
      "epoch: [ 17\\20 #################--- loss: 9.606 valid loss: 8.676 valid accuracy: 0.572\n",
      "epoch: [ 18\\20 ##################-- loss: 7.862 valid loss: 8.532 valid accuracy: 0.580\n",
      "epoch: [ 19\\20 ###################- loss: 9.408 valid loss: 8.600 valid accuracy: 0.574\n",
      "epoch: [ 20\\20 #################### loss: 9.176 valid loss: 8.545 valid accuracy: 0.577\n"
     ]
    }
   ],
   "source": [
    "\n",
    "model = Model([\n",
    "    nn.conv2d(n_filter=16, kernel_size=(3,3), strides=1),\n",
    "    nn.relu(),\n",
    "    # nn.conv2d(n_filter=32, kernel_size=(3,3), strides=1),\n",
    "    # nn.relu(),\n",
    "    nn.flatten(),\n",
    "    # nn.dense(256),\n",
    "    # nn.relu(),\n",
    "    nn.dense(10),\n",
    "    nn.softmax()\n",
    "])\n",
    "model.fit(data_loader=dataloader,\n",
    "          optimizer=optimizers.sgd(lr=1e-1),\n",
    "          loss_fn=loss.categorical_cross_entropy(),\n",
    "          epochs=20,\n",
    "          metrics=['accuracy'])"
   ]
  }
 ],
 "metadata": {
  "kernelspec": {
   "display_name": "Python 3.10.0 ('mlenv')",
   "language": "python",
   "name": "python3"
  },
  "language_info": {
   "codemirror_mode": {
    "name": "ipython",
    "version": 3
   },
   "file_extension": ".py",
   "mimetype": "text/x-python",
   "name": "python",
   "nbconvert_exporter": "python",
   "pygments_lexer": "ipython3",
   "version": "3.10.0"
  },
  "orig_nbformat": 4,
  "vscode": {
   "interpreter": {
    "hash": "8ae33f7c48cc3e1271596d1bf08ce4d5e6d6f7129ff8bbb83bbb95ed8addff62"
   }
  }
 },
 "nbformat": 4,
 "nbformat_minor": 2
}
