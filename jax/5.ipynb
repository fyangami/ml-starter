{
 "cells": [
  {
   "cell_type": "code",
   "execution_count": 9,
   "metadata": {},
   "outputs": [],
   "source": [
    "from jaxnn import dataset\n",
    "from jaxnn.model import Model\n",
    "from jaxnn import nn\n",
    "from jaxnn import optimizers\n",
    "from jaxnn import loss\n",
    "import jax\n",
    "from jax import numpy as jnp\n",
    "from matplotlib import pyplot as plt"
   ]
  },
  {
   "cell_type": "code",
   "execution_count": 10,
   "metadata": {},
   "outputs": [],
   "source": [
    "dataloader = dataset.mnist_dataloader(map_fn=lambda x: x / 255., batch_size=256)"
   ]
  },
  {
   "cell_type": "code",
   "execution_count": 11,
   "metadata": {},
   "outputs": [
    {
     "name": "stdout",
     "output_type": "stream",
     "text": [
      "epoch: [  1\\100 -------------------- loss: 0.400 valid loss: 0.370 valid accuracy: 0.891\n",
      "epoch: [  2\\100 -------------------- loss: 0.447 valid loss: 0.324 valid accuracy: 0.907\n",
      "epoch: [  3\\100 -------------------- loss: 0.456 valid loss: 0.348 valid accuracy: 0.896\n",
      "epoch: [  4\\100 -------------------- loss: 0.228 valid loss: 0.305 valid accuracy: 0.914\n",
      "epoch: [  5\\100 #------------------- loss: 0.219 valid loss: 0.292 valid accuracy: 0.917\n",
      "epoch: [  6\\100 #------------------- loss: 0.318 valid loss: 0.293 valid accuracy: 0.915\n",
      "epoch: [  7\\100 #------------------- loss: 0.269 valid loss: 0.282 valid accuracy: 0.919\n",
      "epoch: [  8\\100 #------------------- loss: 0.191 valid loss: 0.276 valid accuracy: 0.924\n",
      "epoch: [  9\\100 #------------------- loss: 0.218 valid loss: 0.268 valid accuracy: 0.925\n",
      "epoch: [ 10\\100 ##------------------ loss: 0.214 valid loss: 0.259 valid accuracy: 0.929\n",
      "epoch: [ 11\\100 ##------------------ loss: 0.218 valid loss: 0.251 valid accuracy: 0.928\n",
      "epoch: [ 12\\100 ##------------------ loss: 0.231 valid loss: 0.242 valid accuracy: 0.932\n",
      "epoch: [ 13\\100 ##------------------ loss: 0.219 valid loss: 0.201 valid accuracy: 0.943\n",
      "epoch: [ 14\\100 ##------------------ loss: 0.208 valid loss: 0.187 valid accuracy: 0.948\n",
      "epoch: [ 15\\100 ###----------------- loss: 0.192 valid loss: 0.182 valid accuracy: 0.953\n",
      "epoch: [ 16\\100 ###----------------- loss: 0.199 valid loss: 0.178 valid accuracy: 0.949\n",
      "epoch: [ 17\\100 ###----------------- loss: 0.113 valid loss: 0.148 valid accuracy: 0.959\n",
      "epoch: [ 18\\100 ###----------------- loss: 0.060 valid loss: 0.128 valid accuracy: 0.964\n",
      "epoch: [ 19\\100 ###----------------- loss: 0.079 valid loss: 0.128 valid accuracy: 0.964\n",
      "epoch: [ 20\\100 ####---------------- loss: 0.127 valid loss: 0.123 valid accuracy: 0.967\n",
      "epoch: [ 21\\100 ####---------------- loss: 0.116 valid loss: 0.111 valid accuracy: 0.968\n",
      "epoch: [ 22\\100 ####---------------- loss: 0.151 valid loss: 0.115 valid accuracy: 0.967\n",
      "epoch: [ 23\\100 ####---------------- loss: 0.095 valid loss: 0.096 valid accuracy: 0.974\n",
      "epoch: [ 24\\100 ####---------------- loss: 0.091 valid loss: 0.085 valid accuracy: 0.976\n",
      "epoch: [ 25\\100 #####--------------- loss: 0.084 valid loss: 0.087 valid accuracy: 0.975\n",
      "epoch: [ 26\\100 #####--------------- loss: 0.071 valid loss: 0.092 valid accuracy: 0.972\n",
      "epoch: [ 27\\100 #####--------------- loss: 0.110 valid loss: 0.085 valid accuracy: 0.976\n",
      "epoch: [ 28\\100 #####--------------- loss: 0.080 valid loss: 0.072 valid accuracy: 0.979\n",
      "epoch: [ 29\\100 #####--------------- loss: 0.137 valid loss: 0.077 valid accuracy: 0.978\n",
      "epoch: [ 30\\100 ######-------------- loss: 0.082 valid loss: 0.063 valid accuracy: 0.982\n",
      "epoch: [ 31\\100 ######-------------- loss: 0.095 valid loss: 0.063 valid accuracy: 0.982\n",
      "epoch: [ 32\\100 ######-------------- loss: 0.076 valid loss: 0.062 valid accuracy: 0.982\n",
      "epoch: [ 33\\100 ######-------------- loss: 0.051 valid loss: 0.063 valid accuracy: 0.982\n",
      "epoch: [ 34\\100 ######-------------- loss: 0.024 valid loss: 0.055 valid accuracy: 0.984\n",
      "epoch: [ 35\\100 #######------------- loss: 0.043 valid loss: 0.058 valid accuracy: 0.983\n",
      "epoch: [ 36\\100 #######------------- loss: 0.047 valid loss: 0.054 valid accuracy: 0.984\n",
      "epoch: [ 37\\100 #######------------- loss: 0.074 valid loss: 0.058 valid accuracy: 0.984\n",
      "epoch: [ 38\\100 #######------------- loss: 0.033 valid loss: 0.051 valid accuracy: 0.986\n",
      "epoch: [ 39\\100 #######------------- loss: 0.048 valid loss: 0.054 valid accuracy: 0.986\n",
      "epoch: [ 40\\100 ########------------ loss: 0.015 valid loss: 0.060 valid accuracy: 0.983\n",
      "epoch: [ 41\\100 ########------------ loss: 0.043 valid loss: 0.048 valid accuracy: 0.987\n",
      "epoch: [ 42\\100 ########------------ loss: 0.040 valid loss: 0.043 valid accuracy: 0.988\n",
      "epoch: [ 43\\100 ########------------ loss: 0.045 valid loss: 0.045 valid accuracy: 0.986\n",
      "epoch: [ 44\\100 ########------------ loss: 0.039 valid loss: 0.048 valid accuracy: 0.986\n",
      "epoch: [ 45\\100 #########----------- loss: 0.031 valid loss: 0.039 valid accuracy: 0.989\n",
      "epoch: [ 46\\100 #########----------- loss: 0.024 valid loss: 0.043 valid accuracy: 0.988\n",
      "epoch: [ 47\\100 #########----------- loss: 0.031 valid loss: 0.040 valid accuracy: 0.989\n",
      "epoch: [ 48\\100 #########----------- loss: 0.032 valid loss: 0.040 valid accuracy: 0.989\n",
      "epoch: [ 49\\100 #########----------- loss: 0.041 valid loss: 0.040 valid accuracy: 0.988\n",
      "epoch: [ 50\\100 ##########---------- loss: 0.025 valid loss: 0.041 valid accuracy: 0.987\n",
      "epoch: [ 51\\100 ##########---------- loss: 0.026 valid loss: 0.035 valid accuracy: 0.991\n",
      "epoch: [ 52\\100 ##########---------- loss: 0.026 valid loss: 0.034 valid accuracy: 0.990\n",
      "epoch: [ 53\\100 ##########---------- loss: 0.021 valid loss: 0.034 valid accuracy: 0.990\n",
      "epoch: [ 54\\100 ##########---------- loss: 0.020 valid loss: 0.037 valid accuracy: 0.989\n",
      "epoch: [ 55\\100 ###########--------- loss: 0.015 valid loss: 0.033 valid accuracy: 0.990\n",
      "epoch: [ 56\\100 ###########--------- loss: 0.026 valid loss: 0.033 valid accuracy: 0.991\n",
      "epoch: [ 57\\100 ###########--------- loss: 0.030 valid loss: 0.031 valid accuracy: 0.991\n",
      "epoch: [ 58\\100 ###########--------- loss: 0.025 valid loss: 0.034 valid accuracy: 0.990\n",
      "epoch: [ 59\\100 ###########--------- loss: 0.042 valid loss: 0.034 valid accuracy: 0.991\n",
      "epoch: [ 60\\100 ############-------- loss: 0.024 valid loss: 0.029 valid accuracy: 0.992\n",
      "epoch: [ 61\\100 ############-------- loss: 0.010 valid loss: 0.029 valid accuracy: 0.992\n",
      "epoch: [ 62\\100 ############-------- loss: 0.027 valid loss: 0.034 valid accuracy: 0.990\n",
      "epoch: [ 63\\100 ############-------- loss: 0.043 valid loss: 0.032 valid accuracy: 0.990\n",
      "epoch: [ 64\\100 ############-------- loss: 0.024 valid loss: 0.033 valid accuracy: 0.990\n",
      "epoch: [ 65\\100 #############------- loss: 0.021 valid loss: 0.026 valid accuracy: 0.992\n",
      "epoch: [ 66\\100 #############------- loss: 0.025 valid loss: 0.028 valid accuracy: 0.992\n",
      "epoch: [ 67\\100 #############------- loss: 0.029 valid loss: 0.029 valid accuracy: 0.993\n",
      "epoch: [ 68\\100 #############------- loss: 0.042 valid loss: 0.028 valid accuracy: 0.993\n",
      "epoch: [ 69\\100 #############------- loss: 0.013 valid loss: 0.027 valid accuracy: 0.993\n",
      "epoch: [ 70\\100 ##############------ loss: 0.046 valid loss: 0.027 valid accuracy: 0.993\n",
      "epoch: [ 71\\100 ##############------ loss: 0.025 valid loss: 0.027 valid accuracy: 0.993\n",
      "epoch: [ 72\\100 ##############------ loss: 0.021 valid loss: 0.022 valid accuracy: 0.994\n",
      "epoch: [ 73\\100 ##############------ loss: 0.026 valid loss: 0.022 valid accuracy: 0.994\n",
      "epoch: [ 74\\100 ##############------ loss: 0.016 valid loss: 0.020 valid accuracy: 0.994\n",
      "epoch: [ 75\\100 ###############----- loss: 0.017 valid loss: 0.023 valid accuracy: 0.994\n",
      "epoch: [ 76\\100 ###############----- loss: 0.019 valid loss: 0.021 valid accuracy: 0.994\n",
      "epoch: [ 77\\100 ###############----- loss: 0.037 valid loss: 0.022 valid accuracy: 0.995\n",
      "epoch: [ 78\\100 ###############----- loss: 0.009 valid loss: 0.024 valid accuracy: 0.994\n",
      "epoch: [ 79\\100 ###############----- loss: 0.046 valid loss: 0.023 valid accuracy: 0.993\n",
      "epoch: [ 80\\100 ################---- loss: 0.004 valid loss: 0.019 valid accuracy: 0.995\n",
      "epoch: [ 81\\100 ################---- loss: 0.026 valid loss: 0.021 valid accuracy: 0.994\n",
      "epoch: [ 82\\100 ################---- loss: 0.011 valid loss: 0.023 valid accuracy: 0.993\n",
      "epoch: [ 83\\100 ################---- loss: 0.012 valid loss: 0.021 valid accuracy: 0.994\n",
      "epoch: [ 84\\100 ################---- loss: 0.013 valid loss: 0.017 valid accuracy: 0.996\n",
      "epoch: [ 85\\100 #################--- loss: 0.008 valid loss: 0.018 valid accuracy: 0.996\n",
      "epoch: [ 86\\100 #################--- loss: 0.018 valid loss: 0.018 valid accuracy: 0.996\n",
      "epoch: [ 87\\100 #################--- loss: 0.026 valid loss: 0.021 valid accuracy: 0.994\n",
      "epoch: [ 88\\100 #################--- loss: 0.014 valid loss: 0.016 valid accuracy: 0.996\n",
      "epoch: [ 89\\100 #################--- loss: 0.016 valid loss: 0.017 valid accuracy: 0.996\n",
      "epoch: [ 90\\100 ##################-- loss: 0.012 valid loss: 0.014 valid accuracy: 0.997\n",
      "epoch: [ 91\\100 ##################-- loss: 0.025 valid loss: 0.018 valid accuracy: 0.996\n",
      "epoch: [ 92\\100 ##################-- loss: 0.014 valid loss: 0.018 valid accuracy: 0.996\n",
      "epoch: [ 93\\100 ##################-- loss: 0.034 valid loss: 0.014 valid accuracy: 0.997\n",
      "epoch: [ 94\\100 ##################-- loss: 0.010 valid loss: 0.015 valid accuracy: 0.997\n",
      "epoch: [ 95\\100 ###################- loss: 0.021 valid loss: 0.016 valid accuracy: 0.996\n",
      "epoch: [ 96\\100 ###################- loss: 0.019 valid loss: 0.016 valid accuracy: 0.996\n",
      "epoch: [ 97\\100 ###################- loss: 0.028 valid loss: 0.015 valid accuracy: 0.997\n",
      "epoch: [ 98\\100 ###################- loss: 0.006 valid loss: 0.014 valid accuracy: 0.997\n",
      "epoch: [ 99\\100 ###################- loss: 0.014 valid loss: 0.014 valid accuracy: 0.997\n",
      "epoch: [100\\100 #################### loss: 0.013 valid loss: 0.014 valid accuracy: 0.997\n"
     ]
    }
   ],
   "source": [
    "\n",
    "model = Model([\n",
    "    nn.conv2d(n_filter=32, kernel_size=(3,3), strides=1),\n",
    "    nn.relu(),\n",
    "    # nn.conv2d(n_filter=32, kernel_size=(3,3), strides=1),\n",
    "    # nn.relu(),\n",
    "    nn.flatten(),\n",
    "    # nn.dense(256),\n",
    "    # nn.relu(),\n",
    "    # nn.dropout(),\n",
    "    nn.dense(10),\n",
    "    nn.softmax()\n",
    "])\n",
    "model.fit(data_loader=dataloader,\n",
    "          optimizer=optimizers.sgd(lr=1e-1),\n",
    "          loss_fn=loss.categorical_cross_entropy(),\n",
    "          epochs=100,\n",
    "          metrics=['accuracy'])"
   ]
  },
  {
   "cell_type": "code",
   "execution_count": 12,
   "metadata": {},
   "outputs": [],
   "source": [
    "x, y = dataset.mnist_testdata()\n",
    "x = x / 255."
   ]
  },
  {
   "cell_type": "code",
   "execution_count": 13,
   "metadata": {},
   "outputs": [
    {
     "data": {
      "text/plain": [
       "DeviceArray(0.98130006, dtype=float32)"
      ]
     },
     "execution_count": 13,
     "metadata": {},
     "output_type": "execute_result"
    }
   ],
   "source": [
    "y_hat = model.predict(x)\n",
    "model.accuracy(y_hat, y)"
   ]
  },
  {
   "cell_type": "code",
   "execution_count": 14,
   "metadata": {},
   "outputs": [
    {
     "data": {
      "image/png": "[encoded data removed]",
      "text/plain": [
       "<Figure size 432x288 with 1 Axes>"
      ]
     },
     "metadata": {
      "needs_background": "light"
     },
     "output_type": "display_data"
    }
   ],
   "source": [
    "l1, = plt.plot(model.losses)\n",
    "l2, = plt.plot(model.valid_losses)\n",
    "plt.legend([l1, l2], ['loss', 'valid loss'])\n",
    "plt.show()"
   ]
  },
  {
   "cell_type": "code",
   "execution_count": 15,
   "metadata": {},
   "outputs": [
    {
     "data": {
      "text/plain": [
       "(DeviceArray([7, 2, 1, 0, 4, 1, 4, 9, 6, 9, 0, 6, 9, 0, 1, 5, 9, 7, 3, 4], dtype=int32),\n",
       " array([7, 2, 1, 0, 4, 1, 4, 9, 5, 9, 0, 6, 9, 0, 1, 5, 9, 7, 3, 4],\n",
       "       dtype=uint8))"
      ]
     },
     "execution_count": 15,
     "metadata": {},
     "output_type": "execute_result"
    }
   ],
   "source": [
    "y_hat = model.predict(x[:20])\n",
    "jnp.argmax(y_hat, axis=1), y[:20]"
   ]
  }
 ],
 "metadata": {
  "interpreter": {
   "hash": "8ae33f7c48cc3e1271596d1bf08ce4d5e6d6f7129ff8bbb83bbb95ed8addff62"
  },
  "kernelspec": {
   "display_name": "Python 3.10.0 ('mlenv')",
   "language": "python",
   "name": "python3"
  },
  "language_info": {
   "codemirror_mode": {
    "name": "ipython",
    "version": 3
   },
   "file_extension": ".py",
   "mimetype": "text/x-python",
   "name": "python",
   "nbconvert_exporter": "python",
   "pygments_lexer": "ipython3",
   "version": "3.8.13"
  },
  "orig_nbformat": 4,
  "vscode": {
   "interpreter": {
    "hash": "8ae33f7c48cc3e1271596d1bf08ce4d5e6d6f7129ff8bbb83bbb95ed8addff62"
   }
  }
 },
 "nbformat": 4,
 "nbformat_minor": 2
}
