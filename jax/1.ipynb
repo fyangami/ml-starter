{
 "cells": [
  {
   "cell_type": "code",
   "execution_count": 1,
   "metadata": {},
   "outputs": [
    {
     "name": "stderr",
     "output_type": "stream",
     "text": [
      "2022-06-15 10:45:12.868133: W external/org_tensorflow/tensorflow/stream_executor/platform/default/dso_loader.cc:64] Could not load dynamic library 'libcudart.so.11.0'; dlerror: libcudart.so.11.0: cannot open shared object file: No such file or directory\n",
      "2022-06-15 10:45:12.950783: W external/org_tensorflow/tensorflow/stream_executor/platform/default/dso_loader.cc:64] Could not load dynamic library 'libcudart.so.11.0'; dlerror: libcudart.so.11.0: cannot open shared object file: No such file or directory\n",
      "2022-06-15 10:45:12.957705: W external/org_tensorflow/tensorflow/stream_executor/platform/default/dso_loader.cc:64] Could not load dynamic library 'libcudart.so.11.0'; dlerror: libcudart.so.11.0: cannot open shared object file: No such file or directory\n"
     ]
    }
   ],
   "source": [
    "import jax\n",
    "from jax import numpy as jnp"
   ]
  },
  {
   "cell_type": "code",
   "execution_count": 2,
   "metadata": {},
   "outputs": [
    {
     "name": "stderr",
     "output_type": "stream",
     "text": [
      "2022-06-15 10:45:13.160751: W external/org_tensorflow/tensorflow/stream_executor/platform/default/dso_loader.cc:64] Could not load dynamic library 'libcuda.so.1'; dlerror: libcuda.so.1: cannot open shared object file: No such file or directory\n",
      "2022-06-15 10:45:13.160770: W external/org_tensorflow/tensorflow/stream_executor/cuda/cuda_driver.cc:269] failed call to cuInit: UNKNOWN ERROR (303)\n",
      "WARNING:absl:No GPU/TPU found, falling back to CPU. (Set TF_CPP_MIN_LOG_LEVEL=0 and rerun for more info.)\n"
     ]
    }
   ],
   "source": [
    "key = jax.random.PRNGKey(1024)\n",
    "mat = jax.random.normal(key, shape=(150, 100), dtype='float32')\n",
    "batch_x = jax.random.normal(key, shape=(20, 100), dtype='float32')"
   ]
  },
  {
   "cell_type": "code",
   "execution_count": 3,
   "metadata": {},
   "outputs": [
    {
     "name": "stdout",
     "output_type": "stream",
     "text": [
      "2.31 ms ± 22.1 µs per loop (mean ± std. dev. of 7 runs, 100 loops each)\n"
     ]
    }
   ],
   "source": [
    "def batch_dot(batch_x, mat):\n",
    "    return jnp.stack([jnp.dot(x, mat.T) for x in batch_x])\n",
    "\n",
    "\n",
    "%timeit batch_dot(batch_x, mat).block_until_ready()"
   ]
  },
  {
   "cell_type": "code",
   "execution_count": 4,
   "metadata": {},
   "outputs": [
    {
     "name": "stdout",
     "output_type": "stream",
     "text": [
      "48.5 µs ± 1.13 µs per loop (mean ± std. dev. of 7 runs, 10,000 loops each)\n"
     ]
    }
   ],
   "source": [
    "def normal_dot(batch_x, mat):\n",
    "    return jnp.dot(batch_x, mat.T)\n",
    "\n",
    "\n",
    "%timeit normal_dot(batch_x, mat).block_until_ready()"
   ]
  },
  {
   "cell_type": "code",
   "execution_count": 5,
   "metadata": {},
   "outputs": [
    {
     "name": "stdout",
     "output_type": "stream",
     "text": [
      "126 ms ± 1.29 ms per loop (mean ± std. dev. of 7 runs, 1 loop each)\n"
     ]
    }
   ],
   "source": [
    "%timeit jax.vmap(batch_dot, in_axes=(0, None))(batch_x, mat)"
   ]
  },
  {
   "cell_type": "code",
   "execution_count": 6,
   "metadata": {},
   "outputs": [
    {
     "ename": "ValueError",
     "evalue": "vmap got inconsistent sizes for array axes to be mapped:\narg 0 has shape (20, 100) and axis 0 is to be mapped\narg 1 has shape (150, 100) and axis 1 is to be mapped\nso\narg 0 has an axis to be mapped of size 20\narg 1 has an axis to be mapped of size 100",
     "output_type": "error",
     "traceback": [
      "\u001b[0;31m---------------------------------------------------------------------------\u001b[0m",
      "\u001b[0;31mValueError\u001b[0m                                Traceback (most recent call last)",
      "\u001b[1;32m/home/fyang/code/ml/ml-starter/jax/1.ipynb Cell 6'\u001b[0m in \u001b[0;36m<cell line: 1>\u001b[0;34m()\u001b[0m\n\u001b[0;32m----> <a href='vscode-notebook-cell:/home/fyang/code/ml/ml-starter/jax/1.ipynb#ch0000005?line=0'>1</a>\u001b[0m jax\u001b[39m.\u001b[39;49mvmap(batch_dot, in_axes\u001b[39m=\u001b[39;49m(\u001b[39m0\u001b[39;49m, \u001b[39m1\u001b[39;49m))(batch_x, mat)\u001b[39m.\u001b[39mshape\n",
      "    \u001b[0;31m[... skipping hidden 2 frame]\u001b[0m\n",
      "File \u001b[0;32m~/.conda/envs/mlenv/lib/python3.10/site-packages/jax/_src/api.py:1530\u001b[0m, in \u001b[0;36m_mapped_axis_size\u001b[0;34m(tree, vals, dims, name, kws)\u001b[0m\n\u001b[1;32m   1522\u001b[0m       sizes[x\u001b[39m.\u001b[39mshape[d]]\u001b[39m.\u001b[39mappend(i)\n\u001b[1;32m   1523\u001b[0m   lines2 \u001b[39m=\u001b[39m [\u001b[39m\"\u001b[39m\u001b[39m{}\u001b[39;00m\u001b[39m \u001b[39m\u001b[39m{}\u001b[39;00m\u001b[39m \u001b[39m\u001b[39m{}\u001b[39;00m\u001b[39m \u001b[39m\u001b[39m{}\u001b[39;00m\u001b[39m to be mapped of size \u001b[39m\u001b[39m{}\u001b[39;00m\u001b[39m\"\u001b[39m\u001b[39m.\u001b[39mformat(\n\u001b[1;32m   1524\u001b[0m               \u001b[39m\"\u001b[39m\u001b[39margs\u001b[39m\u001b[39m\"\u001b[39m \u001b[39mif\u001b[39;00m \u001b[39mlen\u001b[39m(idxs) \u001b[39m>\u001b[39m \u001b[39m1\u001b[39m \u001b[39melse\u001b[39;00m \u001b[39m\"\u001b[39m\u001b[39marg\u001b[39m\u001b[39m\"\u001b[39m,\n\u001b[1;32m   1525\u001b[0m               \u001b[39m\"\u001b[39m\u001b[39m, \u001b[39m\u001b[39m\"\u001b[39m\u001b[39m.\u001b[39mjoin(\u001b[39mmap\u001b[39m(\u001b[39mstr\u001b[39m, idxs)),\n\u001b[0;32m   (...)\u001b[0m\n\u001b[1;32m   1528\u001b[0m               size)\n\u001b[1;32m   1529\u001b[0m             \u001b[39mfor\u001b[39;00m size, idxs \u001b[39min\u001b[39;00m sizes\u001b[39m.\u001b[39mitems()]\n\u001b[0;32m-> 1530\u001b[0m   \u001b[39mraise\u001b[39;00m \u001b[39mValueError\u001b[39;00m(msg\u001b[39m.\u001b[39mformat(\u001b[39m\"\u001b[39m\u001b[39m\\n\u001b[39;00m\u001b[39m\"\u001b[39m\u001b[39m.\u001b[39mjoin(lines1 \u001b[39m+\u001b[39m [\u001b[39m\"\u001b[39m\u001b[39mso\u001b[39m\u001b[39m\"\u001b[39m] \u001b[39m+\u001b[39m lines2))) \u001b[39mfrom\u001b[39;00m \u001b[39mNone\u001b[39m\n\u001b[1;32m   1531\u001b[0m \u001b[39melse\u001b[39;00m:\n\u001b[1;32m   1532\u001b[0m   sizes \u001b[39m=\u001b[39m [x\u001b[39m.\u001b[39mshape[d] \u001b[39mif\u001b[39;00m d \u001b[39mis\u001b[39;00m \u001b[39mnot\u001b[39;00m \u001b[39mNone\u001b[39;00m \u001b[39melse\u001b[39;00m \u001b[39mNone\u001b[39;00m \u001b[39mfor\u001b[39;00m x, d \u001b[39min\u001b[39;00m \u001b[39mzip\u001b[39m(vals, dims)]\n",
      "\u001b[0;31mValueError\u001b[0m: vmap got inconsistent sizes for array axes to be mapped:\narg 0 has shape (20, 100) and axis 0 is to be mapped\narg 1 has shape (150, 100) and axis 1 is to be mapped\nso\narg 0 has an axis to be mapped of size 20\narg 1 has an axis to be mapped of size 100"
     ]
    }
   ],
   "source": [
    "jax.vmap(batch_dot, in_axes=(0, 1))(batch_x, mat).shape"
   ]
  },
  {
   "cell_type": "code",
   "execution_count": null,
   "metadata": {},
   "outputs": [
    {
     "name": "stdout",
     "output_type": "stream",
     "text": [
      "x = Traced<ShapedArray(float32[10,10])>with<DynamicJaxprTrace(level=0/1)>\n",
      "y = Traced<ShapedArray(float32[10,1])>with<DynamicJaxprTrace(level=0/1)>\n",
      "result = Traced<ShapedArray(float32[10,1])>with<DynamicJaxprTrace(level=0/1)>\n",
      "22.7 µs ± 90.4 ns per loop (mean ± std. dev. of 7 runs, 10,000 loops each)\n",
      "22.9 µs ± 178 ns per loop (mean ± std. dev. of 7 runs, 10,000 loops each)\n"
     ]
    }
   ],
   "source": [
    "@jax.jit\n",
    "def test_jit(x, y):\n",
    "    print(f\"x = {x}\")\n",
    "    print(f\"y = {y}\")\n",
    "    result = jnp.dot(x, y)\n",
    "    print(f\"result = {result}\")\n",
    "    return result\n",
    "\n",
    "%timeit test_jit(jax.random.normal(key, shape=(10, 10)), jax.random.normal(key, shape=(10, 1))).block_until_ready()\n",
    "%timeit test_jit(jax.random.normal(key, shape=(10, 10)), jax.random.normal(key, shape=(10, 1))).block_until_ready()\n",
    "# jax.make_jaxpr(test_jit)(1, 1)\n",
    "# res, res2"
   ]
  },
  {
   "cell_type": "code",
   "execution_count": null,
   "metadata": {},
   "outputs": [
    {
     "data": {
      "text/plain": [
       "{ lambda ; a:f32[10,10] b:f32[10,1]. let\n",
       "    c:f32[10,1] = dot_general[\n",
       "      dimension_numbers=(((1,), (0,)), ((), ()))\n",
       "      precision=None\n",
       "      preferred_element_type=None\n",
       "    ] a b\n",
       "  in (c,) }"
      ]
     },
     "execution_count": 59,
     "metadata": {},
     "output_type": "execute_result"
    }
   ],
   "source": [
    "def test_jit(x, y):\n",
    "    result = jnp.dot(x, y)\n",
    "    return result\n",
    "jax.make_jaxpr(test_jit)(jax.random.normal(key, shape=(10, 10)), jax.random.normal(key, shape=(10, 1)))"
   ]
  },
  {
   "cell_type": "code",
   "execution_count": null,
   "metadata": {},
   "outputs": [
    {
     "data": {
      "text/plain": [
       "DeviceArray([3, 8], dtype=int32)"
      ]
     },
     "execution_count": 67,
     "metadata": {},
     "output_type": "execute_result"
    }
   ],
   "source": [
    "jnp.array([[1, 2], [3, 4]]).prod(0)\n",
    "\n",
    "# 1, 2   1, 2     7, 10\n",
    "# 3, 4   3, 4  =  15,22"
   ]
  },
  {
   "cell_type": "code",
   "execution_count": 7,
   "metadata": {},
   "outputs": [
    {
     "name": "stdout",
     "output_type": "stream",
     "text": [
      "[0. 0. 0. 0. 0. 0.]\n"
     ]
    },
    {
     "ename": "TypeError",
     "evalue": "Shapes must be 1D sequences of concrete values of integer type, got [Traced<ShapedArray(int32[])>with<DynamicJaxprTrace(level=0/1)>].\nIf using `jit`, try using `static_argnums` or applying `jit` to smaller subfunctions.",
     "output_type": "error",
     "traceback": [
      "\u001b[0;31m---------------------------------------------------------------------------\u001b[0m",
      "\u001b[0;31mTypeError\u001b[0m                                 Traceback (most recent call last)",
      "\u001b[1;32m/home/fyang/code/ml/ml-starter/jax/1.ipynb Cell 10'\u001b[0m in \u001b[0;36m<cell line: 6>\u001b[0;34m()\u001b[0m\n\u001b[1;32m      <a href='vscode-notebook-cell:/home/fyang/code/ml/ml-starter/jax/1.ipynb#ch0000009?line=3'>4</a>\u001b[0m \u001b[39mprint\u001b[39m(f(x))\n\u001b[1;32m      <a href='vscode-notebook-cell:/home/fyang/code/ml/ml-starter/jax/1.ipynb#ch0000009?line=4'>5</a>\u001b[0m jit_x \u001b[39m=\u001b[39m jax\u001b[39m.\u001b[39mjit(f)\n\u001b[0;32m----> <a href='vscode-notebook-cell:/home/fyang/code/ml/ml-starter/jax/1.ipynb#ch0000009?line=5'>6</a>\u001b[0m jit_x(x)\n",
      "    \u001b[0;31m[... skipping hidden 14 frame]\u001b[0m\n",
      "\u001b[1;32m/home/fyang/code/ml/ml-starter/jax/1.ipynb Cell 10'\u001b[0m in \u001b[0;36mf\u001b[0;34m(x)\u001b[0m\n\u001b[1;32m      <a href='vscode-notebook-cell:/home/fyang/code/ml/ml-starter/jax/1.ipynb#ch0000009?line=0'>1</a>\u001b[0m \u001b[39mdef\u001b[39;00m \u001b[39mf\u001b[39m(x):\n\u001b[0;32m----> <a href='vscode-notebook-cell:/home/fyang/code/ml/ml-starter/jax/1.ipynb#ch0000009?line=1'>2</a>\u001b[0m     \u001b[39mreturn\u001b[39;00m x\u001b[39m.\u001b[39;49mreshape(jnp\u001b[39m.\u001b[39;49marray(x\u001b[39m.\u001b[39;49mshape)\u001b[39m.\u001b[39;49mprod())\n",
      "File \u001b[0;32m~/.conda/envs/mlenv/lib/python3.10/site-packages/jax/_src/numpy/lax_numpy.py:745\u001b[0m, in \u001b[0;36m_reshape\u001b[0;34m(a, order, *args)\u001b[0m\n\u001b[1;32m    744\u001b[0m \u001b[39mdef\u001b[39;00m \u001b[39m_reshape\u001b[39m(a, \u001b[39m*\u001b[39margs, order\u001b[39m=\u001b[39m\u001b[39m\"\u001b[39m\u001b[39mC\u001b[39m\u001b[39m\"\u001b[39m):\n\u001b[0;32m--> 745\u001b[0m   newshape \u001b[39m=\u001b[39m _compute_newshape(a, args[\u001b[39m0\u001b[39;49m] \u001b[39mif\u001b[39;49;00m \u001b[39mlen\u001b[39;49m(args) \u001b[39m==\u001b[39;49m \u001b[39m1\u001b[39;49m \u001b[39melse\u001b[39;49;00m args)\n\u001b[1;32m    746\u001b[0m   \u001b[39mif\u001b[39;00m order \u001b[39m==\u001b[39m \u001b[39m\"\u001b[39m\u001b[39mC\u001b[39m\u001b[39m\"\u001b[39m:\n\u001b[1;32m    747\u001b[0m     \u001b[39mreturn\u001b[39;00m lax\u001b[39m.\u001b[39mreshape(a, newshape, \u001b[39mNone\u001b[39;00m)\n",
      "File \u001b[0;32m~/.conda/envs/mlenv/lib/python3.10/site-packages/jax/_src/numpy/lax_numpy.py:738\u001b[0m, in \u001b[0;36m_compute_newshape\u001b[0;34m(a, newshape)\u001b[0m\n\u001b[1;32m    736\u001b[0m \u001b[39mexcept\u001b[39;00m: iterable \u001b[39m=\u001b[39m \u001b[39mFalse\u001b[39;00m\n\u001b[1;32m    737\u001b[0m \u001b[39melse\u001b[39;00m: iterable \u001b[39m=\u001b[39m \u001b[39mTrue\u001b[39;00m\n\u001b[0;32m--> 738\u001b[0m newshape \u001b[39m=\u001b[39m core\u001b[39m.\u001b[39;49mcanonicalize_shape(newshape \u001b[39mif\u001b[39;49;00m iterable \u001b[39melse\u001b[39;49;00m [newshape])\n\u001b[1;32m    739\u001b[0m \u001b[39mreturn\u001b[39;00m \u001b[39mtuple\u001b[39m(\u001b[39m-\u001b[39m core\u001b[39m.\u001b[39mdivide_shape_sizes(np\u001b[39m.\u001b[39mshape(a), newshape)\n\u001b[1;32m    740\u001b[0m              \u001b[39mif\u001b[39;00m core\u001b[39m.\u001b[39msymbolic_equal_dim(d, \u001b[39m-\u001b[39m\u001b[39m1\u001b[39m) \u001b[39melse\u001b[39;00m d\n\u001b[1;32m    741\u001b[0m              \u001b[39mfor\u001b[39;00m d \u001b[39min\u001b[39;00m newshape)\n",
      "File \u001b[0;32m~/.conda/envs/mlenv/lib/python3.10/site-packages/jax/core.py:1657\u001b[0m, in \u001b[0;36mcanonicalize_shape\u001b[0;34m(shape, context)\u001b[0m\n\u001b[1;32m   1655\u001b[0m \u001b[39mexcept\u001b[39;00m \u001b[39mTypeError\u001b[39;00m:\n\u001b[1;32m   1656\u001b[0m   \u001b[39mpass\u001b[39;00m\n\u001b[0;32m-> 1657\u001b[0m \u001b[39mraise\u001b[39;00m _invalid_shape_error(shape, context)\n",
      "\u001b[0;31mTypeError\u001b[0m: Shapes must be 1D sequences of concrete values of integer type, got [Traced<ShapedArray(int32[])>with<DynamicJaxprTrace(level=0/1)>].\nIf using `jit`, try using `static_argnums` or applying `jit` to smaller subfunctions."
     ]
    }
   ],
   "source": [
    "def f(x):\n",
    "    return x.reshape(jnp.array(x.shape).prod())\n",
    "x = jnp.zeros((2, 3))\n",
    "print(f(x))\n",
    "jit_x = jax.jit(f)\n",
    "jit_x(x)\n"
   ]
  },
  {
   "cell_type": "code",
   "execution_count": 8,
   "metadata": {},
   "outputs": [
    {
     "data": {
      "text/plain": [
       "(DeviceArray([   0, 1024], dtype=uint32),\n",
       " DeviceArray([   0, 1024], dtype=uint32),\n",
       " DeviceArray([   0, 1024], dtype=uint32))"
      ]
     },
     "execution_count": 8,
     "metadata": {},
     "output_type": "execute_result"
    }
   ],
   "source": [
    "key = jax.random.PRNGKey(1024)\n",
    "key2 = jax.random.PRNGKey(1024)\n",
    "key3 = jax.random.PRNGKey(1024)\n",
    "key, key2, key3"
   ]
  },
  {
   "cell_type": "code",
   "execution_count": 9,
   "metadata": {},
   "outputs": [
    {
     "data": {
      "text/plain": [
       "(DeviceArray([ 0.9467659, -0.7003688], dtype=float32),\n",
       " DeviceArray([ 0.9467659, -0.7003688], dtype=float32),\n",
       " DeviceArray([ 0.9467659, -0.7003688], dtype=float32))"
      ]
     },
     "execution_count": 9,
     "metadata": {},
     "output_type": "execute_result"
    }
   ],
   "source": [
    "jax.random.normal(key, shape=(2,)), jax.random.normal(key, shape=(2,)), jax.random.normal(key, shape=(2,))"
   ]
  },
  {
   "cell_type": "code",
   "execution_count": 12,
   "metadata": {},
   "outputs": [],
   "source": [
    "key4, key5 = jax.random.split(key, 2)"
   ]
  },
  {
   "cell_type": "code",
   "execution_count": 11,
   "metadata": {},
   "outputs": [
    {
     "data": {
      "text/plain": [
       "(DeviceArray([ 596893660, 2955029104], dtype=uint32),\n",
       " DeviceArray([4120848430, 3735277591], dtype=uint32))"
      ]
     },
     "execution_count": 11,
     "metadata": {},
     "output_type": "execute_result"
    }
   ],
   "source": [
    "key4, key5"
   ]
  },
  {
   "cell_type": "code",
   "execution_count": 13,
   "metadata": {},
   "outputs": [
    {
     "data": {
      "text/plain": [
       "DeviceArray([[4128513521, 3192206206],\n",
       "             [2345921600, 3057534555]], dtype=uint32)"
      ]
     },
     "execution_count": 13,
     "metadata": {},
     "output_type": "execute_result"
    }
   ],
   "source": [
    "jax.random.split(jnp.array([1, 2], dtype='uint32'))"
   ]
  },
  {
   "cell_type": "code",
   "execution_count": 14,
   "metadata": {},
   "outputs": [
    {
     "data": {
      "text/plain": [
       "(DeviceArray(10., dtype=float32, weak_type=True),\n",
       " DeviceArray(1., dtype=float32, weak_type=True),\n",
       " DeviceArray(0., dtype=float32, weak_type=True),\n",
       " DeviceArray(0., dtype=float32, weak_type=True))"
      ]
     },
     "execution_count": 14,
     "metadata": {},
     "output_type": "execute_result"
    }
   ],
   "source": [
    "@jax.jit\n",
    "def relu(x):\n",
    "    return jnp.where(x > 0, x, 0)\n",
    "\n",
    "grad_relu = jax.jit(jax.grad(relu))\n",
    "relu(10.), grad_relu(10.), relu(-1.), grad_relu(-1.)"
   ]
  },
  {
   "cell_type": "code",
   "execution_count": 15,
   "metadata": {},
   "outputs": [
    {
     "ename": "TypeError",
     "evalue": "Gradient only defined for scalar-output functions. Output had shape: (2,).",
     "output_type": "error",
     "traceback": [
      "\u001b[0;31m---------------------------------------------------------------------------\u001b[0m",
      "\u001b[0;31mTypeError\u001b[0m                                 Traceback (most recent call last)",
      "\u001b[1;32m/home/fyang/code/ml/ml-starter/jax/1.ipynb Cell 17'\u001b[0m in \u001b[0;36m<cell line: 4>\u001b[0;34m()\u001b[0m\n\u001b[1;32m      <a href='vscode-notebook-cell:/home/fyang/code/ml/ml-starter/jax/1.ipynb#ch0000016?line=0'>1</a>\u001b[0m \u001b[39mdef\u001b[39;00m \u001b[39mf\u001b[39m(x):\n\u001b[1;32m      <a href='vscode-notebook-cell:/home/fyang/code/ml/ml-starter/jax/1.ipynb#ch0000016?line=1'>2</a>\u001b[0m     \u001b[39mreturn\u001b[39;00m x \u001b[39m+\u001b[39m \u001b[39m2\u001b[39m\n\u001b[0;32m----> <a href='vscode-notebook-cell:/home/fyang/code/ml/ml-starter/jax/1.ipynb#ch0000016?line=3'>4</a>\u001b[0m jax\u001b[39m.\u001b[39;49mgrad(f)(jnp\u001b[39m.\u001b[39;49masarray([\u001b[39m1\u001b[39;49m,\u001b[39m2\u001b[39;49m], dtype\u001b[39m=\u001b[39;49m\u001b[39m'\u001b[39;49m\u001b[39mfloat32\u001b[39;49m\u001b[39m'\u001b[39;49m))\n",
      "    \u001b[0;31m[... skipping hidden 4 frame]\u001b[0m\n",
      "File \u001b[0;32m~/.conda/envs/mlenv/lib/python3.10/site-packages/jax/_src/api.py:1006\u001b[0m, in \u001b[0;36m_check_scalar\u001b[0;34m(x)\u001b[0m\n\u001b[1;32m   1004\u001b[0m \u001b[39mif\u001b[39;00m \u001b[39misinstance\u001b[39m(aval, ShapedArray):\n\u001b[1;32m   1005\u001b[0m   \u001b[39mif\u001b[39;00m aval\u001b[39m.\u001b[39mshape \u001b[39m!=\u001b[39m ():\n\u001b[0;32m-> 1006\u001b[0m     \u001b[39mraise\u001b[39;00m \u001b[39mTypeError\u001b[39;00m(msg(\u001b[39mf\u001b[39m\u001b[39m\"\u001b[39m\u001b[39mhad shape: \u001b[39m\u001b[39m{\u001b[39;00maval\u001b[39m.\u001b[39mshape\u001b[39m}\u001b[39;00m\u001b[39m\"\u001b[39m))\n\u001b[1;32m   1007\u001b[0m \u001b[39melse\u001b[39;00m:\n\u001b[1;32m   1008\u001b[0m   \u001b[39mraise\u001b[39;00m \u001b[39mTypeError\u001b[39;00m(msg(\u001b[39mf\u001b[39m\u001b[39m\"\u001b[39m\u001b[39mhad abstract value \u001b[39m\u001b[39m{\u001b[39;00maval\u001b[39m}\u001b[39;00m\u001b[39m\"\u001b[39m))\n",
      "\u001b[0;31mTypeError\u001b[0m: Gradient only defined for scalar-output functions. Output had shape: (2,)."
     ]
    }
   ],
   "source": [
    "def f(x):\n",
    "    return x + 2\n",
    "\n",
    "jax.grad(f)(jnp.asarray([1,2], dtype='float32'))"
   ]
  },
  {
   "cell_type": "code",
   "execution_count": 16,
   "metadata": {},
   "outputs": [
    {
     "data": {
      "text/plain": [
       "DeviceArray([[ 0.52911216, -0.23908976, -0.85075116, -0.54860884],\n",
       "             [-0.90879905,  0.41065875,  1.4612437 ,  0.9422863 ]],            dtype=float32)"
      ]
     },
     "execution_count": 16,
     "metadata": {},
     "output_type": "execute_result"
    }
   ],
   "source": [
    "w = jax.random.normal(key, shape=(4,))\n",
    "def sse(x, y):\n",
    "    y_hat = jnp.dot(x, w)\n",
    "    return jnp.sum((y_hat - y) ** 2)\n",
    "\n",
    "grad_sse = jax.grad(sse)\n",
    "grad_sse(jax.random.normal(key2, shape=(2, 4)), jax.random.normal(key3, shape=(2,)))"
   ]
  },
  {
   "cell_type": "code",
   "execution_count": 17,
   "metadata": {},
   "outputs": [
    {
     "data": {
      "text/plain": [
       "(DeviceArray(0.23487574, dtype=float32),\n",
       " DeviceArray([[ 0.52911216, -0.23908976, -0.85075116, -0.54860884],\n",
       "              [-0.90879905,  0.41065875,  1.4612437 ,  0.9422863 ]],            dtype=float32))"
      ]
     },
     "execution_count": 17,
     "metadata": {},
     "output_type": "execute_result"
    }
   ],
   "source": [
    "grad_sse = jax.value_and_grad(sse)\n",
    "grad_sse(jax.random.normal(key2, shape=(2, 4)), jax.random.normal(key3, shape=(2,)))"
   ]
  },
  {
   "cell_type": "code",
   "execution_count": 87,
   "metadata": {},
   "outputs": [
    {
     "data": {
      "text/plain": [
       "<matplotlib.collections.PathCollection at 0x7fbd847b5a20>"
      ]
     },
     "execution_count": 87,
     "metadata": {},
     "output_type": "execute_result"
    },
    {
     "data": {
      "image/png": "[encoded data removed]",
      "text/plain": [
       "<Figure size 432x288 with 1 Axes>"
      ]
     },
     "metadata": {
      "needs_background": "light"
     },
     "output_type": "display_data"
    }
   ],
   "source": [
    "x = jnp.linspace(0, 10, num=100)\n",
    "y = x * -3.66 - 20.43\n",
    "x = x + jax.random.normal(key5, shape=(100,))\n",
    "from matplotlib import pyplot as plt\n",
    "plt.scatter(x, y)"
   ]
  },
  {
   "cell_type": "code",
   "execution_count": 88,
   "metadata": {},
   "outputs": [],
   "source": [
    "x = x[:, None]\n",
    "x = jnp.concatenate((x, jnp.ones((x.shape[0], 1))), axis=1)"
   ]
  },
  {
   "cell_type": "code",
   "execution_count": 107,
   "metadata": {},
   "outputs": [
    {
     "data": {
      "image/png": "[encoded data removed]",
      "text/plain": [
       "<Figure size 432x288 with 1 Axes>"
      ]
     },
     "metadata": {
      "needs_background": "light"
     },
     "output_type": "display_data"
    },
    {
     "data": {
      "text/plain": [
       "[<matplotlib.lines.Line2D at 0x7fbd83f46710>]"
      ]
     },
     "execution_count": 107,
     "metadata": {},
     "output_type": "execute_result"
    },
    {
     "data": {
      "image/png": "[encoded data removed]",
      "text/plain": [
       "<Figure size 432x288 with 1 Axes>"
      ]
     },
     "metadata": {
      "needs_background": "light"
     },
     "output_type": "display_data"
    }
   ],
   "source": [
    "w = jax.random.normal(key, shape=(x.shape[1],))\n",
    "n_loop = 1000\n",
    "lr = 1e-2\n",
    "\n",
    "def net(w, x):\n",
    "    return jnp.dot(x, w)\n",
    "\n",
    "def loss_fn(w, x, y):\n",
    "    y_hat = net(w, x)\n",
    "    return jnp.mean((y_hat - y) ** 2)\n",
    "\n",
    "loss_and_grad = jax.jit(jax.value_and_grad(loss_fn))\n",
    "losses = []\n",
    "for i in range(n_loop):\n",
    "    loss, grads = loss_and_grad(w, x, y)\n",
    "    w = w - lr * grads\n",
    "    losses.append(loss)\n",
    "    # print(f'loss: {loss: .3f}')\n",
    "y_hat = net(w, x)\n",
    "plt.scatter(x[:, 0], y)\n",
    "plt.plot(x[:, 0], y_hat)\n",
    "plt.show()\n",
    "plt.plot(losses)"
   ]
  },
  {
   "cell_type": "code",
   "execution_count": 108,
   "metadata": {},
   "outputs": [],
   "source": [
    "def ls(x, y):\n",
    "    return jnp.dot(jnp.linalg.inv(jnp.dot(x.T, x)), jnp.dot(x.T, y))\n",
    "ls_w = ls(x, y)  # "
   ]
  },
  {
   "cell_type": "code",
   "execution_count": 110,
   "metadata": {},
   "outputs": [
    {
     "data": {
      "text/plain": [
       "[<matplotlib.lines.Line2D at 0x7fbd83de0fa0>]"
      ]
     },
     "execution_count": 110,
     "metadata": {},
     "output_type": "execute_result"
    },
    {
     "data": {
      "image/png": "[encoded data removed]",
      "text/plain": [
       "<Figure size 432x288 with 1 Axes>"
      ]
     },
     "metadata": {
      "needs_background": "light"
     },
     "output_type": "display_data"
    }
   ],
   "source": [
    "y_hat = net(ls_w, x)\n",
    "plt.scatter(x[:, 0], y)\n",
    "plt.plot(x[:, 0], y_hat)"
   ]
  },
  {
   "cell_type": "code",
   "execution_count": 111,
   "metadata": {},
   "outputs": [
    {
     "data": {
      "text/plain": [
       "(DeviceArray([ -3.178947, -22.71388 ], dtype=float32),\n",
       " DeviceArray([ -3.1699734, -22.777412 ], dtype=float32))"
      ]
     },
     "execution_count": 111,
     "metadata": {},
     "output_type": "execute_result"
    }
   ],
   "source": [
    "w, ls_w"
   ]
  }
 ],
 "metadata": {
  "kernelspec": {
   "display_name": "Python 3.10.0 ('mlenv')",
   "language": "python",
   "name": "python3"
  },
  "language_info": {
   "codemirror_mode": {
    "name": "ipython",
    "version": 3
   },
   "file_extension": ".py",
   "mimetype": "text/x-python",
   "name": "python",
   "nbconvert_exporter": "python",
   "pygments_lexer": "ipython3",
   "version": "3.10.0"
  },
  "orig_nbformat": 4,
  "vscode": {
   "interpreter": {
    "hash": "8ae33f7c48cc3e1271596d1bf08ce4d5e6d6f7129ff8bbb83bbb95ed8addff62"
   }
  }
 },
 "nbformat": 4,
 "nbformat_minor": 2
}
