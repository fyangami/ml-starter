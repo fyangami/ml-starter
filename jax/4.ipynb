{
 "cells": [
  {
   "cell_type": "code",
   "execution_count": 1,
   "metadata": {},
   "outputs": [
    {
     "name": "stderr",
     "output_type": "stream",
     "text": [
      "2022-06-23 08:42:12.468069: W external/org_tensorflow/tensorflow/stream_executor/platform/default/dso_loader.cc:64] Could not load dynamic library 'libcudart.so.11.0'; dlerror: libcudart.so.11.0: cannot open shared object file: No such file or directory\n",
      "2022-06-23 08:42:12.490029: W external/org_tensorflow/tensorflow/stream_executor/platform/default/dso_loader.cc:64] Could not load dynamic library 'libcudart.so.11.0'; dlerror: libcudart.so.11.0: cannot open shared object file: No such file or directory\n",
      "2022-06-23 08:42:12.491589: W external/org_tensorflow/tensorflow/stream_executor/platform/default/dso_loader.cc:64] Could not load dynamic library 'libcudart.so.11.0'; dlerror: libcudart.so.11.0: cannot open shared object file: No such file or directory\n",
      "2022-06-23 08:42:12.635115: W external/org_tensorflow/tensorflow/stream_executor/platform/default/dso_loader.cc:64] Could not load dynamic library 'libcuda.so.1'; dlerror: libcuda.so.1: cannot open shared object file: No such file or directory\n",
      "2022-06-23 08:42:12.635149: W external/org_tensorflow/tensorflow/stream_executor/cuda/cuda_driver.cc:269] failed call to cuInit: UNKNOWN ERROR (303)\n",
      "WARNING:absl:No GPU/TPU found, falling back to CPU. (Set TF_CPP_MIN_LOG_LEVEL=0 and rerun for more info.)\n"
     ]
    }
   ],
   "source": [
    "from jaxnn import dataset\n",
    "from jaxnn.model import Model\n",
    "from jaxnn import nn\n",
    "from jaxnn import optimizers\n",
    "from jaxnn import loss\n",
    "import jax\n",
    "from jax import numpy as jnp\n",
    "from matplotlib import pyplot as plt"
   ]
  },
  {
   "cell_type": "code",
   "execution_count": 2,
   "metadata": {},
   "outputs": [],
   "source": [
    "dataloader = dataset.mnist_dataloader(map_fn=lambda x: x / 255., batch_size=256)"
   ]
  },
  {
   "cell_type": "code",
   "execution_count": 3,
   "metadata": {},
   "outputs": [
    {
     "ename": "ValueError",
     "evalue": "Incompatible shapes for broadcasting: ((256, 10), (1, 784))",
     "output_type": "error",
     "traceback": [
      "\u001b[0;31m---------------------------------------------------------------------------\u001b[0m",
      "\u001b[0;31mValueError\u001b[0m                                Traceback (most recent call last)",
      "    \u001b[0;31m[... skipping hidden 1 frame]\u001b[0m\n",
      "File \u001b[0;32m~/.conda/envs/mlenv/lib/python3.10/site-packages/jax/_src/util.py:219\u001b[0m, in \u001b[0;36mcache.<locals>.wrap.<locals>.wrapper\u001b[0;34m(*args, **kwargs)\u001b[0m\n\u001b[1;32m    218\u001b[0m \u001b[39melse\u001b[39;00m:\n\u001b[0;32m--> 219\u001b[0m   \u001b[39mreturn\u001b[39;00m cached(config\u001b[39m.\u001b[39;49m_trace_context(), \u001b[39m*\u001b[39;49margs, \u001b[39m*\u001b[39;49m\u001b[39m*\u001b[39;49mkwargs)\n",
      "File \u001b[0;32m~/.conda/envs/mlenv/lib/python3.10/site-packages/jax/_src/util.py:212\u001b[0m, in \u001b[0;36mcache.<locals>.wrap.<locals>.cached\u001b[0;34m(_, *args, **kwargs)\u001b[0m\n\u001b[1;32m    210\u001b[0m \u001b[39m@functools\u001b[39m\u001b[39m.\u001b[39mlru_cache(max_size)\n\u001b[1;32m    211\u001b[0m \u001b[39mdef\u001b[39;00m \u001b[39mcached\u001b[39m(_, \u001b[39m*\u001b[39margs, \u001b[39m*\u001b[39m\u001b[39m*\u001b[39mkwargs):\n\u001b[0;32m--> 212\u001b[0m   \u001b[39mreturn\u001b[39;00m f(\u001b[39m*\u001b[39;49margs, \u001b[39m*\u001b[39;49m\u001b[39m*\u001b[39;49mkwargs)\n",
      "File \u001b[0;32m~/.conda/envs/mlenv/lib/python3.10/site-packages/jax/_src/lax/lax.py:126\u001b[0m, in \u001b[0;36m_broadcast_shapes_cached\u001b[0;34m(*shapes)\u001b[0m\n\u001b[1;32m    124\u001b[0m \u001b[39m@cache\u001b[39m()\n\u001b[1;32m    125\u001b[0m \u001b[39mdef\u001b[39;00m \u001b[39m_broadcast_shapes_cached\u001b[39m(\u001b[39m*\u001b[39mshapes: Tuple[\u001b[39mint\u001b[39m, \u001b[39m.\u001b[39m\u001b[39m.\u001b[39m\u001b[39m.\u001b[39m]) \u001b[39m-\u001b[39m\u001b[39m>\u001b[39m Tuple[\u001b[39mint\u001b[39m, \u001b[39m.\u001b[39m\u001b[39m.\u001b[39m\u001b[39m.\u001b[39m]:\n\u001b[0;32m--> 126\u001b[0m   \u001b[39mreturn\u001b[39;00m _broadcast_shapes_uncached(\u001b[39m*\u001b[39;49mshapes)\n",
      "File \u001b[0;32m~/.conda/envs/mlenv/lib/python3.10/site-packages/jax/_src/lax/lax.py:142\u001b[0m, in \u001b[0;36m_broadcast_shapes_uncached\u001b[0;34m(*shapes)\u001b[0m\n\u001b[1;32m    141\u001b[0m \u001b[39mif\u001b[39;00m result_shape \u001b[39mis\u001b[39;00m \u001b[39mNone\u001b[39;00m:\n\u001b[0;32m--> 142\u001b[0m   \u001b[39mraise\u001b[39;00m \u001b[39mValueError\u001b[39;00m(\u001b[39m\"\u001b[39m\u001b[39mIncompatible shapes for broadcasting: \u001b[39m\u001b[39m{}\u001b[39;00m\u001b[39m\"\u001b[39m\n\u001b[1;32m    143\u001b[0m                    \u001b[39m.\u001b[39mformat(\u001b[39mtuple\u001b[39m(shape_list)))\n\u001b[1;32m    144\u001b[0m \u001b[39mreturn\u001b[39;00m result_shape\n",
      "\u001b[0;31mValueError\u001b[0m: Incompatible shapes for broadcasting: ((256, 10), (1, 784))",
      "\nDuring handling of the above exception, another exception occurred:\n",
      "\u001b[0;31mValueError\u001b[0m                                Traceback (most recent call last)",
      "\u001b[1;32m/home/fyang/code/ml/ml-starter/jax/4.ipynb Cell 3'\u001b[0m in \u001b[0;36m<cell line: 10>\u001b[0;34m()\u001b[0m\n\u001b[1;32m      <a href='vscode-notebook-cell:/home/fyang/code/ml/ml-starter/jax/4.ipynb#ch0000002?line=0'>1</a>\u001b[0m model \u001b[39m=\u001b[39m Model([\n\u001b[1;32m      <a href='vscode-notebook-cell:/home/fyang/code/ml/ml-starter/jax/4.ipynb#ch0000002?line=1'>2</a>\u001b[0m     nn\u001b[39m.\u001b[39mflatten(),\n\u001b[1;32m      <a href='vscode-notebook-cell:/home/fyang/code/ml/ml-starter/jax/4.ipynb#ch0000002?line=2'>3</a>\u001b[0m     \u001b[39m# nn.dense(256),\u001b[39;00m\n\u001b[0;32m   (...)\u001b[0m\n\u001b[1;32m      <a href='vscode-notebook-cell:/home/fyang/code/ml/ml-starter/jax/4.ipynb#ch0000002?line=7'>8</a>\u001b[0m     nn\u001b[39m.\u001b[39msoftmax()\n\u001b[1;32m      <a href='vscode-notebook-cell:/home/fyang/code/ml/ml-starter/jax/4.ipynb#ch0000002?line=8'>9</a>\u001b[0m ])\n\u001b[0;32m---> <a href='vscode-notebook-cell:/home/fyang/code/ml/ml-starter/jax/4.ipynb#ch0000002?line=9'>10</a>\u001b[0m model\u001b[39m.\u001b[39;49mfit(data_loader\u001b[39m=\u001b[39;49mdataloader,\n\u001b[1;32m     <a href='vscode-notebook-cell:/home/fyang/code/ml/ml-starter/jax/4.ipynb#ch0000002?line=10'>11</a>\u001b[0m           optimizer\u001b[39m=\u001b[39;49moptimizers\u001b[39m.\u001b[39;49msgd(lr\u001b[39m=\u001b[39;49m\u001b[39m1e-1\u001b[39;49m),\n\u001b[1;32m     <a href='vscode-notebook-cell:/home/fyang/code/ml/ml-starter/jax/4.ipynb#ch0000002?line=11'>12</a>\u001b[0m           loss_fn\u001b[39m=\u001b[39;49mloss\u001b[39m.\u001b[39;49mcategorical_cross_entropy(from_logits\u001b[39m=\u001b[39;49m\u001b[39mFalse\u001b[39;49;00m),\n\u001b[1;32m     <a href='vscode-notebook-cell:/home/fyang/code/ml/ml-starter/jax/4.ipynb#ch0000002?line=12'>13</a>\u001b[0m           epochs\u001b[39m=\u001b[39;49m\u001b[39m50\u001b[39;49m,\n\u001b[1;32m     <a href='vscode-notebook-cell:/home/fyang/code/ml/ml-starter/jax/4.ipynb#ch0000002?line=13'>14</a>\u001b[0m           metrics\u001b[39m=\u001b[39;49m[\u001b[39m'\u001b[39;49m\u001b[39maccuracy\u001b[39;49m\u001b[39m'\u001b[39;49m])\n",
      "File \u001b[0;32m~/.conda/envs/mlenv/lib/python3.10/site-packages/jaxnn/model.py:31\u001b[0m, in \u001b[0;36mModel.fit\u001b[0;34m(self, data_loader, optimizer, loss_fn, epochs, metrics, rng, *args, **kwargs)\u001b[0m\n\u001b[1;32m     28\u001b[0m \u001b[39mfor\u001b[39;00m (epoch, (train_iter,\n\u001b[1;32m     29\u001b[0m              (valid_x, valid_y))) \u001b[39min\u001b[39;00m \u001b[39mzip\u001b[39m(\u001b[39mrange\u001b[39m(epochs), data_loader):\n\u001b[1;32m     30\u001b[0m     \u001b[39mfor\u001b[39;00m (x, y) \u001b[39min\u001b[39;00m train_iter:\n\u001b[0;32m---> 31\u001b[0m         loss \u001b[39m=\u001b[39m \u001b[39mself\u001b[39;49m\u001b[39m.\u001b[39;49m_step(x, y, rng)\n\u001b[1;32m     32\u001b[0m     \u001b[39mself\u001b[39m\u001b[39m.\u001b[39m_record(epoch, loss, valid_x, valid_y, metrics)\n",
      "File \u001b[0;32m~/.conda/envs/mlenv/lib/python3.10/site-packages/jaxnn/model.py:59\u001b[0m, in \u001b[0;36mModel._step\u001b[0;34m(self, x, y, rng)\u001b[0m\n\u001b[1;32m     57\u001b[0m \u001b[39mif\u001b[39;00m \u001b[39mself\u001b[39m\u001b[39m.\u001b[39mstate \u001b[39mis\u001b[39;00m \u001b[39mNone\u001b[39;00m:\n\u001b[1;32m     58\u001b[0m     \u001b[39mself\u001b[39m\u001b[39m.\u001b[39mstate \u001b[39m=\u001b[39m \u001b[39mself\u001b[39m\u001b[39m.\u001b[39m_init_fn(x\u001b[39m.\u001b[39mshape[\u001b[39m1\u001b[39m:], rng)\n\u001b[0;32m---> 59\u001b[0m loss, \u001b[39mself\u001b[39m\u001b[39m.\u001b[39mstate \u001b[39m=\u001b[39m \u001b[39mself\u001b[39;49m\u001b[39m.\u001b[39;49m_update(state\u001b[39m=\u001b[39;49m\u001b[39mself\u001b[39;49m\u001b[39m.\u001b[39;49mstate, x\u001b[39m=\u001b[39;49mx, y\u001b[39m=\u001b[39;49my)\n\u001b[1;32m     60\u001b[0m \u001b[39mreturn\u001b[39;00m loss\n",
      "    \u001b[0;31m[... skipping hidden 14 frame]\u001b[0m\n",
      "File \u001b[0;32m~/.conda/envs/mlenv/lib/python3.10/site-packages/jaxnn/model.py:67\u001b[0m, in \u001b[0;36mModel._update\u001b[0;34m(self, state, x, y)\u001b[0m\n\u001b[1;32m     65\u001b[0m \u001b[39m@partial\u001b[39m(jax\u001b[39m.\u001b[39mjit, static_argnums\u001b[39m=\u001b[39m\u001b[39m0\u001b[39m)\n\u001b[1;32m     66\u001b[0m \u001b[39mdef\u001b[39;00m \u001b[39m_update\u001b[39m(\u001b[39mself\u001b[39m, state, x, y):\n\u001b[0;32m---> 67\u001b[0m     loss, grads \u001b[39m=\u001b[39m jax\u001b[39m.\u001b[39;49mvalue_and_grad(\u001b[39mself\u001b[39;49m\u001b[39m.\u001b[39;49m_forward)(state, x, y)\n\u001b[1;32m     68\u001b[0m     \u001b[39mreturn\u001b[39;00m loss, jax\u001b[39m.\u001b[39mtree_util\u001b[39m.\u001b[39mtree_map(\u001b[39mself\u001b[39m\u001b[39m.\u001b[39moptimizer, state, grads)\n",
      "    \u001b[0;31m[... skipping hidden 8 frame]\u001b[0m\n",
      "File \u001b[0;32m~/.conda/envs/mlenv/lib/python3.10/site-packages/jaxnn/model.py:71\u001b[0m, in \u001b[0;36mModel._forward\u001b[0;34m(self, state, x, y)\u001b[0m\n\u001b[1;32m     70\u001b[0m \u001b[39mdef\u001b[39;00m \u001b[39m_forward\u001b[39m(\u001b[39mself\u001b[39m, state, x, y):\n\u001b[0;32m---> 71\u001b[0m     _, y_ \u001b[39m=\u001b[39m \u001b[39mself\u001b[39;49m\u001b[39m.\u001b[39;49m_call_fn(state, x)\n\u001b[1;32m     72\u001b[0m     \u001b[39mreturn\u001b[39;00m \u001b[39mself\u001b[39m\u001b[39m.\u001b[39mloss_fn(y_, y)\n",
      "File \u001b[0;32m~/.conda/envs/mlenv/lib/python3.10/site-packages/jaxnn/nn.py:26\u001b[0m, in \u001b[0;36mnet.<locals>._call\u001b[0;34m(state, x)\u001b[0m\n\u001b[1;32m     24\u001b[0m \u001b[39mdef\u001b[39;00m \u001b[39m_call\u001b[39m(state, x):\n\u001b[1;32m     25\u001b[0m     \u001b[39mfor\u001b[39;00m (_, call), _state \u001b[39min\u001b[39;00m \u001b[39mzip\u001b[39m(layers, state):\n\u001b[0;32m---> 26\u001b[0m         _, x \u001b[39m=\u001b[39m call(_state, x)\n\u001b[1;32m     27\u001b[0m     \u001b[39mreturn\u001b[39;00m state, x\n",
      "File \u001b[0;32m~/.conda/envs/mlenv/lib/python3.10/site-packages/jaxnn/nn.py:60\u001b[0m, in \u001b[0;36mdense.<locals>._call\u001b[0;34m(state, x)\u001b[0m\n\u001b[1;32m     59\u001b[0m \u001b[39mdef\u001b[39;00m \u001b[39m_call\u001b[39m(state, x):\n\u001b[0;32m---> 60\u001b[0m     \u001b[39mreturn\u001b[39;00m state, x \u001b[39m@\u001b[39;49m state[\u001b[39m'\u001b[39;49m\u001b[39mw\u001b[39;49m\u001b[39m'\u001b[39;49m] \u001b[39m+\u001b[39;49m state[\u001b[39m'\u001b[39;49m\u001b[39mb\u001b[39;49m\u001b[39m'\u001b[39;49m]\n",
      "    \u001b[0;31m[... skipping hidden 1 frame]\u001b[0m\n",
      "File \u001b[0;32m~/.conda/envs/mlenv/lib/python3.10/site-packages/jax/_src/numpy/lax_numpy.py:4538\u001b[0m, in \u001b[0;36m_defer_to_unrecognized_arg.<locals>.deferring_binary_op\u001b[0;34m(self, other)\u001b[0m\n\u001b[1;32m   4536\u001b[0m \u001b[39mif\u001b[39;00m \u001b[39mnot\u001b[39;00m \u001b[39misinstance\u001b[39m(other, _accepted_binop_types):\n\u001b[1;32m   4537\u001b[0m   \u001b[39mreturn\u001b[39;00m \u001b[39mNotImplemented\u001b[39m\n\u001b[0;32m-> 4538\u001b[0m \u001b[39mreturn\u001b[39;00m binary_op(\u001b[39mself\u001b[39;49m, other)\n",
      "    \u001b[0;31m[... skipping hidden 13 frame]\u001b[0m\n",
      "File \u001b[0;32m~/.conda/envs/mlenv/lib/python3.10/site-packages/jax/_src/numpy/ufuncs.py:86\u001b[0m, in \u001b[0;36m_maybe_bool_binop.<locals>.fn\u001b[0;34m(x1, x2)\u001b[0m\n\u001b[1;32m     85\u001b[0m \u001b[39mdef\u001b[39;00m \u001b[39mfn\u001b[39m(x1, x2):\n\u001b[0;32m---> 86\u001b[0m   x1, x2 \u001b[39m=\u001b[39m _promote_args(numpy_fn\u001b[39m.\u001b[39;49m\u001b[39m__name__\u001b[39;49m, x1, x2)\n\u001b[1;32m     87\u001b[0m   \u001b[39mreturn\u001b[39;00m lax_fn(x1, x2) \u001b[39mif\u001b[39;00m x1\u001b[39m.\u001b[39mdtype \u001b[39m!=\u001b[39m np\u001b[39m.\u001b[39mbool_ \u001b[39melse\u001b[39;00m bool_lax_fn(x1, x2)\n",
      "File \u001b[0;32m~/.conda/envs/mlenv/lib/python3.10/site-packages/jax/_src/numpy/util.py:318\u001b[0m, in \u001b[0;36m_promote_args\u001b[0;34m(fun_name, *args)\u001b[0m\n\u001b[1;32m    316\u001b[0m _check_arraylike(fun_name, \u001b[39m*\u001b[39margs)\n\u001b[1;32m    317\u001b[0m _check_no_float0s(fun_name, \u001b[39m*\u001b[39margs)\n\u001b[0;32m--> 318\u001b[0m \u001b[39mreturn\u001b[39;00m _promote_shapes(fun_name, \u001b[39m*\u001b[39;49m_promote_dtypes(\u001b[39m*\u001b[39;49margs))\n",
      "File \u001b[0;32m~/.conda/envs/mlenv/lib/python3.10/site-packages/jax/_src/numpy/util.py:227\u001b[0m, in \u001b[0;36m_promote_shapes\u001b[0;34m(fun_name, *args)\u001b[0m\n\u001b[1;32m    225\u001b[0m   \u001b[39mreturn\u001b[39;00m [_broadcast_to(arg, res_shape) \u001b[39mfor\u001b[39;00m arg, shp \u001b[39min\u001b[39;00m \u001b[39mzip\u001b[39m(args, shapes)]\n\u001b[1;32m    226\u001b[0m \u001b[39melse\u001b[39;00m:\n\u001b[0;32m--> 227\u001b[0m   result_rank \u001b[39m=\u001b[39m \u001b[39mlen\u001b[39m(lax\u001b[39m.\u001b[39;49mbroadcast_shapes(\u001b[39m*\u001b[39;49mshapes))\n\u001b[1;32m    228\u001b[0m   \u001b[39mreturn\u001b[39;00m [_broadcast_to(arg, (\u001b[39m1\u001b[39m,) \u001b[39m*\u001b[39m (result_rank \u001b[39m-\u001b[39m \u001b[39mlen\u001b[39m(shp)) \u001b[39m+\u001b[39m shp)\n\u001b[1;32m    229\u001b[0m           \u001b[39mfor\u001b[39;00m arg, shp \u001b[39min\u001b[39;00m \u001b[39mzip\u001b[39m(args, shapes)]\n",
      "    \u001b[0;31m[... skipping hidden 1 frame]\u001b[0m\n",
      "File \u001b[0;32m~/.conda/envs/mlenv/lib/python3.10/site-packages/jax/_src/lax/lax.py:142\u001b[0m, in \u001b[0;36m_broadcast_shapes_uncached\u001b[0;34m(*shapes)\u001b[0m\n\u001b[1;32m    140\u001b[0m result_shape \u001b[39m=\u001b[39m _try_broadcast_shapes(shape_list)\n\u001b[1;32m    141\u001b[0m \u001b[39mif\u001b[39;00m result_shape \u001b[39mis\u001b[39;00m \u001b[39mNone\u001b[39;00m:\n\u001b[0;32m--> 142\u001b[0m   \u001b[39mraise\u001b[39;00m \u001b[39mValueError\u001b[39;00m(\u001b[39m\"\u001b[39m\u001b[39mIncompatible shapes for broadcasting: \u001b[39m\u001b[39m{}\u001b[39;00m\u001b[39m\"\u001b[39m\n\u001b[1;32m    143\u001b[0m                    \u001b[39m.\u001b[39mformat(\u001b[39mtuple\u001b[39m(shape_list)))\n\u001b[1;32m    144\u001b[0m \u001b[39mreturn\u001b[39;00m result_shape\n",
      "\u001b[0;31mValueError\u001b[0m: Incompatible shapes for broadcasting: ((256, 10), (1, 784))"
     ]
    }
   ],
   "source": [
    "model = Model([\n",
    "    nn.flatten(),\n",
    "    # nn.dense(256),\n",
    "    # nn.relu(),\n",
    "    # nn.dense(64),\n",
    "    # nn.relu(),\n",
    "    nn.dense(10),\n",
    "    nn.softmax()\n",
    "])\n",
    "model.fit(data_loader=dataloader,\n",
    "          optimizer=optimizers.sgd(lr=1e-1),\n",
    "          loss_fn=loss.categorical_cross_entropy(from_logits=False),\n",
    "          epochs=50,\n",
    "          metrics=['accuracy'])\n"
   ]
  },
  {
   "cell_type": "code",
   "execution_count": null,
   "metadata": {},
   "outputs": [],
   "source": [
    "x, y = dataset.mnist_testdata()\n",
    "x = x / 255."
   ]
  },
  {
   "cell_type": "code",
   "execution_count": null,
   "metadata": {},
   "outputs": [
    {
     "data": {
      "text/plain": [
       "DeviceArray(0.8941, dtype=float32)"
      ]
     },
     "execution_count": 5,
     "metadata": {},
     "output_type": "execute_result"
    }
   ],
   "source": [
    "y_hat = model.predict(x)\n",
    "model.accuracy(y_hat, y)"
   ]
  },
  {
   "cell_type": "code",
   "execution_count": null,
   "metadata": {},
   "outputs": [
    {
     "data": {
      "image/png": "[encoded data removed]",
      "text/plain": [
       "<Figure size 432x288 with 1 Axes>"
      ]
     },
     "metadata": {
      "needs_background": "light"
     },
     "output_type": "display_data"
    }
   ],
   "source": [
    "l1, = plt.plot(model.losses)\n",
    "l2, = plt.plot(model.valid_losses)\n",
    "plt.legend([l1, l2], ['loss', 'valid loss'])\n",
    "plt.show()"
   ]
  },
  {
   "cell_type": "code",
   "execution_count": null,
   "metadata": {},
   "outputs": [],
   "source": [
    "y_hat = model.predict(x[:10])"
   ]
  },
  {
   "cell_type": "code",
   "execution_count": null,
   "metadata": {},
   "outputs": [
    {
     "data": {
      "text/plain": [
       "(DeviceArray([7, 2, 1, 0, 4, 1, 4, 9, 6, 9], dtype=int32),\n",
       " array([7, 2, 1, 0, 4, 1, 4, 9, 5, 9], dtype=uint8))"
      ]
     },
     "execution_count": 8,
     "metadata": {},
     "output_type": "execute_result"
    }
   ],
   "source": [
    "jnp.argmax(y_hat, axis=1), y[:10]"
   ]
  }
 ],
 "metadata": {
  "kernelspec": {
   "display_name": "Python 3.10.0 ('mlenv')",
   "language": "python",
   "name": "python3"
  },
  "language_info": {
   "codemirror_mode": {
    "name": "ipython",
    "version": 3
   },
   "file_extension": ".py",
   "mimetype": "text/x-python",
   "name": "python",
   "nbconvert_exporter": "python",
   "pygments_lexer": "ipython3",
   "version": "3.10.0"
  },
  "orig_nbformat": 4,
  "vscode": {
   "interpreter": {
    "hash": "8ae33f7c48cc3e1271596d1bf08ce4d5e6d6f7129ff8bbb83bbb95ed8addff62"
   }
  }
 },
 "nbformat": 4,
 "nbformat_minor": 2
}
