{
 "cells": [
  {
   "cell_type": "code",
   "execution_count": 1,
   "metadata": {},
   "outputs": [
    {
     "name": "stderr",
     "output_type": "stream",
     "text": [
      "2022-06-20 19:56:50.871170: W external/org_tensorflow/tensorflow/stream_executor/platform/default/dso_loader.cc:64] Could not load dynamic library 'libcudart.so.11.0'; dlerror: libcudart.so.11.0: cannot open shared object file: No such file or directory\n",
      "2022-06-20 19:56:50.892233: W external/org_tensorflow/tensorflow/stream_executor/platform/default/dso_loader.cc:64] Could not load dynamic library 'libcudart.so.11.0'; dlerror: libcudart.so.11.0: cannot open shared object file: No such file or directory\n",
      "2022-06-20 19:56:50.893543: W external/org_tensorflow/tensorflow/stream_executor/platform/default/dso_loader.cc:64] Could not load dynamic library 'libcudart.so.11.0'; dlerror: libcudart.so.11.0: cannot open shared object file: No such file or directory\n",
      "2022-06-20 19:56:51.073246: W external/org_tensorflow/tensorflow/stream_executor/platform/default/dso_loader.cc:64] Could not load dynamic library 'libcuda.so.1'; dlerror: libcuda.so.1: cannot open shared object file: No such file or directory\n",
      "2022-06-20 19:56:51.073265: W external/org_tensorflow/tensorflow/stream_executor/cuda/cuda_driver.cc:269] failed call to cuInit: UNKNOWN ERROR (303)\n",
      "WARNING:absl:No GPU/TPU found, falling back to CPU. (Set TF_CPP_MIN_LOG_LEVEL=0 and rerun for more info.)\n"
     ]
    }
   ],
   "source": [
    "from jaxnn import dataset\n",
    "from jaxnn.model import Model\n",
    "from jaxnn import nn\n",
    "from jaxnn import optimizers\n",
    "from jaxnn import loss\n",
    "import jax\n",
    "from jax import numpy as jnp"
   ]
  },
  {
   "cell_type": "code",
   "execution_count": 2,
   "metadata": {},
   "outputs": [],
   "source": [
    "dataloader = dataset.mnist(map_fn=lambda x: x / 255.)"
   ]
  },
  {
   "cell_type": "code",
   "execution_count": 3,
   "metadata": {},
   "outputs": [
    {
     "name": "stdout",
     "output_type": "stream",
     "text": [
      "n_in: (28, 28)\n",
      "n_in: 784\n",
      "n_in: 256\n",
      "n_in: 256\n",
      "n_in: 512\n",
      "n_in: 512\n",
      "n_in: 10\n"
     ]
    },
    {
     "ename": "ConcretizationTypeError",
     "evalue": "Abstract tracer value encountered where concrete value is expected: Traced<ShapedArray(uint8[])>with<DynamicJaxprTrace(level=0/1)>\nThe error arose in jax.nn.one_hot argument `num_classes`.\nWhile tracing the function _update at /home/fyang/.conda/envs/mlenv/lib/python3.10/site-packages/jaxnn/model.py:33 for jit, this concrete value was not available in Python because it depends on the value of the argument passed at flattened position 7.\n\nSee https://jax.readthedocs.io/en/latest/errors.html#jax.errors.ConcretizationTypeError",
     "output_type": "error",
     "traceback": [
      "\u001b[0;31m---------------------------------------------------------------------------\u001b[0m",
      "\u001b[0;31mConcretizationTypeError\u001b[0m                   Traceback (most recent call last)",
      "\u001b[1;32m/home/fyang/code/ml/ml-starter/jax/4.ipynb Cell 3'\u001b[0m in \u001b[0;36m<cell line: 10>\u001b[0;34m()\u001b[0m\n\u001b[1;32m      <a href='vscode-notebook-cell:/home/fyang/code/ml/ml-starter/jax/4.ipynb#ch0000009?line=0'>1</a>\u001b[0m model \u001b[39m=\u001b[39m Model([\n\u001b[1;32m      <a href='vscode-notebook-cell:/home/fyang/code/ml/ml-starter/jax/4.ipynb#ch0000009?line=1'>2</a>\u001b[0m     nn\u001b[39m.\u001b[39mflatten(),\n\u001b[1;32m      <a href='vscode-notebook-cell:/home/fyang/code/ml/ml-starter/jax/4.ipynb#ch0000009?line=2'>3</a>\u001b[0m     nn\u001b[39m.\u001b[39mdense(\u001b[39m256\u001b[39m),\n\u001b[0;32m   (...)\u001b[0m\n\u001b[1;32m      <a href='vscode-notebook-cell:/home/fyang/code/ml/ml-starter/jax/4.ipynb#ch0000009?line=7'>8</a>\u001b[0m     nn\u001b[39m.\u001b[39msortmax()\n\u001b[1;32m      <a href='vscode-notebook-cell:/home/fyang/code/ml/ml-starter/jax/4.ipynb#ch0000009?line=8'>9</a>\u001b[0m ])\n\u001b[0;32m---> <a href='vscode-notebook-cell:/home/fyang/code/ml/ml-starter/jax/4.ipynb#ch0000009?line=9'>10</a>\u001b[0m model\u001b[39m.\u001b[39;49mfit(data_loader\u001b[39m=\u001b[39;49mdataloader, optimizer\u001b[39m=\u001b[39;49moptimizers\u001b[39m.\u001b[39;49msgd(lr\u001b[39m=\u001b[39;49m\u001b[39m1e-5\u001b[39;49m), loss_fn\u001b[39m=\u001b[39;49mloss\u001b[39m.\u001b[39;49mcategorical_cross_entropy(), epochs\u001b[39m=\u001b[39;49m\u001b[39m5\u001b[39;49m)\n",
      "File \u001b[0;32m~/.conda/envs/mlenv/lib/python3.10/site-packages/jaxnn/model.py:21\u001b[0m, in \u001b[0;36mModel.fit\u001b[0;34m(self, data_loader, optimizer, loss_fn, epochs, rng, *args, **kwargs)\u001b[0m\n\u001b[1;32m     19\u001b[0m train_iter, test_data \u001b[39m=\u001b[39m \u001b[39mnext\u001b[39m(data_loader)\n\u001b[1;32m     20\u001b[0m \u001b[39mfor\u001b[39;00m (x, y) \u001b[39min\u001b[39;00m train_iter:\n\u001b[0;32m---> 21\u001b[0m     loss \u001b[39m=\u001b[39m \u001b[39mself\u001b[39;49m\u001b[39m.\u001b[39;49mstep(x, y, rng)\n\u001b[1;32m     22\u001b[0m     \u001b[39mself\u001b[39m\u001b[39m.\u001b[39mlosses\u001b[39m.\u001b[39mappend(loss)\n\u001b[1;32m     23\u001b[0m \u001b[39mprint\u001b[39m(\u001b[39mf\u001b[39m\u001b[39m'\u001b[39m\u001b[39mepoch: [\u001b[39m\u001b[39m{\u001b[39;00mepoch \u001b[39m+\u001b[39m \u001b[39m1\u001b[39m\u001b[39m}\u001b[39;00m\u001b[39m\\\\\u001b[39;00m\u001b[39m{\u001b[39;00mepochs\u001b[39m}\u001b[39;00m\u001b[39m -- loss: \u001b[39m\u001b[39m{\u001b[39;00mloss\u001b[39m:\u001b[39;00m\u001b[39m<.3f\u001b[39m\u001b[39m}\u001b[39;00m\u001b[39m'\u001b[39m)\n",
      "File \u001b[0;32m~/.conda/envs/mlenv/lib/python3.10/site-packages/jaxnn/model.py:28\u001b[0m, in \u001b[0;36mModel.step\u001b[0;34m(self, x, y, rng)\u001b[0m\n\u001b[1;32m     26\u001b[0m \u001b[39mif\u001b[39;00m \u001b[39mself\u001b[39m\u001b[39m.\u001b[39mstate \u001b[39mis\u001b[39;00m \u001b[39mNone\u001b[39;00m:\n\u001b[1;32m     27\u001b[0m     \u001b[39mself\u001b[39m\u001b[39m.\u001b[39mstate \u001b[39m=\u001b[39m \u001b[39mself\u001b[39m\u001b[39m.\u001b[39m_init_fn(x\u001b[39m.\u001b[39mshape[\u001b[39m1\u001b[39m:], rng)\n\u001b[0;32m---> 28\u001b[0m loss, \u001b[39mself\u001b[39m\u001b[39m.\u001b[39mstate \u001b[39m=\u001b[39m \u001b[39mself\u001b[39;49m\u001b[39m.\u001b[39;49m_update(state\u001b[39m=\u001b[39;49m\u001b[39mself\u001b[39;49m\u001b[39m.\u001b[39;49mstate,\n\u001b[1;32m     29\u001b[0m                                     x\u001b[39m=\u001b[39;49mx,\n\u001b[1;32m     30\u001b[0m                                     y\u001b[39m=\u001b[39;49my)\n\u001b[1;32m     31\u001b[0m \u001b[39mreturn\u001b[39;00m loss\n",
      "    \u001b[0;31m[... skipping hidden 14 frame]\u001b[0m\n",
      "File \u001b[0;32m~/.conda/envs/mlenv/lib/python3.10/site-packages/jaxnn/model.py:35\u001b[0m, in \u001b[0;36mModel._update\u001b[0;34m(self, state, x, y)\u001b[0m\n\u001b[1;32m     33\u001b[0m \u001b[39m@partial\u001b[39m(jax\u001b[39m.\u001b[39mjit, static_argnums\u001b[39m=\u001b[39m\u001b[39m0\u001b[39m)\n\u001b[1;32m     34\u001b[0m \u001b[39mdef\u001b[39;00m \u001b[39m_update\u001b[39m(\u001b[39mself\u001b[39m, state, x, y):\n\u001b[0;32m---> 35\u001b[0m     loss, grads \u001b[39m=\u001b[39m jax\u001b[39m.\u001b[39;49mvalue_and_grad(\u001b[39mself\u001b[39;49m\u001b[39m.\u001b[39;49m_forward)(state, x, y)\n\u001b[1;32m     36\u001b[0m     \u001b[39mreturn\u001b[39;00m loss, jax\u001b[39m.\u001b[39mtree_util\u001b[39m.\u001b[39mtree_map(\u001b[39mself\u001b[39m\u001b[39m.\u001b[39moptimizer, state, grads)\n",
      "    \u001b[0;31m[... skipping hidden 8 frame]\u001b[0m\n",
      "File \u001b[0;32m~/.conda/envs/mlenv/lib/python3.10/site-packages/jaxnn/model.py:40\u001b[0m, in \u001b[0;36mModel._forward\u001b[0;34m(self, state, x, y)\u001b[0m\n\u001b[1;32m     38\u001b[0m \u001b[39mdef\u001b[39;00m \u001b[39m_forward\u001b[39m(\u001b[39mself\u001b[39m, state, x, y):\n\u001b[1;32m     39\u001b[0m     _, y_ \u001b[39m=\u001b[39m \u001b[39mself\u001b[39m\u001b[39m.\u001b[39m_call_fn(state, x)\n\u001b[0;32m---> 40\u001b[0m     \u001b[39mreturn\u001b[39;00m \u001b[39mself\u001b[39;49m\u001b[39m.\u001b[39;49mloss_fn(y_, y)\n",
      "File \u001b[0;32m~/.conda/envs/mlenv/lib/python3.10/site-packages/jaxnn/loss.py:14\u001b[0m, in \u001b[0;36mcategorical_cross_entropy.<locals>._call\u001b[0;34m(y_hat, y)\u001b[0m\n\u001b[1;32m     13\u001b[0m \u001b[39mdef\u001b[39;00m \u001b[39m_call\u001b[39m(y_hat, y):\n\u001b[0;32m---> 14\u001b[0m     one_hot_y \u001b[39m=\u001b[39m jax\u001b[39m.\u001b[39;49mnn\u001b[39m.\u001b[39;49mone_hot(y, jnp\u001b[39m.\u001b[39;49mmax(y) \u001b[39m+\u001b[39;49m \u001b[39m1\u001b[39;49m)\n\u001b[1;32m     15\u001b[0m     \u001b[39mreturn\u001b[39;00m \u001b[39m-\u001b[39mjnp\u001b[39m.\u001b[39mmean(one_hot_y \u001b[39m*\u001b[39m jnp\u001b[39m.\u001b[39mlog(y_hat))\n",
      "File \u001b[0;32m~/.conda/envs/mlenv/lib/python3.10/site-packages/jax/_src/nn/functions.py:415\u001b[0m, in \u001b[0;36mone_hot\u001b[0;34m(x, num_classes, dtype, axis)\u001b[0m\n\u001b[1;32m    390\u001b[0m \u001b[39mdef\u001b[39;00m \u001b[39mone_hot\u001b[39m(x: Array, num_classes: \u001b[39mint\u001b[39m, \u001b[39m*\u001b[39m,\n\u001b[1;32m    391\u001b[0m             dtype: Any \u001b[39m=\u001b[39m jnp\u001b[39m.\u001b[39mfloat_, axis: Union[\u001b[39mint\u001b[39m, AxisName] \u001b[39m=\u001b[39m \u001b[39m-\u001b[39m\u001b[39m1\u001b[39m) \u001b[39m-\u001b[39m\u001b[39m>\u001b[39m Array:\n\u001b[1;32m    392\u001b[0m   \u001b[39m\"\"\"One-hot encodes the given indicies.\u001b[39;00m\n\u001b[1;32m    393\u001b[0m \n\u001b[1;32m    394\u001b[0m \u001b[39m  Each index in the input ``x`` is encoded as a vector of zeros of length\u001b[39;00m\n\u001b[0;32m   (...)\u001b[0m\n\u001b[1;32m    413\u001b[0m \u001b[39m      computed.\u001b[39;00m\n\u001b[1;32m    414\u001b[0m \u001b[39m  \"\"\"\u001b[39;00m\n\u001b[0;32m--> 415\u001b[0m   num_classes \u001b[39m=\u001b[39m core\u001b[39m.\u001b[39;49mconcrete_or_error(\n\u001b[1;32m    416\u001b[0m       \u001b[39mint\u001b[39;49m, num_classes,\n\u001b[1;32m    417\u001b[0m       \u001b[39m\"\u001b[39;49m\u001b[39mThe error arose in jax.nn.one_hot argument `num_classes`.\u001b[39;49m\u001b[39m\"\u001b[39;49m)\n\u001b[1;32m    418\u001b[0m   \u001b[39mreturn\u001b[39;00m _one_hot(x, num_classes, dtype\u001b[39m=\u001b[39mdtype, axis\u001b[39m=\u001b[39maxis)\n",
      "File \u001b[0;32m~/.conda/envs/mlenv/lib/python3.10/site-packages/jax/core.py:1134\u001b[0m, in \u001b[0;36mconcrete_or_error\u001b[0;34m(force, val, context)\u001b[0m\n\u001b[1;32m   1132\u001b[0m     \u001b[39mreturn\u001b[39;00m force(val\u001b[39m.\u001b[39maval\u001b[39m.\u001b[39mval)\n\u001b[1;32m   1133\u001b[0m   \u001b[39melse\u001b[39;00m:\n\u001b[0;32m-> 1134\u001b[0m     \u001b[39mraise\u001b[39;00m ConcretizationTypeError(val, context)\n\u001b[1;32m   1135\u001b[0m \u001b[39melse\u001b[39;00m:\n\u001b[1;32m   1136\u001b[0m   \u001b[39mreturn\u001b[39;00m force(val)\n",
      "\u001b[0;31mConcretizationTypeError\u001b[0m: Abstract tracer value encountered where concrete value is expected: Traced<ShapedArray(uint8[])>with<DynamicJaxprTrace(level=0/1)>\nThe error arose in jax.nn.one_hot argument `num_classes`.\nWhile tracing the function _update at /home/fyang/.conda/envs/mlenv/lib/python3.10/site-packages/jaxnn/model.py:33 for jit, this concrete value was not available in Python because it depends on the value of the argument passed at flattened position 7.\n\nSee https://jax.readthedocs.io/en/latest/errors.html#jax.errors.ConcretizationTypeError"
     ]
    }
   ],
   "source": [
    "model = Model([\n",
    "    nn.flatten(),\n",
    "    nn.dense(256),\n",
    "    nn.relu(),\n",
    "    nn.dense(512),\n",
    "    nn.relu(),\n",
    "    nn.dense(10),\n",
    "    nn.sortmax()\n",
    "])\n",
    "model.fit(data_loader=dataloader, optimizer=optimizers.sgd(lr=1e-5), loss_fn=loss.categorical_cross_entropy(), epochs=5)"
   ]
  }
 ],
 "metadata": {
  "kernelspec": {
   "display_name": "Python 3.10.0 ('mlenv')",
   "language": "python",
   "name": "python3"
  },
  "language_info": {
   "codemirror_mode": {
    "name": "ipython",
    "version": 3
   },
   "file_extension": ".py",
   "mimetype": "text/x-python",
   "name": "python",
   "nbconvert_exporter": "python",
   "pygments_lexer": "ipython3",
   "version": "3.10.0"
  },
  "orig_nbformat": 4,
  "vscode": {
   "interpreter": {
    "hash": "8ae33f7c48cc3e1271596d1bf08ce4d5e6d6f7129ff8bbb83bbb95ed8addff62"
   }
  }
 },
 "nbformat": 4,
 "nbformat_minor": 2
}
