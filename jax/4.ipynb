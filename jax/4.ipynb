{
 "cells": [
  {
   "cell_type": "code",
   "execution_count": 4,
   "metadata": {},
   "outputs": [],
   "source": [
    "from jaxnn import dataset\n",
    "from jaxnn.model import Model\n",
    "from jaxnn import nn\n",
    "from jaxnn import optimizers\n",
    "from jaxnn import loss\n",
    "import jax\n",
    "from jax import numpy as jnp\n",
    "from matplotlib import pyplot as plt"
   ]
  },
  {
   "cell_type": "code",
   "execution_count": 5,
   "metadata": {},
   "outputs": [],
   "source": [
    "dataloader, cls_map = dataset.mnist_dataloader('train', batch_size=256)"
   ]
  },
  {
   "cell_type": "code",
   "execution_count": 6,
   "metadata": {},
   "outputs": [
    {
     "name": "stdout",
     "output_type": "stream",
     "text": [
      "epoch: [  1\\50 -------------------- loss: 0.835 valid loss: 0.841 valid accuracy: 0.754\n",
      "epoch: [  2\\50 -------------------- loss: 0.516 valid loss: 0.520 valid accuracy: 0.847\n",
      "epoch: [  3\\50 #------------------- loss: 0.428 valid loss: 0.431 valid accuracy: 0.874\n",
      "epoch: [  4\\50 #------------------- loss: 0.375 valid loss: 0.376 valid accuracy: 0.891\n",
      "epoch: [  5\\50 ##------------------ loss: 0.336 valid loss: 0.352 valid accuracy: 0.898\n",
      "epoch: [  6\\50 ##------------------ loss: 0.305 valid loss: 0.331 valid accuracy: 0.905\n",
      "epoch: [  7\\50 ##------------------ loss: 0.280 valid loss: 0.309 valid accuracy: 0.913\n",
      "epoch: [  8\\50 ###----------------- loss: 0.258 valid loss: 0.298 valid accuracy: 0.914\n",
      "epoch: [  9\\50 ###----------------- loss: 0.240 valid loss: 0.284 valid accuracy: 0.920\n",
      "epoch: [ 10\\50 ####---------------- loss: 0.224 valid loss: 0.271 valid accuracy: 0.922\n",
      "epoch: [ 11\\50 ####---------------- loss: 0.210 valid loss: 0.270 valid accuracy: 0.923\n",
      "epoch: [ 12\\50 ####---------------- loss: 0.197 valid loss: 0.253 valid accuracy: 0.926\n",
      "epoch: [ 13\\50 #####--------------- loss: 0.185 valid loss: 0.255 valid accuracy: 0.925\n",
      "epoch: [ 14\\50 #####--------------- loss: 0.175 valid loss: 0.247 valid accuracy: 0.928\n",
      "epoch: [ 15\\50 ######-------------- loss: 0.166 valid loss: 0.241 valid accuracy: 0.929\n",
      "epoch: [ 16\\50 ######-------------- loss: 0.157 valid loss: 0.242 valid accuracy: 0.929\n",
      "epoch: [ 17\\50 ######-------------- loss: 0.148 valid loss: 0.241 valid accuracy: 0.928\n",
      "epoch: [ 18\\50 #######------------- loss: 0.141 valid loss: 0.237 valid accuracy: 0.929\n",
      "epoch: [ 19\\50 #######------------- loss: 0.134 valid loss: 0.228 valid accuracy: 0.930\n",
      "epoch: [ 20\\50 ########------------ loss: 0.127 valid loss: 0.224 valid accuracy: 0.934\n",
      "epoch: [ 21\\50 ########------------ loss: 0.121 valid loss: 0.228 valid accuracy: 0.933\n",
      "epoch: [ 22\\50 ########------------ loss: 0.115 valid loss: 0.221 valid accuracy: 0.935\n",
      "epoch: [ 23\\50 #########----------- loss: 0.110 valid loss: 0.222 valid accuracy: 0.935\n",
      "epoch: [ 24\\50 #########----------- loss: 0.105 valid loss: 0.225 valid accuracy: 0.932\n",
      "epoch: [ 25\\50 ##########---------- loss: 0.100 valid loss: 0.225 valid accuracy: 0.934\n",
      "epoch: [ 26\\50 ##########---------- loss: 0.096 valid loss: 0.225 valid accuracy: 0.934\n",
      "epoch: [ 27\\50 ##########---------- loss: 0.091 valid loss: 0.223 valid accuracy: 0.935\n",
      "epoch: [ 28\\50 ###########--------- loss: 0.088 valid loss: 0.232 valid accuracy: 0.933\n",
      "epoch: [ 29\\50 ###########--------- loss: 0.083 valid loss: 0.219 valid accuracy: 0.935\n",
      "epoch: [ 30\\50 ############-------- loss: 0.079 valid loss: 0.221 valid accuracy: 0.934\n",
      "epoch: [ 31\\50 ############-------- loss: 0.075 valid loss: 0.223 valid accuracy: 0.935\n",
      "epoch: [ 32\\50 ############-------- loss: 0.072 valid loss: 0.224 valid accuracy: 0.933\n",
      "epoch: [ 33\\50 #############------- loss: 0.068 valid loss: 0.221 valid accuracy: 0.935\n",
      "epoch: [ 34\\50 #############------- loss: 0.065 valid loss: 0.220 valid accuracy: 0.936\n",
      "epoch: [ 35\\50 ##############------ loss: 0.061 valid loss: 0.222 valid accuracy: 0.934\n",
      "epoch: [ 36\\50 ##############------ loss: 0.059 valid loss: 0.220 valid accuracy: 0.937\n",
      "epoch: [ 37\\50 ##############------ loss: 0.056 valid loss: 0.216 valid accuracy: 0.935\n",
      "epoch: [ 38\\50 ###############----- loss: 0.053 valid loss: 0.223 valid accuracy: 0.935\n",
      "epoch: [ 39\\50 ###############----- loss: 0.051 valid loss: 0.214 valid accuracy: 0.934\n",
      "epoch: [ 40\\50 ################---- loss: 0.048 valid loss: 0.233 valid accuracy: 0.934\n",
      "epoch: [ 41\\50 ################---- loss: 0.047 valid loss: 0.226 valid accuracy: 0.936\n",
      "epoch: [ 42\\50 ################---- loss: 0.044 valid loss: 0.218 valid accuracy: 0.936\n",
      "epoch: [ 43\\50 #################--- loss: 0.042 valid loss: 0.233 valid accuracy: 0.933\n",
      "epoch: [ 44\\50 #################--- loss: 0.041 valid loss: 0.237 valid accuracy: 0.935\n",
      "epoch: [ 45\\50 ##################-- loss: 0.039 valid loss: 0.222 valid accuracy: 0.938\n",
      "epoch: [ 46\\50 ##################-- loss: 0.038 valid loss: 0.225 valid accuracy: 0.934\n",
      "epoch: [ 47\\50 ##################-- loss: 0.036 valid loss: 0.240 valid accuracy: 0.935\n",
      "epoch: [ 48\\50 ###################- loss: 0.035 valid loss: 0.225 valid accuracy: 0.937\n",
      "epoch: [ 49\\50 ###################- loss: 0.034 valid loss: 0.230 valid accuracy: 0.935\n",
      "epoch: [ 50\\50 #################### loss: 0.032 valid loss: 0.235 valid accuracy: 0.936\n"
     ]
    }
   ],
   "source": [
    "model = Model([\n",
    "    nn.flatten(),\n",
    "    nn.dense(256),\n",
    "    nn.relu(),\n",
    "    nn.dropout(),\n",
    "    # nn.dense(64),\n",
    "    # nn.relu(),\n",
    "    nn.dense(10),\n",
    "    nn.softmax()\n",
    "])\n",
    "model.fit(data_loader=dataloader,\n",
    "          optimizer=optimizers.sgd(lr=1e-1),\n",
    "          loss_fn=loss.categorical_cross_entropy(from_logits=False),\n",
    "          epochs=50,\n",
    "          metrics=['accuracy'])\n"
   ]
  },
  {
   "cell_type": "code",
   "execution_count": 7,
   "metadata": {},
   "outputs": [],
   "source": [
    "x, y = dataset.mnist_testdata()\n",
    "x = x / 255."
   ]
  },
  {
   "cell_type": "code",
   "execution_count": 8,
   "metadata": {},
   "outputs": [
    {
     "data": {
      "text/plain": [
       "DeviceArray(0.9379, dtype=float32)"
      ]
     },
     "execution_count": 8,
     "metadata": {},
     "output_type": "execute_result"
    }
   ],
   "source": [
    "y_hat = model.predict(x)\n",
    "model.accuracy(y_hat, y)"
   ]
  },
  {
   "cell_type": "code",
   "execution_count": 9,
   "metadata": {},
   "outputs": [
    {
     "data": {
      "image/png": "[encoded data removed]",
      "text/plain": [
       "<Figure size 432x288 with 1 Axes>"
      ]
     },
     "metadata": {
      "needs_background": "light"
     },
     "output_type": "display_data"
    }
   ],
   "source": [
    "l1, = plt.plot(model.losses)\n",
    "l2, = plt.plot(model.valid_losses)\n",
    "plt.legend([l1, l2], ['loss', 'valid loss'])\n",
    "plt.show()"
   ]
  },
  {
   "cell_type": "code",
   "execution_count": 10,
   "metadata": {},
   "outputs": [],
   "source": [
    "y_hat = model.predict(x[:10])"
   ]
  },
  {
   "cell_type": "code",
   "execution_count": 11,
   "metadata": {},
   "outputs": [
    {
     "data": {
      "text/plain": [
       "(DeviceArray([7, 2, 1, 0, 4, 1, 4, 9, 6, 9], dtype=int32),\n",
       " array([7, 2, 1, 0, 4, 1, 4, 9, 5, 9], dtype=uint8))"
      ]
     },
     "execution_count": 11,
     "metadata": {},
     "output_type": "execute_result"
    }
   ],
   "source": [
    "jnp.argmax(y_hat, axis=1), y[:10]"
   ]
  }
 ],
 "metadata": {
  "kernelspec": {
   "display_name": "Python 3.10.0 ('mlenv')",
   "language": "python",
   "name": "python3"
  },
  "language_info": {
   "codemirror_mode": {
    "name": "ipython",
    "version": 3
   },
   "file_extension": ".py",
   "mimetype": "text/x-python",
   "name": "python",
   "nbconvert_exporter": "python",
   "pygments_lexer": "ipython3",
   "version": "3.10.0"
  },
  "orig_nbformat": 4,
  "vscode": {
   "interpreter": {
    "hash": "8ae33f7c48cc3e1271596d1bf08ce4d5e6d6f7129ff8bbb83bbb95ed8addff62"
   }
  }
 },
 "nbformat": 4,
 "nbformat_minor": 2
}
