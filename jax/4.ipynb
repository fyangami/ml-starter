{
 "cells": [
  {
   "cell_type": "code",
   "execution_count": 1,
   "metadata": {},
   "outputs": [
    {
     "name": "stderr",
     "output_type": "stream",
     "text": [
      "2022-06-21 15:52:14.379413: W external/org_tensorflow/tensorflow/stream_executor/platform/default/dso_loader.cc:64] Could not load dynamic library 'libcudart.so.11.0'; dlerror: libcudart.so.11.0: cannot open shared object file: No such file or directory\n",
      "2022-06-21 15:52:14.401349: W external/org_tensorflow/tensorflow/stream_executor/platform/default/dso_loader.cc:64] Could not load dynamic library 'libcudart.so.11.0'; dlerror: libcudart.so.11.0: cannot open shared object file: No such file or directory\n",
      "2022-06-21 15:52:14.403104: W external/org_tensorflow/tensorflow/stream_executor/platform/default/dso_loader.cc:64] Could not load dynamic library 'libcudart.so.11.0'; dlerror: libcudart.so.11.0: cannot open shared object file: No such file or directory\n",
      "2022-06-21 15:52:14.579654: W external/org_tensorflow/tensorflow/stream_executor/platform/default/dso_loader.cc:64] Could not load dynamic library 'libcuda.so.1'; dlerror: libcuda.so.1: cannot open shared object file: No such file or directory\n",
      "2022-06-21 15:52:14.579675: W external/org_tensorflow/tensorflow/stream_executor/cuda/cuda_driver.cc:269] failed call to cuInit: UNKNOWN ERROR (303)\n",
      "WARNING:absl:No GPU/TPU found, falling back to CPU. (Set TF_CPP_MIN_LOG_LEVEL=0 and rerun for more info.)\n"
     ]
    }
   ],
   "source": [
    "from jaxnn import dataset\n",
    "from jaxnn.model import Model\n",
    "from jaxnn import nn\n",
    "from jaxnn import optimizers\n",
    "from jaxnn import loss\n",
    "import jax\n",
    "from jax import numpy as jnp\n",
    "from matplotlib import pyplot as plt"
   ]
  },
  {
   "cell_type": "code",
   "execution_count": 2,
   "metadata": {},
   "outputs": [],
   "source": [
    "dataloader = dataset.mnist_dataloader(map_fn=lambda x: x / 255., batch_size=400)"
   ]
  },
  {
   "cell_type": "code",
   "execution_count": 8,
   "metadata": {},
   "outputs": [
    {
     "name": "stdout",
     "output_type": "stream",
     "text": [
      "epoch: [  1\\200 -------------------- loss: 16.235 valid loss: 16.210 valid accuracy: 0.217\n",
      "epoch: [  2\\200 -------------------- loss: 15.291 valid loss: 15.276 valid accuracy: 0.262\n",
      "epoch: [  3\\200 -------------------- loss: 14.092 valid loss: 14.485 valid accuracy: 0.300\n",
      "epoch: [  4\\200 -------------------- loss: 13.677 valid loss: 13.841 valid accuracy: 0.331\n",
      "epoch: [  5\\200 -------------------- loss: 13.990 valid loss: 13.238 valid accuracy: 0.360\n",
      "epoch: [  6\\200 -------------------- loss: 13.367 valid loss: 12.673 valid accuracy: 0.388\n",
      "epoch: [  7\\200 -------------------- loss: 12.538 valid loss: 12.358 valid accuracy: 0.403\n",
      "epoch: [  8\\200 -------------------- loss: 11.663 valid loss: 12.077 valid accuracy: 0.417\n",
      "epoch: [  9\\200 -------------------- loss: 11.398 valid loss: 11.844 valid accuracy: 0.428\n",
      "epoch: [ 10\\200 #------------------- loss: 12.299 valid loss: 11.543 valid accuracy: 0.442\n",
      "epoch: [ 11\\200 #------------------- loss: 11.191 valid loss: 10.888 valid accuracy: 0.474\n",
      "epoch: [ 12\\200 #------------------- loss: 10.776 valid loss: 10.535 valid accuracy: 0.491\n",
      "epoch: [ 13\\200 #------------------- loss: 10.621 valid loss: 10.215 valid accuracy: 0.507\n",
      "epoch: [ 14\\200 #------------------- loss: 10.776 valid loss: 10.055 valid accuracy: 0.514\n",
      "epoch: [ 15\\200 #------------------- loss: 9.688 valid loss: 9.915 valid accuracy: 0.521\n",
      "epoch: [ 16\\200 #------------------- loss: 8.942 valid loss: 9.890 valid accuracy: 0.522\n",
      "epoch: [ 17\\200 #------------------- loss: 9.844 valid loss: 9.803 valid accuracy: 0.526\n",
      "epoch: [ 18\\200 #------------------- loss: 9.792 valid loss: 9.675 valid accuracy: 0.533\n",
      "epoch: [ 19\\200 #------------------- loss: 9.533 valid loss: 9.722 valid accuracy: 0.530\n",
      "epoch: [ 20\\200 ##------------------ loss: 10.399 valid loss: 9.662 valid accuracy: 0.533\n",
      "epoch: [ 21\\200 ##------------------ loss: 10.362 valid loss: 9.538 valid accuracy: 0.539\n",
      "epoch: [ 22\\200 ##------------------ loss: 9.771 valid loss: 9.519 valid accuracy: 0.540\n",
      "epoch: [ 23\\200 ##------------------ loss: 9.325 valid loss: 9.436 valid accuracy: 0.544\n",
      "epoch: [ 24\\200 ##------------------ loss: 9.792 valid loss: 9.418 valid accuracy: 0.545\n",
      "epoch: [ 25\\200 ##------------------ loss: 9.465 valid loss: 9.370 valid accuracy: 0.548\n",
      "epoch: [ 26\\200 ##------------------ loss: 8.859 valid loss: 9.132 valid accuracy: 0.558\n",
      "epoch: [ 27\\200 ##------------------ loss: 8.342 valid loss: 8.801 valid accuracy: 0.574\n",
      "epoch: [ 28\\200 ##------------------ loss: 8.911 valid loss: 8.554 valid accuracy: 0.586\n",
      "epoch: [ 29\\200 ##------------------ loss: 8.741 valid loss: 8.190 valid accuracy: 0.604\n",
      "epoch: [ 30\\200 ###----------------- loss: 7.841 valid loss: 7.990 valid accuracy: 0.614\n",
      "epoch: [ 31\\200 ###----------------- loss: 8.015 valid loss: 8.088 valid accuracy: 0.609\n",
      "epoch: [ 32\\200 ###----------------- loss: 7.533 valid loss: 7.954 valid accuracy: 0.615\n",
      "epoch: [ 33\\200 ###----------------- loss: 7.512 valid loss: 7.790 valid accuracy: 0.623\n",
      "epoch: [ 34\\200 ###----------------- loss: 7.978 valid loss: 7.902 valid accuracy: 0.618\n",
      "epoch: [ 35\\200 ###----------------- loss: 8.289 valid loss: 7.861 valid accuracy: 0.620\n",
      "epoch: [ 36\\200 ###----------------- loss: 7.357 valid loss: 7.720 valid accuracy: 0.627\n",
      "epoch: [ 37\\200 ###----------------- loss: 7.771 valid loss: 7.707 valid accuracy: 0.627\n",
      "epoch: [ 38\\200 ###----------------- loss: 7.668 valid loss: 7.492 valid accuracy: 0.638\n",
      "epoch: [ 39\\200 ###----------------- loss: 7.460 valid loss: 7.730 valid accuracy: 0.626\n",
      "epoch: [ 40\\200 ####---------------- loss: 8.134 valid loss: 7.532 valid accuracy: 0.636\n",
      "epoch: [ 41\\200 ####---------------- loss: 7.875 valid loss: 7.619 valid accuracy: 0.632\n",
      "epoch: [ 42\\200 ####---------------- loss: 7.485 valid loss: 7.570 valid accuracy: 0.634\n",
      "epoch: [ 43\\200 ####---------------- loss: 6.640 valid loss: 7.402 valid accuracy: 0.642\n",
      "epoch: [ 44\\200 ####---------------- loss: 6.879 valid loss: 7.494 valid accuracy: 0.637\n",
      "epoch: [ 45\\200 ####---------------- loss: 6.994 valid loss: 7.600 valid accuracy: 0.633\n",
      "epoch: [ 46\\200 ####---------------- loss: 6.580 valid loss: 7.476 valid accuracy: 0.639\n",
      "epoch: [ 47\\200 ####---------------- loss: 7.013 valid loss: 7.547 valid accuracy: 0.635\n",
      "epoch: [ 48\\200 ####---------------- loss: 7.668 valid loss: 7.478 valid accuracy: 0.639\n",
      "epoch: [ 49\\200 ####---------------- loss: 7.940 valid loss: 7.424 valid accuracy: 0.641\n",
      "epoch: [ 50\\200 #####--------------- loss: 7.201 valid loss: 7.422 valid accuracy: 0.641\n",
      "epoch: [ 51\\200 #####--------------- loss: 7.253 valid loss: 7.299 valid accuracy: 0.647\n",
      "epoch: [ 52\\200 #####--------------- loss: 6.839 valid loss: 7.403 valid accuracy: 0.642\n",
      "epoch: [ 53\\200 #####--------------- loss: 7.409 valid loss: 7.387 valid accuracy: 0.643\n",
      "epoch: [ 54\\200 #####--------------- loss: 8.445 valid loss: 7.499 valid accuracy: 0.638\n",
      "epoch: [ 55\\200 #####--------------- loss: 7.409 valid loss: 7.351 valid accuracy: 0.645\n",
      "epoch: [ 56\\200 #####--------------- loss: 7.046 valid loss: 7.231 valid accuracy: 0.651\n",
      "epoch: [ 57\\200 #####--------------- loss: 7.174 valid loss: 7.439 valid accuracy: 0.641\n",
      "epoch: [ 58\\200 #####--------------- loss: 8.186 valid loss: 7.263 valid accuracy: 0.649\n",
      "epoch: [ 59\\200 #####--------------- loss: 7.047 valid loss: 7.382 valid accuracy: 0.643\n",
      "epoch: [ 60\\200 ######-------------- loss: 7.253 valid loss: 7.446 valid accuracy: 0.640\n",
      "epoch: [ 61\\200 ######-------------- loss: 7.201 valid loss: 7.404 valid accuracy: 0.642\n",
      "epoch: [ 62\\200 ######-------------- loss: 6.735 valid loss: 7.129 valid accuracy: 0.655\n",
      "epoch: [ 63\\200 ######-------------- loss: 6.867 valid loss: 7.474 valid accuracy: 0.639\n",
      "epoch: [ 64\\200 ######-------------- loss: 7.098 valid loss: 7.185 valid accuracy: 0.653\n",
      "epoch: [ 65\\200 ######-------------- loss: 8.226 valid loss: 7.341 valid accuracy: 0.645\n",
      "epoch: [ 66\\200 ######-------------- loss: 6.631 valid loss: 7.118 valid accuracy: 0.656\n",
      "epoch: [ 67\\200 ######-------------- loss: 6.839 valid loss: 7.165 valid accuracy: 0.654\n",
      "epoch: [ 68\\200 ######-------------- loss: 7.150 valid loss: 7.265 valid accuracy: 0.649\n",
      "epoch: [ 69\\200 ######-------------- loss: 6.580 valid loss: 7.265 valid accuracy: 0.649\n",
      "epoch: [ 70\\200 #######------------- loss: 7.150 valid loss: 7.083 valid accuracy: 0.658\n",
      "epoch: [ 71\\200 #######------------- loss: 7.927 valid loss: 7.125 valid accuracy: 0.656\n",
      "epoch: [ 72\\200 #######------------- loss: 6.787 valid loss: 7.304 valid accuracy: 0.647\n",
      "epoch: [ 73\\200 #######------------- loss: 7.046 valid loss: 7.083 valid accuracy: 0.658\n",
      "epoch: [ 74\\200 #######------------- loss: 6.476 valid loss: 7.274 valid accuracy: 0.648\n",
      "epoch: [ 75\\200 #######------------- loss: 7.512 valid loss: 7.157 valid accuracy: 0.654\n",
      "epoch: [ 76\\200 #######------------- loss: 6.931 valid loss: 7.147 valid accuracy: 0.655\n",
      "epoch: [ 77\\200 #######------------- loss: 6.598 valid loss: 7.158 valid accuracy: 0.654\n",
      "epoch: [ 78\\200 #######------------- loss: 6.344 valid loss: 7.148 valid accuracy: 0.655\n",
      "epoch: [ 79\\200 #######------------- loss: 7.305 valid loss: 7.234 valid accuracy: 0.650\n",
      "epoch: [ 80\\200 ########------------ loss: 6.942 valid loss: 7.263 valid accuracy: 0.649\n",
      "epoch: [ 81\\200 ########------------ loss: 7.201 valid loss: 7.268 valid accuracy: 0.649\n",
      "epoch: [ 82\\200 ########------------ loss: 6.869 valid loss: 7.141 valid accuracy: 0.655\n",
      "epoch: [ 83\\200 ########------------ loss: 7.442 valid loss: 7.138 valid accuracy: 0.655\n",
      "epoch: [ 84\\200 ########------------ loss: 7.771 valid loss: 7.042 valid accuracy: 0.660\n",
      "epoch: [ 85\\200 ########------------ loss: 7.564 valid loss: 7.150 valid accuracy: 0.655\n",
      "epoch: [ 86\\200 ########------------ loss: 6.683 valid loss: 7.042 valid accuracy: 0.660\n",
      "epoch: [ 87\\200 ########------------ loss: 6.683 valid loss: 7.068 valid accuracy: 0.659\n",
      "epoch: [ 88\\200 ########------------ loss: 6.164 valid loss: 7.051 valid accuracy: 0.660\n",
      "epoch: [ 89\\200 ########------------ loss: 7.187 valid loss: 7.035 valid accuracy: 0.660\n",
      "epoch: [ 90\\200 #########----------- loss: 7.088 valid loss: 7.103 valid accuracy: 0.657\n",
      "epoch: [ 91\\200 #########----------- loss: 6.321 valid loss: 7.042 valid accuracy: 0.660\n",
      "epoch: [ 92\\200 #########----------- loss: 7.253 valid loss: 7.156 valid accuracy: 0.655\n",
      "epoch: [ 93\\200 #########----------- loss: 7.258 valid loss: 7.011 valid accuracy: 0.661\n",
      "epoch: [ 94\\200 #########----------- loss: 6.787 valid loss: 7.010 valid accuracy: 0.661\n",
      "epoch: [ 95\\200 #########----------- loss: 7.098 valid loss: 7.119 valid accuracy: 0.656\n",
      "epoch: [ 96\\200 #########----------- loss: 6.787 valid loss: 6.972 valid accuracy: 0.663\n",
      "epoch: [ 97\\200 #########----------- loss: 6.269 valid loss: 7.146 valid accuracy: 0.655\n",
      "epoch: [ 98\\200 #########----------- loss: 6.165 valid loss: 7.010 valid accuracy: 0.661\n",
      "epoch: [ 99\\200 #########----------- loss: 7.305 valid loss: 7.097 valid accuracy: 0.657\n",
      "epoch: [100\\200 ##########---------- loss: 6.890 valid loss: 6.966 valid accuracy: 0.664\n",
      "epoch: [101\\200 ##########---------- loss: 7.305 valid loss: 7.190 valid accuracy: 0.653\n",
      "epoch: [102\\200 ##########---------- loss: 7.616 valid loss: 7.123 valid accuracy: 0.656\n",
      "epoch: [103\\200 ##########---------- loss: 7.564 valid loss: 7.063 valid accuracy: 0.659\n",
      "epoch: [104\\200 ##########---------- loss: 7.564 valid loss: 7.129 valid accuracy: 0.655\n",
      "epoch: [105\\200 ##########---------- loss: 7.043 valid loss: 6.855 valid accuracy: 0.669\n",
      "epoch: [106\\200 ##########---------- loss: 7.201 valid loss: 7.050 valid accuracy: 0.660\n",
      "epoch: [107\\200 ##########---------- loss: 7.150 valid loss: 7.068 valid accuracy: 0.659\n",
      "epoch: [108\\200 ##########---------- loss: 7.409 valid loss: 6.934 valid accuracy: 0.665\n",
      "epoch: [109\\200 ##########---------- loss: 6.165 valid loss: 7.007 valid accuracy: 0.662\n",
      "epoch: [110\\200 ###########--------- loss: 7.035 valid loss: 7.054 valid accuracy: 0.660\n",
      "epoch: [111\\200 ###########--------- loss: 7.817 valid loss: 7.029 valid accuracy: 0.660\n",
      "epoch: [112\\200 ###########--------- loss: 7.357 valid loss: 7.061 valid accuracy: 0.659\n",
      "epoch: [113\\200 ###########--------- loss: 7.266 valid loss: 7.088 valid accuracy: 0.658\n",
      "epoch: [114\\200 ###########--------- loss: 6.839 valid loss: 7.092 valid accuracy: 0.658\n",
      "epoch: [115\\200 ###########--------- loss: 7.046 valid loss: 7.188 valid accuracy: 0.653\n",
      "epoch: [116\\200 ###########--------- loss: 6.890 valid loss: 7.131 valid accuracy: 0.656\n",
      "epoch: [117\\200 ###########--------- loss: 7.046 valid loss: 6.976 valid accuracy: 0.663\n",
      "epoch: [118\\200 ###########--------- loss: 7.098 valid loss: 6.963 valid accuracy: 0.664\n",
      "epoch: [119\\200 ###########--------- loss: 7.150 valid loss: 6.894 valid accuracy: 0.667\n",
      "epoch: [120\\200 ############-------- loss: 6.949 valid loss: 6.874 valid accuracy: 0.668\n",
      "epoch: [121\\200 ############-------- loss: 6.787 valid loss: 6.977 valid accuracy: 0.663\n",
      "epoch: [122\\200 ############-------- loss: 7.771 valid loss: 7.057 valid accuracy: 0.659\n",
      "epoch: [123\\200 ############-------- loss: 6.942 valid loss: 6.939 valid accuracy: 0.665\n",
      "epoch: [124\\200 ############-------- loss: 6.994 valid loss: 6.848 valid accuracy: 0.669\n",
      "epoch: [125\\200 ############-------- loss: 7.188 valid loss: 6.926 valid accuracy: 0.666\n",
      "epoch: [126\\200 ############-------- loss: 6.921 valid loss: 7.132 valid accuracy: 0.656\n",
      "epoch: [127\\200 ############-------- loss: 7.461 valid loss: 6.882 valid accuracy: 0.668\n",
      "epoch: [128\\200 ############-------- loss: 7.409 valid loss: 6.855 valid accuracy: 0.669\n",
      "epoch: [129\\200 ############-------- loss: 6.372 valid loss: 6.822 valid accuracy: 0.671\n",
      "epoch: [130\\200 #############------- loss: 7.823 valid loss: 6.873 valid accuracy: 0.668\n",
      "epoch: [131\\200 #############------- loss: 7.150 valid loss: 6.993 valid accuracy: 0.662\n",
      "epoch: [132\\200 #############------- loss: 7.098 valid loss: 6.992 valid accuracy: 0.662\n",
      "epoch: [133\\200 #############------- loss: 6.580 valid loss: 6.858 valid accuracy: 0.668\n",
      "epoch: [134\\200 #############------- loss: 6.321 valid loss: 7.066 valid accuracy: 0.659\n",
      "epoch: [135\\200 #############------- loss: 6.735 valid loss: 6.767 valid accuracy: 0.673\n",
      "epoch: [136\\200 #############------- loss: 7.357 valid loss: 7.003 valid accuracy: 0.662\n",
      "epoch: [137\\200 #############------- loss: 7.238 valid loss: 6.981 valid accuracy: 0.663\n",
      "epoch: [138\\200 #############------- loss: 6.683 valid loss: 6.799 valid accuracy: 0.672\n",
      "epoch: [139\\200 #############------- loss: 7.630 valid loss: 6.928 valid accuracy: 0.665\n",
      "epoch: [140\\200 ##############------ loss: 6.787 valid loss: 6.866 valid accuracy: 0.668\n",
      "epoch: [141\\200 ##############------ loss: 6.942 valid loss: 6.828 valid accuracy: 0.670\n",
      "epoch: [142\\200 ##############------ loss: 6.617 valid loss: 7.023 valid accuracy: 0.661\n",
      "epoch: [143\\200 ##############------ loss: 7.357 valid loss: 7.019 valid accuracy: 0.661\n",
      "epoch: [144\\200 ##############------ loss: 6.631 valid loss: 6.936 valid accuracy: 0.665\n",
      "epoch: [145\\200 ##############------ loss: 6.476 valid loss: 6.901 valid accuracy: 0.667\n",
      "epoch: [146\\200 ##############------ loss: 6.891 valid loss: 7.104 valid accuracy: 0.657\n",
      "epoch: [147\\200 ##############------ loss: 6.113 valid loss: 6.876 valid accuracy: 0.668\n",
      "epoch: [148\\200 ##############------ loss: 6.580 valid loss: 7.031 valid accuracy: 0.660\n",
      "epoch: [149\\200 ##############------ loss: 7.771 valid loss: 6.883 valid accuracy: 0.668\n",
      "epoch: [150\\200 ###############----- loss: 5.904 valid loss: 6.761 valid accuracy: 0.674\n",
      "epoch: [151\\200 ###############----- loss: 7.927 valid loss: 7.049 valid accuracy: 0.659\n",
      "epoch: [152\\200 ###############----- loss: 6.509 valid loss: 7.003 valid accuracy: 0.662\n",
      "epoch: [153\\200 ###############----- loss: 6.994 valid loss: 7.000 valid accuracy: 0.662\n",
      "epoch: [154\\200 ###############----- loss: 6.890 valid loss: 6.862 valid accuracy: 0.669\n",
      "epoch: [155\\200 ###############----- loss: 8.082 valid loss: 6.911 valid accuracy: 0.666\n",
      "epoch: [156\\200 ###############----- loss: 7.512 valid loss: 6.834 valid accuracy: 0.670\n",
      "epoch: [157\\200 ###############----- loss: 5.803 valid loss: 6.868 valid accuracy: 0.668\n",
      "epoch: [158\\200 ###############----- loss: 5.958 valid loss: 7.061 valid accuracy: 0.659\n",
      "epoch: [159\\200 ###############----- loss: 7.253 valid loss: 6.973 valid accuracy: 0.663\n",
      "epoch: [160\\200 ################---- loss: 6.787 valid loss: 6.912 valid accuracy: 0.666\n",
      "epoch: [161\\200 ################---- loss: 6.942 valid loss: 6.953 valid accuracy: 0.664\n",
      "epoch: [162\\200 ################---- loss: 7.305 valid loss: 6.995 valid accuracy: 0.662\n",
      "epoch: [163\\200 ################---- loss: 7.892 valid loss: 6.761 valid accuracy: 0.674\n",
      "epoch: [164\\200 ################---- loss: 6.580 valid loss: 7.045 valid accuracy: 0.660\n",
      "epoch: [165\\200 ################---- loss: 6.683 valid loss: 6.675 valid accuracy: 0.678\n",
      "epoch: [166\\200 ################---- loss: 7.098 valid loss: 6.876 valid accuracy: 0.668\n",
      "epoch: [167\\200 ################---- loss: 8.082 valid loss: 6.751 valid accuracy: 0.674\n",
      "epoch: [168\\200 ################---- loss: 7.409 valid loss: 6.896 valid accuracy: 0.667\n",
      "epoch: [169\\200 ################---- loss: 6.984 valid loss: 6.830 valid accuracy: 0.670\n",
      "epoch: [170\\200 #################--- loss: 6.269 valid loss: 7.037 valid accuracy: 0.660\n",
      "epoch: [171\\200 #################--- loss: 7.204 valid loss: 6.936 valid accuracy: 0.665\n",
      "epoch: [172\\200 #################--- loss: 6.735 valid loss: 6.807 valid accuracy: 0.671\n",
      "epoch: [173\\200 #################--- loss: 6.948 valid loss: 7.002 valid accuracy: 0.662\n",
      "epoch: [174\\200 #################--- loss: 6.944 valid loss: 6.801 valid accuracy: 0.672\n",
      "epoch: [175\\200 #################--- loss: 7.150 valid loss: 6.886 valid accuracy: 0.668\n",
      "epoch: [176\\200 #################--- loss: 7.377 valid loss: 6.828 valid accuracy: 0.670\n",
      "epoch: [177\\200 #################--- loss: 6.942 valid loss: 6.912 valid accuracy: 0.666\n",
      "epoch: [178\\200 #################--- loss: 6.942 valid loss: 6.915 valid accuracy: 0.666\n",
      "epoch: [179\\200 #################--- loss: 7.305 valid loss: 6.922 valid accuracy: 0.666\n",
      "epoch: [180\\200 ##################-- loss: 7.460 valid loss: 6.857 valid accuracy: 0.669\n",
      "epoch: [181\\200 ##################-- loss: 6.177 valid loss: 6.826 valid accuracy: 0.670\n",
      "epoch: [182\\200 ##################-- loss: 6.890 valid loss: 6.876 valid accuracy: 0.668\n",
      "epoch: [183\\200 ##################-- loss: 6.994 valid loss: 7.044 valid accuracy: 0.660\n",
      "epoch: [184\\200 ##################-- loss: 7.357 valid loss: 6.839 valid accuracy: 0.670\n",
      "epoch: [185\\200 ##################-- loss: 7.046 valid loss: 6.853 valid accuracy: 0.669\n",
      "epoch: [186\\200 ##################-- loss: 7.460 valid loss: 6.906 valid accuracy: 0.666\n",
      "epoch: [187\\200 ##################-- loss: 6.735 valid loss: 6.829 valid accuracy: 0.670\n",
      "epoch: [188\\200 ##################-- loss: 6.476 valid loss: 6.715 valid accuracy: 0.676\n",
      "epoch: [189\\200 ##################-- loss: 6.683 valid loss: 6.863 valid accuracy: 0.669\n",
      "epoch: [190\\200 ###################- loss: 7.201 valid loss: 6.913 valid accuracy: 0.666\n",
      "epoch: [191\\200 ###################- loss: 6.476 valid loss: 6.854 valid accuracy: 0.669\n",
      "epoch: [192\\200 ###################- loss: 7.150 valid loss: 6.850 valid accuracy: 0.669\n",
      "epoch: [193\\200 ###################- loss: 6.372 valid loss: 6.873 valid accuracy: 0.668\n",
      "epoch: [194\\200 ###################- loss: 7.668 valid loss: 6.962 valid accuracy: 0.664\n",
      "epoch: [195\\200 ###################- loss: 6.321 valid loss: 6.805 valid accuracy: 0.671\n",
      "epoch: [196\\200 ###################- loss: 7.150 valid loss: 6.898 valid accuracy: 0.667\n",
      "epoch: [197\\200 ###################- loss: 6.324 valid loss: 6.861 valid accuracy: 0.669\n",
      "epoch: [198\\200 ###################- loss: 7.460 valid loss: 6.857 valid accuracy: 0.669\n",
      "epoch: [199\\200 ###################- loss: 6.435 valid loss: 6.840 valid accuracy: 0.670\n",
      "epoch: [200\\200 #################### loss: 7.305 valid loss: 6.835 valid accuracy: 0.670\n"
     ]
    }
   ],
   "source": [
    "model = Model([\n",
    "    nn.flatten(),\n",
    "    nn.dense(256),\n",
    "    nn.relu(),\n",
    "    nn.dense(512),\n",
    "    nn.relu(),\n",
    "    nn.dense(10),\n",
    "    nn.sortmax()\n",
    "])\n",
    "model.fit(data_loader=dataloader,\n",
    "          optimizer=optimizers.sgd(lr=1e-2),\n",
    "          loss_fn=loss.categorical_cross_entropy(),\n",
    "          epochs=200,\n",
    "          metrics=['accuracy'])\n"
   ]
  },
  {
   "cell_type": "code",
   "execution_count": 9,
   "metadata": {},
   "outputs": [],
   "source": [
    "x, y = dataset.mnist_testdata()\n",
    "x = x / 255."
   ]
  },
  {
   "cell_type": "code",
   "execution_count": 10,
   "metadata": {},
   "outputs": [
    {
     "data": {
      "text/plain": [
       "DeviceArray(0.6657, dtype=float32)"
      ]
     },
     "execution_count": 10,
     "metadata": {},
     "output_type": "execute_result"
    }
   ],
   "source": [
    "y_hat = model.predict(x)\n",
    "model.accuracy(y_hat, y)"
   ]
  },
  {
   "cell_type": "code",
   "execution_count": 11,
   "metadata": {},
   "outputs": [
    {
     "data": {
      "image/png": "[encoded data removed]",
      "text/plain": [
       "<Figure size 432x288 with 1 Axes>"
      ]
     },
     "metadata": {
      "needs_background": "light"
     },
     "output_type": "display_data"
    }
   ],
   "source": [
    "l1, = plt.plot(model.losses)\n",
    "l2, = plt.plot(model.valid_losses)\n",
    "plt.legend([l1, l2], ['loss', 'valid loss'])\n",
    "plt.show()"
   ]
  }
 ],
 "metadata": {
  "kernelspec": {
   "display_name": "Python 3.10.0 ('mlenv')",
   "language": "python",
   "name": "python3"
  },
  "language_info": {
   "codemirror_mode": {
    "name": "ipython",
    "version": 3
   },
   "file_extension": ".py",
   "mimetype": "text/x-python",
   "name": "python",
   "nbconvert_exporter": "python",
   "pygments_lexer": "ipython3",
   "version": "3.10.0"
  },
  "orig_nbformat": 4,
  "vscode": {
   "interpreter": {
    "hash": "8ae33f7c48cc3e1271596d1bf08ce4d5e6d6f7129ff8bbb83bbb95ed8addff62"
   }
  }
 },
 "nbformat": 4,
 "nbformat_minor": 2
}
