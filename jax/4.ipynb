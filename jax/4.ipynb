{
 "cells": [
  {
   "cell_type": "code",
   "execution_count": 1,
   "metadata": {},
   "outputs": [],
   "source": [
    "from jaxnn import dataset\n",
    "from jaxnn.model import Model\n",
    "from jaxnn import nn\n",
    "from jaxnn import optimizers\n",
    "from jaxnn import loss\n",
    "import jax\n",
    "from jax import numpy as jnp\n",
    "from matplotlib import pyplot as plt"
   ]
  },
  {
   "cell_type": "code",
   "execution_count": 2,
   "metadata": {},
   "outputs": [],
   "source": [
    "dataloader = dataset.mnist_dataloader(map_fn=lambda x: x / 255., batch_size=256)"
   ]
  },
  {
   "cell_type": "code",
   "execution_count": 3,
   "metadata": {},
   "outputs": [
    {
     "name": "stdout",
     "output_type": "stream",
     "text": [
      "epoch: [  1\\50 -------------------- loss: 0.785 valid loss: 0.848 valid accuracy: 0.753\n",
      "epoch: [  2\\50 -------------------- loss: 0.541 valid loss: 0.516 valid accuracy: 0.854\n",
      "epoch: [  3\\50 #------------------- loss: 0.397 valid loss: 0.433 valid accuracy: 0.877\n",
      "epoch: [  4\\50 #------------------- loss: 0.345 valid loss: 0.377 valid accuracy: 0.891\n",
      "epoch: [  5\\50 ##------------------ loss: 0.355 valid loss: 0.339 valid accuracy: 0.903\n",
      "epoch: [  6\\50 ##------------------ loss: 0.294 valid loss: 0.325 valid accuracy: 0.907\n",
      "epoch: [  7\\50 ##------------------ loss: 0.311 valid loss: 0.292 valid accuracy: 0.916\n",
      "epoch: [  8\\50 ###----------------- loss: 0.227 valid loss: 0.294 valid accuracy: 0.914\n",
      "epoch: [  9\\50 ###----------------- loss: 0.231 valid loss: 0.279 valid accuracy: 0.919\n",
      "epoch: [ 10\\50 ####---------------- loss: 0.220 valid loss: 0.265 valid accuracy: 0.923\n",
      "epoch: [ 11\\50 ####---------------- loss: 0.224 valid loss: 0.242 valid accuracy: 0.931\n",
      "epoch: [ 12\\50 ####---------------- loss: 0.208 valid loss: 0.224 valid accuracy: 0.936\n",
      "epoch: [ 13\\50 #####--------------- loss: 0.171 valid loss: 0.218 valid accuracy: 0.936\n",
      "epoch: [ 14\\50 #####--------------- loss: 0.174 valid loss: 0.212 valid accuracy: 0.938\n",
      "epoch: [ 15\\50 ######-------------- loss: 0.166 valid loss: 0.212 valid accuracy: 0.940\n",
      "epoch: [ 16\\50 ######-------------- loss: 0.182 valid loss: 0.200 valid accuracy: 0.945\n",
      "epoch: [ 17\\50 ######-------------- loss: 0.196 valid loss: 0.191 valid accuracy: 0.946\n",
      "epoch: [ 18\\50 #######------------- loss: 0.141 valid loss: 0.193 valid accuracy: 0.946\n",
      "epoch: [ 19\\50 #######------------- loss: 0.134 valid loss: 0.183 valid accuracy: 0.948\n",
      "epoch: [ 20\\50 ########------------ loss: 0.139 valid loss: 0.169 valid accuracy: 0.951\n",
      "epoch: [ 21\\50 ########------------ loss: 0.205 valid loss: 0.166 valid accuracy: 0.952\n",
      "epoch: [ 22\\50 ########------------ loss: 0.143 valid loss: 0.165 valid accuracy: 0.953\n",
      "epoch: [ 23\\50 #########----------- loss: 0.088 valid loss: 0.151 valid accuracy: 0.957\n",
      "epoch: [ 24\\50 #########----------- loss: 0.144 valid loss: 0.160 valid accuracy: 0.956\n",
      "epoch: [ 25\\50 ##########---------- loss: 0.140 valid loss: 0.151 valid accuracy: 0.958\n",
      "epoch: [ 26\\50 ##########---------- loss: 0.155 valid loss: 0.156 valid accuracy: 0.955\n",
      "epoch: [ 27\\50 ##########---------- loss: 0.155 valid loss: 0.147 valid accuracy: 0.958\n",
      "epoch: [ 28\\50 ###########--------- loss: 0.178 valid loss: 0.143 valid accuracy: 0.960\n",
      "epoch: [ 29\\50 ###########--------- loss: 0.080 valid loss: 0.146 valid accuracy: 0.956\n",
      "epoch: [ 30\\50 ############-------- loss: 0.093 valid loss: 0.144 valid accuracy: 0.958\n",
      "epoch: [ 31\\50 ############-------- loss: 0.057 valid loss: 0.138 valid accuracy: 0.959\n",
      "epoch: [ 32\\50 ############-------- loss: 0.151 valid loss: 0.140 valid accuracy: 0.959\n",
      "epoch: [ 33\\50 #############------- loss: 0.137 valid loss: 0.135 valid accuracy: 0.957\n",
      "epoch: [ 34\\50 #############------- loss: 0.162 valid loss: 0.135 valid accuracy: 0.962\n",
      "epoch: [ 35\\50 ##############------ loss: 0.072 valid loss: 0.129 valid accuracy: 0.961\n",
      "epoch: [ 36\\50 ##############------ loss: 0.139 valid loss: 0.130 valid accuracy: 0.964\n",
      "epoch: [ 37\\50 ##############------ loss: 0.108 valid loss: 0.137 valid accuracy: 0.960\n",
      "epoch: [ 38\\50 ###############----- loss: 0.094 valid loss: 0.122 valid accuracy: 0.965\n",
      "epoch: [ 39\\50 ###############----- loss: 0.116 valid loss: 0.118 valid accuracy: 0.966\n",
      "epoch: [ 40\\50 ################---- loss: 0.136 valid loss: 0.131 valid accuracy: 0.960\n",
      "epoch: [ 41\\50 ################---- loss: 0.081 valid loss: 0.118 valid accuracy: 0.965\n",
      "epoch: [ 42\\50 ################---- loss: 0.109 valid loss: 0.124 valid accuracy: 0.966\n",
      "epoch: [ 43\\50 #################--- loss: 0.123 valid loss: 0.113 valid accuracy: 0.966\n",
      "epoch: [ 44\\50 #################--- loss: 0.105 valid loss: 0.112 valid accuracy: 0.968\n",
      "epoch: [ 45\\50 ##################-- loss: 0.116 valid loss: 0.111 valid accuracy: 0.969\n",
      "epoch: [ 46\\50 ##################-- loss: 0.061 valid loss: 0.110 valid accuracy: 0.965\n",
      "epoch: [ 47\\50 ##################-- loss: 0.098 valid loss: 0.112 valid accuracy: 0.966\n",
      "epoch: [ 48\\50 ###################- loss: 0.057 valid loss: 0.112 valid accuracy: 0.968\n",
      "epoch: [ 49\\50 ###################- loss: 0.064 valid loss: 0.106 valid accuracy: 0.969\n",
      "epoch: [ 50\\50 #################### loss: 0.079 valid loss: 0.103 valid accuracy: 0.969\n"
     ]
    }
   ],
   "source": [
    "model = Model([\n",
    "    nn.flatten(),\n",
    "    nn.dense(256),\n",
    "    nn.relu(),\n",
    "    nn.dropout(),\n",
    "    # nn.dense(64),\n",
    "    # nn.relu(),\n",
    "    nn.dense(10),\n",
    "    nn.softmax()\n",
    "])\n",
    "model.fit(data_loader=dataloader,\n",
    "          optimizer=optimizers.sgd(lr=1e-1),\n",
    "          loss_fn=loss.categorical_cross_entropy(from_logits=False),\n",
    "          epochs=50,\n",
    "          metrics=['accuracy'])\n"
   ]
  },
  {
   "cell_type": "code",
   "execution_count": 4,
   "metadata": {},
   "outputs": [],
   "source": [
    "x, y = dataset.mnist_testdata()\n",
    "x = x / 255."
   ]
  },
  {
   "cell_type": "code",
   "execution_count": 5,
   "metadata": {},
   "outputs": [
    {
     "data": {
      "text/plain": [
       "DeviceArray(0.9606, dtype=float32)"
      ]
     },
     "execution_count": 5,
     "metadata": {},
     "output_type": "execute_result"
    }
   ],
   "source": [
    "y_hat = model.predict(x)\n",
    "model.accuracy(y_hat, y)"
   ]
  },
  {
   "cell_type": "code",
   "execution_count": 6,
   "metadata": {},
   "outputs": [
    {
     "data": {
      "image/png": "[encoded data removed]",
      "text/plain": [
       "<Figure size 432x288 with 1 Axes>"
      ]
     },
     "metadata": {
      "needs_background": "light"
     },
     "output_type": "display_data"
    }
   ],
   "source": [
    "l1, = plt.plot(model.losses)\n",
    "l2, = plt.plot(model.valid_losses)\n",
    "plt.legend([l1, l2], ['loss', 'valid loss'])\n",
    "plt.show()"
   ]
  },
  {
   "cell_type": "code",
   "execution_count": 7,
   "metadata": {},
   "outputs": [],
   "source": [
    "y_hat = model.predict(x[:10])"
   ]
  },
  {
   "cell_type": "code",
   "execution_count": 8,
   "metadata": {},
   "outputs": [
    {
     "data": {
      "text/plain": [
       "(DeviceArray([7, 2, 1, 0, 4, 1, 4, 9, 6, 9], dtype=int32),\n",
       " array([7, 2, 1, 0, 4, 1, 4, 9, 5, 9], dtype=uint8))"
      ]
     },
     "execution_count": 8,
     "metadata": {},
     "output_type": "execute_result"
    }
   ],
   "source": [
    "jnp.argmax(y_hat, axis=1), y[:10]"
   ]
  }
 ],
 "metadata": {
  "kernelspec": {
   "display_name": "Python 3.10.0 ('mlenv')",
   "language": "python",
   "name": "python3"
  },
  "language_info": {
   "codemirror_mode": {
    "name": "ipython",
    "version": 3
   },
   "file_extension": ".py",
   "mimetype": "text/x-python",
   "name": "python",
   "nbconvert_exporter": "python",
   "pygments_lexer": "ipython3",
   "version": "3.8.13"
  },
  "orig_nbformat": 4,
  "vscode": {
   "interpreter": {
    "hash": "8ae33f7c48cc3e1271596d1bf08ce4d5e6d6f7129ff8bbb83bbb95ed8addff62"
   }
  }
 },
 "nbformat": 4,
 "nbformat_minor": 2
}
