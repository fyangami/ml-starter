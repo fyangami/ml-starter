{
 "cells": [
  {
   "cell_type": "code",
   "execution_count": 2,
   "metadata": {},
   "outputs": [],
   "source": [
    "import jax \n",
    "from jax import numpy as jnp\n",
    "import jaxnn"
   ]
  },
  {
   "cell_type": "code",
   "execution_count": null,
   "metadata": {},
   "outputs": [],
   "source": [
    "x = jnp.linspace(-10, 10, 100)\n",
    "x = x[:, None]\n",
    "y = (3 * x) + (.02 * x ** 2) + (.003 * x ** 3) + (.009 * x ** 4) + 10.6\n",
    "x = x + jax.random.normal(jax.random.PRNGKey(1024), x.shape)"
   ]
  },
  {
   "cell_type": "code",
   "execution_count": null,
   "metadata": {},
   "outputs": [],
   "source": [
    "from jaxnn import Model\n",
    "from jaxnn import nn\n",
    "\n",
    "model = Model([\n",
    "    nn.dense(128),\n",
    "    nn.dense(128),\n",
    "    nn.dense(1)\n",
    "])\n",
    "model.fit(x=x, y=y, optimizer=jaxnn.optimizers.sgd(), loss_fn=jaxnn.loss.mse())"
   ]
  }
 ],
 "metadata": {
  "kernelspec": {
   "display_name": "Python 3.10.0 ('mlenv')",
   "language": "python",
   "name": "python3"
  },
  "language_info": {
   "codemirror_mode": {
    "name": "ipython",
    "version": 3
   },
   "file_extension": ".py",
   "mimetype": "text/x-python",
   "name": "python",
   "nbconvert_exporter": "python",
   "pygments_lexer": "ipython3",
   "version": "3.10.0"
  },
  "orig_nbformat": 4,
  "vscode": {
   "interpreter": {
    "hash": "8ae33f7c48cc3e1271596d1bf08ce4d5e6d6f7129ff8bbb83bbb95ed8addff62"
   }
  }
 },
 "nbformat": 4,
 "nbformat_minor": 2
}
