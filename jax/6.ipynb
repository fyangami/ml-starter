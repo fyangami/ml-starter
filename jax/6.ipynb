{
 "cells": [
  {
   "cell_type": "code",
   "execution_count": 1,
   "metadata": {},
   "outputs": [],
   "source": [
    "from jaxnn import dataset\n",
    "from jaxnn.model import Model\n",
    "from jaxnn import nn\n",
    "from jaxnn import optimizers\n",
    "from jaxnn import loss\n",
    "import jax\n",
    "from jax import numpy as jnp\n",
    "from matplotlib import pyplot as plt"
   ]
  },
  {
   "cell_type": "code",
   "execution_count": 2,
   "metadata": {},
   "outputs": [
    {
     "ename": "ValueError",
     "evalue": "All input arrays must have the same shape.",
     "output_type": "error",
     "traceback": [
      "\u001b[0;31m---------------------------------------------------------------------------\u001b[0m",
      "\u001b[0;31mValueError\u001b[0m                                Traceback (most recent call last)",
      "\u001b[1;32m/home/fyang/code/ml-starter/jax/6.ipynb Cell 2'\u001b[0m in \u001b[0;36m<cell line: 1>\u001b[0;34m()\u001b[0m\n\u001b[0;32m----> <a href='vscode-notebook-cell://ssh-remote%2Bhost0/home/fyang/code/ml-starter/jax/6.ipynb#ch0000012vscode-remote?line=0'>1</a>\u001b[0m (train_iter, (tx, ty)) \u001b[39m=\u001b[39m dataset\u001b[39m.\u001b[39;49mcat_and_dog_dataloader()\n",
      "File \u001b[0;32m~/.conda/envs/mlenv/lib/python3.8/site-packages/jaxnn/dataset.py:98\u001b[0m, in \u001b[0;36mcat_and_dog_dataloader\u001b[0;34m(size, rng, batch_size, repeat, valid_ratio, map_fn)\u001b[0m\n\u001b[1;32m     95\u001b[0m     \u001b[39mreturn\u001b[39;00m (jnp\u001b[39m.\u001b[39mstack(pair[\u001b[39m1\u001b[39m]) \u001b[39mfor\u001b[39;00m pair \u001b[39min\u001b[39;00m dataset)\n\u001b[1;32m     97\u001b[0m train_cat, train_dog, test_cat, test_dog \u001b[39m=\u001b[39m _load_data(\u001b[39mall\u001b[39m)\n\u001b[0;32m---> 98\u001b[0m x \u001b[39m=\u001b[39m jnp\u001b[39m.\u001b[39;49mstack((train_cat, train_dog))\n\u001b[1;32m     99\u001b[0m y \u001b[39m=\u001b[39m jnp\u001b[39m.\u001b[39mstack((jnp\u001b[39m.\u001b[39mfull(shape\u001b[39m=\u001b[39m(\u001b[39mlen\u001b[39m(train_cat), ), fill_value\u001b[39m=\u001b[39m\u001b[39m0\u001b[39m),\n\u001b[1;32m    100\u001b[0m                jnp\u001b[39m.\u001b[39mfull(shape\u001b[39m=\u001b[39m(\u001b[39mlen\u001b[39m(train_dog), ), fill_value\u001b[39m=\u001b[39m\u001b[39m1\u001b[39m)))\n\u001b[1;32m    101\u001b[0m tx \u001b[39m=\u001b[39m jnp\u001b[39m.\u001b[39mstack((test_cat, test_dog))\n",
      "File \u001b[0;32m~/.conda/envs/mlenv/lib/python3.8/site-packages/jax/_src/numpy/lax_numpy.py:1600\u001b[0m, in \u001b[0;36mstack\u001b[0;34m(arrays, axis, out)\u001b[0m\n\u001b[1;32m   1598\u001b[0m \u001b[39mfor\u001b[39;00m a \u001b[39min\u001b[39;00m arrays:\n\u001b[1;32m   1599\u001b[0m   \u001b[39mif\u001b[39;00m shape(a) \u001b[39m!=\u001b[39m shape0:\n\u001b[0;32m-> 1600\u001b[0m     \u001b[39mraise\u001b[39;00m \u001b[39mValueError\u001b[39;00m(\u001b[39m\"\u001b[39m\u001b[39mAll input arrays must have the same shape.\u001b[39m\u001b[39m\"\u001b[39m)\n\u001b[1;32m   1601\u001b[0m   new_arrays\u001b[39m.\u001b[39mappend(expand_dims(a, axis))\n\u001b[1;32m   1602\u001b[0m \u001b[39mreturn\u001b[39;00m concatenate(new_arrays, axis\u001b[39m=\u001b[39maxis)\n",
      "\u001b[0;31mValueError\u001b[0m: All input arrays must have the same shape."
     ]
    }
   ],
   "source": [
    "(train_iter, (tx, ty)) = dataset.cat_and_dog_dataloader()"
   ]
  },
  {
   "cell_type": "code",
   "execution_count": null,
   "metadata": {},
   "outputs": [],
   "source": [
    "model = Model([\n",
    "    nn.conv2d(n_filter=64, kernel_size=3, strides=1, padding='SAME'),\n",
    "    nn.relu(),\n",
    "    nn.maxpool2d(window=3, strides=1, padding='SAME'),\n",
    "    nn.conv2d(n_filter=128, kernel_size=3, strides=1, padding='SAME'),\n",
    "    nn.relu(),\n",
    "    nn.maxpool2d(window=3, strides=1, padding='SAME'),\n",
    "    nn.conv2d(n_filter=256, kernel_size=3, strides=1, padding='SAME'),\n",
    "    nn.relu(),\n",
    "    nn.maxpool2d(window=3, strides=1, padding='SAME'),\n",
    "    nn.flatten(),\n",
    "    nn.dense(256),\n",
    "    nn.dense(2),\n",
    "    nn.softmax()\n",
    "])\n",
    "model.fit(train_iter,\n",
    "          optimizer=optimizers.sgd(1e-3),\n",
    "          loss_fn=loss.categorical_cross_entropy(from_logits=False),\n",
    "          epochs=50,\n",
    "          metrics=['accuracy'])"
   ]
  }
 ],
 "metadata": {
  "kernelspec": {
   "display_name": "Python 3.8.13 ('mlenv')",
   "language": "python",
   "name": "python3"
  },
  "language_info": {
   "codemirror_mode": {
    "name": "ipython",
    "version": 3
   },
   "file_extension": ".py",
   "mimetype": "text/x-python",
   "name": "python",
   "nbconvert_exporter": "python",
   "pygments_lexer": "ipython3",
   "version": "3.8.13"
  },
  "orig_nbformat": 4,
  "vscode": {
   "interpreter": {
    "hash": "8ae33f7c48cc3e1271596d1bf08ce4d5e6d6f7129ff8bbb83bbb95ed8addff62"
   }
  }
 },
 "nbformat": 4,
 "nbformat_minor": 2
}
