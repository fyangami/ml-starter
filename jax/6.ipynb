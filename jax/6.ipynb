{
 "cells": [
  {
   "cell_type": "code",
   "execution_count": 2,
   "metadata": {},
   "outputs": [
    {
     "name": "stderr",
     "output_type": "stream",
     "text": [
      "2022-06-24 17:19:51.873531: W external/org_tensorflow/tensorflow/compiler/xla/service/platform_util.cc:200] unable to create StreamExecutor for CUDA:0: failed initializing StreamExecutor for CUDA device ordinal 0: INTERNAL: failed call to cuDevicePrimaryCtxRetain: CUDA_ERROR_OUT_OF_MEMORY: out of memory; total memory reported: 12639076352\n",
      "WARNING:absl:No GPU/TPU found, falling back to CPU. (Set TF_CPP_MIN_LOG_LEVEL=0 and rerun for more info.)\n"
     ]
    }
   ],
   "source": [
    "from jaxnn import dataset\n",
    "from jaxnn.model import Model\n",
    "from jaxnn import nn\n",
    "from jaxnn import optimizers\n",
    "from jaxnn import loss\n",
    "import jax\n",
    "from jax import numpy as jnp\n",
    "from matplotlib import pyplot as plt"
   ]
  },
  {
   "cell_type": "code",
   "execution_count": 3,
   "metadata": {},
   "outputs": [],
   "source": [
    "(train_iter, (tx, ty)) = dataset.cat_and_dog_dataloader('train')"
   ]
  },
  {
   "cell_type": "code",
   "execution_count": null,
   "metadata": {},
   "outputs": [],
   "source": [
    "model = Model([\n",
    "    nn.conv2d(n_filter=64, kernel_size=3, strides=1, padding='SAME'),\n",
    "    nn.relu(),\n",
    "    nn.maxpool2d(window=3, strides=1, padding='SAME'),\n",
    "    nn.conv2d(n_filter=128, kernel_size=3, strides=1, padding='SAME'),\n",
    "    nn.relu(),\n",
    "    nn.maxpool2d(window=3, strides=1, padding='SAME'),\n",
    "    nn.conv2d(n_filter=256, kernel_size=3, strides=1, padding='SAME'),\n",
    "    nn.relu(),\n",
    "    nn.maxpool2d(window=3, strides=1, padding='SAME'),\n",
    "    nn.flatten(),\n",
    "    nn.dense(256),\n",
    "    nn.dense(2),\n",
    "    nn.softmax()\n",
    "])\n",
    "model.fit(train_iter,\n",
    "          optimizer=optimizers.sgd(1e-3),\n",
    "          loss_fn=loss.categorical_cross_entropy(from_logits=False),\n",
    "          epochs=50,\n",
    "          metrics=['accuracy'])"
   ]
  },
  {
   "cell_type": "code",
   "execution_count": null,
   "metadata": {},
   "outputs": [],
   "source": []
  }
 ],
 "metadata": {
  "kernelspec": {
   "display_name": "Python 3.8.13 ('mlenv')",
   "language": "python",
   "name": "python3"
  },
  "language_info": {
   "codemirror_mode": {
    "name": "ipython",
    "version": 3
   },
   "file_extension": ".py",
   "mimetype": "text/x-python",
   "name": "python",
   "nbconvert_exporter": "python",
   "pygments_lexer": "ipython3",
   "version": "3.8.13"
  },
  "orig_nbformat": 4,
  "vscode": {
   "interpreter": {
    "hash": "8ae33f7c48cc3e1271596d1bf08ce4d5e6d6f7129ff8bbb83bbb95ed8addff62"
   }
  }
 },
 "nbformat": 4,
 "nbformat_minor": 2
}
