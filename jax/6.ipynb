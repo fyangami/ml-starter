{
 "cells": [
  {
   "cell_type": "code",
   "execution_count": 3,
   "metadata": {},
   "outputs": [],
   "source": [
    "from jaxnn import dataset\n",
    "from jaxnn.model import Model\n",
    "from jaxnn import nn\n",
    "from jaxnn import optimizers\n",
    "from jaxnn import loss\n",
    "import jax\n",
    "from jax import numpy as jnp\n",
    "from matplotlib import pyplot as plt"
   ]
  },
  {
   "cell_type": "code",
   "execution_count": 4,
   "metadata": {},
   "outputs": [],
   "source": [
    "dataloader, cls_map = dataset.cat_and_dog_dataloader('train')"
   ]
  },
  {
   "cell_type": "code",
   "execution_count": 6,
   "metadata": {},
   "outputs": [
    {
     "ename": "ValueError",
     "evalue": "not enough values to unpack (expected 2, got 1)",
     "output_type": "error",
     "traceback": [
      "\u001b[0;31m---------------------------------------------------------------------------\u001b[0m",
      "\u001b[0;31mValueError\u001b[0m                                Traceback (most recent call last)",
      "\u001b[1;32m/home/fyang/code/ml/ml-starter/jax/6.ipynb Cell 3'\u001b[0m in \u001b[0;36m<cell line: 16>\u001b[0;34m()\u001b[0m\n\u001b[1;32m      <a href='vscode-notebook-cell:/home/fyang/code/ml/ml-starter/jax/6.ipynb#ch0000002?line=0'>1</a>\u001b[0m model \u001b[39m=\u001b[39m Model([\n\u001b[1;32m      <a href='vscode-notebook-cell:/home/fyang/code/ml/ml-starter/jax/6.ipynb#ch0000002?line=1'>2</a>\u001b[0m     nn\u001b[39m.\u001b[39mconv2d(n_filter\u001b[39m=\u001b[39m\u001b[39m64\u001b[39m, kernel_size\u001b[39m=\u001b[39m\u001b[39m3\u001b[39m, strides\u001b[39m=\u001b[39m\u001b[39m1\u001b[39m, padding\u001b[39m=\u001b[39m\u001b[39m'\u001b[39m\u001b[39mSAME\u001b[39m\u001b[39m'\u001b[39m),\n\u001b[1;32m      <a href='vscode-notebook-cell:/home/fyang/code/ml/ml-starter/jax/6.ipynb#ch0000002?line=2'>3</a>\u001b[0m     nn\u001b[39m.\u001b[39mrelu(),\n\u001b[0;32m   (...)\u001b[0m\n\u001b[1;32m     <a href='vscode-notebook-cell:/home/fyang/code/ml/ml-starter/jax/6.ipynb#ch0000002?line=13'>14</a>\u001b[0m     nn\u001b[39m.\u001b[39msoftmax()\n\u001b[1;32m     <a href='vscode-notebook-cell:/home/fyang/code/ml/ml-starter/jax/6.ipynb#ch0000002?line=14'>15</a>\u001b[0m ])\n\u001b[0;32m---> <a href='vscode-notebook-cell:/home/fyang/code/ml/ml-starter/jax/6.ipynb#ch0000002?line=15'>16</a>\u001b[0m model\u001b[39m.\u001b[39;49mfit(dataloader,\n\u001b[1;32m     <a href='vscode-notebook-cell:/home/fyang/code/ml/ml-starter/jax/6.ipynb#ch0000002?line=16'>17</a>\u001b[0m           optimizer\u001b[39m=\u001b[39;49moptimizers\u001b[39m.\u001b[39;49msgd(\u001b[39m1e-3\u001b[39;49m),\n\u001b[1;32m     <a href='vscode-notebook-cell:/home/fyang/code/ml/ml-starter/jax/6.ipynb#ch0000002?line=17'>18</a>\u001b[0m           loss_fn\u001b[39m=\u001b[39;49mloss\u001b[39m.\u001b[39;49mcategorical_cross_entropy(from_logits\u001b[39m=\u001b[39;49m\u001b[39mFalse\u001b[39;49;00m),\n\u001b[1;32m     <a href='vscode-notebook-cell:/home/fyang/code/ml/ml-starter/jax/6.ipynb#ch0000002?line=18'>19</a>\u001b[0m           epochs\u001b[39m=\u001b[39;49m\u001b[39m50\u001b[39;49m,\n\u001b[1;32m     <a href='vscode-notebook-cell:/home/fyang/code/ml/ml-starter/jax/6.ipynb#ch0000002?line=19'>20</a>\u001b[0m           metrics\u001b[39m=\u001b[39;49m[\u001b[39m'\u001b[39;49m\u001b[39maccuracy\u001b[39;49m\u001b[39m'\u001b[39;49m])\n",
      "File \u001b[0;32m~/.conda/envs/mlenv/lib/python3.10/site-packages/jaxnn/model.py:31\u001b[0m, in \u001b[0;36mModel.fit\u001b[0;34m(self, data_loader, optimizer, loss_fn, epochs, metrics, rng, *args, **kwargs)\u001b[0m\n\u001b[1;32m     28\u001b[0m \u001b[39mfor\u001b[39;00m (epoch, (train_iter,\n\u001b[1;32m     29\u001b[0m              (valid_x, valid_y))) \u001b[39min\u001b[39;00m \u001b[39mzip\u001b[39m(\u001b[39mrange\u001b[39m(epochs), data_loader):\n\u001b[1;32m     30\u001b[0m     \u001b[39mfor\u001b[39;00m (x, y) \u001b[39min\u001b[39;00m train_iter:\n\u001b[0;32m---> 31\u001b[0m         loss \u001b[39m=\u001b[39m \u001b[39mself\u001b[39;49m\u001b[39m.\u001b[39;49m_step(x, y, rng)\n\u001b[1;32m     32\u001b[0m     \u001b[39mself\u001b[39m\u001b[39m.\u001b[39m_record(epoch, loss, valid_x, valid_y, metrics)\n",
      "File \u001b[0;32m~/.conda/envs/mlenv/lib/python3.10/site-packages/jaxnn/model.py:58\u001b[0m, in \u001b[0;36mModel._step\u001b[0;34m(self, x, y, rng)\u001b[0m\n\u001b[1;32m     56\u001b[0m \u001b[39mdef\u001b[39;00m \u001b[39m_step\u001b[39m(\u001b[39mself\u001b[39m, x, y, rng):\n\u001b[1;32m     57\u001b[0m     \u001b[39mif\u001b[39;00m \u001b[39mself\u001b[39m\u001b[39m.\u001b[39mstate \u001b[39mis\u001b[39;00m \u001b[39mNone\u001b[39;00m:\n\u001b[0;32m---> 58\u001b[0m         \u001b[39mself\u001b[39m\u001b[39m.\u001b[39mstate \u001b[39m=\u001b[39m \u001b[39mself\u001b[39;49m\u001b[39m.\u001b[39;49m_init_fn(x\u001b[39m.\u001b[39;49mshape[\u001b[39m1\u001b[39;49m:], rng)\n\u001b[1;32m     59\u001b[0m     loss, \u001b[39mself\u001b[39m\u001b[39m.\u001b[39mstate \u001b[39m=\u001b[39m \u001b[39mself\u001b[39m\u001b[39m.\u001b[39m_update(state\u001b[39m=\u001b[39m\u001b[39mself\u001b[39m\u001b[39m.\u001b[39mstate, x\u001b[39m=\u001b[39mx, y\u001b[39m=\u001b[39my)\n\u001b[1;32m     60\u001b[0m     \u001b[39mreturn\u001b[39;00m loss\n",
      "File \u001b[0;32m~/.conda/envs/mlenv/lib/python3.10/site-packages/jaxnn/nn.py:28\u001b[0m, in \u001b[0;36mnet.<locals>._init\u001b[0;34m(n_in, rng)\u001b[0m\n\u001b[1;32m     26\u001b[0m state \u001b[39m=\u001b[39m []\n\u001b[1;32m     27\u001b[0m \u001b[39mfor\u001b[39;00m init, _ \u001b[39min\u001b[39;00m layers:\n\u001b[0;32m---> 28\u001b[0m     n_in, _state \u001b[39m=\u001b[39m init(n_in, rng)\n\u001b[1;32m     29\u001b[0m     rng, _ \u001b[39m=\u001b[39m jax\u001b[39m.\u001b[39mrandom\u001b[39m.\u001b[39msplit(rng)\n\u001b[1;32m     30\u001b[0m     state\u001b[39m.\u001b[39mappend(_state)\n",
      "File \u001b[0;32m~/.conda/envs/mlenv/lib/python3.10/site-packages/jaxnn/nn.py:243\u001b[0m, in \u001b[0;36m_reduce_window2d.<locals>._init\u001b[0;34m(n_in, rng)\u001b[0m\n\u001b[1;32m    242\u001b[0m \u001b[39mdef\u001b[39;00m \u001b[39m_init\u001b[39m(n_in, rng):\n\u001b[0;32m--> 243\u001b[0m     n_out \u001b[39m=\u001b[39m jax\u001b[39m.\u001b[39;49mlax\u001b[39m.\u001b[39;49mreduce_window_shape_tuple(operand_shape\u001b[39m=\u001b[39;49mn_in,\n\u001b[1;32m    244\u001b[0m                                               window_dimensions\u001b[39m=\u001b[39;49m_window,\n\u001b[1;32m    245\u001b[0m                                               window_strides\u001b[39m=\u001b[39;49m_strides,\n\u001b[1;32m    246\u001b[0m                                               padding\u001b[39m=\u001b[39;49mpadding)\n\u001b[1;32m    247\u001b[0m     \u001b[39mreturn\u001b[39;00m n_out, ()\n",
      "File \u001b[0;32m~/.conda/envs/mlenv/lib/python3.10/site-packages/jax/_src/lax/windowed_reductions.py:460\u001b[0m, in \u001b[0;36mreduce_window_shape_tuple\u001b[0;34m(operand_shape, window_dimensions, window_strides, padding, base_dilation, window_dilation)\u001b[0m\n\u001b[1;32m    458\u001b[0m \u001b[39mif\u001b[39;00m window_dilation \u001b[39mis\u001b[39;00m \u001b[39mnot\u001b[39;00m \u001b[39mNone\u001b[39;00m:\n\u001b[1;32m    459\u001b[0m   window_dimensions \u001b[39m=\u001b[39m lax\u001b[39m.\u001b[39m_dilate_shape(window_dimensions, window_dilation)\n\u001b[0;32m--> 460\u001b[0m pads_lo, pads_hi \u001b[39m=\u001b[39m \u001b[39mzip\u001b[39m(\u001b[39m*\u001b[39mpadding)\n\u001b[1;32m    461\u001b[0m operand_padded \u001b[39m=\u001b[39m core\u001b[39m.\u001b[39msum_shapes(operand_shape, pads_lo, pads_hi)\n\u001b[1;32m    462\u001b[0m \u001b[39mreturn\u001b[39;00m core\u001b[39m.\u001b[39mstride_shape(operand_padded, window_dimensions, window_strides)\n",
      "\u001b[0;31mValueError\u001b[0m: not enough values to unpack (expected 2, got 1)"
     ]
    },
    {
     "ename": "",
     "evalue": "",
     "output_type": "error",
     "traceback": [
      "\u001b[1;31mThe Kernel crashed while executing code in the the current cell or a previous cell. Please review the code in the cell(s) to identify a possible cause of the failure. Click <a href='https://aka.ms/vscodeJupyterKernelCrash'>here</a> for more info. View Jupyter <a href='command:jupyter.viewOutput'>log</a> for further details."
     ]
    }
   ],
   "source": [
    "model = Model([\n",
    "    nn.conv2d(n_filter=64, kernel_size=3, strides=1, padding='SAME'),\n",
    "    nn.relu(),\n",
    "    nn.maxpool2d(window=2, strides=2, padding='VALID'),\n",
    "    nn.conv2d(n_filter=128, kernel_size=3, strides=1, padding='SAME'),\n",
    "    nn.relu(),\n",
    "    nn.maxpool2d(window=2, strides=2, padding='VALID'),\n",
    "    nn.conv2d(n_filter=256, kernel_size=3, strides=1, padding='SAME'),\n",
    "    nn.relu(),\n",
    "    nn.maxpool2d(window=2, strides=2, padding='VALID'),\n",
    "    nn.flatten(),\n",
    "    nn.dense(256),\n",
    "    nn.dense(len(cls_map)),\n",
    "    nn.softmax()\n",
    "])\n",
    "model.fit(dataloader,\n",
    "        optimizer=optimizers.sgd(1e-3),\n",
    "        loss_fn=loss.categorical_cross_entropy(from_logits=False),\n",
    "        epochs=50,\n",
    "        metrics=['accuracy'])"
   ]
  },
  {
   "cell_type": "code",
   "execution_count": null,
   "metadata": {},
   "outputs": [],
   "source": []
  }
 ],
 "metadata": {
  "kernelspec": {
   "display_name": "Python 3.8.13 ('mlenv')",
   "language": "python",
   "name": "python3"
  },
  "language_info": {
   "codemirror_mode": {
    "name": "ipython",
    "version": 3
   },
   "file_extension": ".py",
   "mimetype": "text/x-python",
   "name": "python",
   "nbconvert_exporter": "python",
   "pygments_lexer": "ipython3",
   "version": "3.10.0"
  },
  "orig_nbformat": 4,
  "vscode": {
   "interpreter": {
    "hash": "8ae33f7c48cc3e1271596d1bf08ce4d5e6d6f7129ff8bbb83bbb95ed8addff62"
   }
  }
 },
 "nbformat": 4,
 "nbformat_minor": 2
}
