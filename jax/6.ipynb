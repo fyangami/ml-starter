{
 "cells": [
  {
   "cell_type": "code",
   "execution_count": 1,
   "metadata": {},
   "outputs": [
    {
     "name": "stderr",
     "output_type": "stream",
     "text": [
      "/home/fyang/.conda/envs/mlenv/lib/python3.8/site-packages/tqdm/auto.py:22: TqdmWarning: IProgress not found. Please update jupyter and ipywidgets. See https://ipywidgets.readthedocs.io/en/stable/user_install.html\n",
      "  from .autonotebook import tqdm as notebook_tqdm\n"
     ]
    }
   ],
   "source": [
    "from jaxnn import dataset\n",
    "from jaxnn import Model\n",
    "from jaxnn import nn\n",
    "from jaxnn import optimizers\n",
    "from jaxnn import loss\n",
    "import jax\n",
    "from jax import numpy as jnp\n",
    "from matplotlib import pyplot as plt"
   ]
  },
  {
   "cell_type": "code",
   "execution_count": 2,
   "metadata": {},
   "outputs": [],
   "source": [
    "dataloader, cls_map = dataset.cat_and_dog_dataloader('train', resize=(200, 200), batch_size=256, valid_ratio=.05)"
   ]
  },
  {
   "cell_type": "code",
   "execution_count": 5,
   "metadata": {},
   "outputs": [
    {
     "name": "stdout",
     "output_type": "stream",
     "text": [
      "epoch: [  1\\50 -------------------- loss: 0.694 valid loss: 0.693 valid accuracy: 0.495\n",
      "epoch: [  2\\50 -------------------- loss: 0.694 valid loss: 0.693 valid accuracy: 0.495\n",
      "epoch: [  3\\50 #------------------- loss: 0.694 valid loss: 0.693 valid accuracy: 0.495\n",
      "epoch: [  4\\50 #------------------- loss: 0.694 valid loss: 0.693 valid accuracy: 0.495\n",
      "epoch: [  5\\50 ##------------------ loss: 0.694 valid loss: 0.693 valid accuracy: 0.495\n",
      "epoch: [  6\\50 ##------------------ loss: 0.694 valid loss: 0.693 valid accuracy: 0.495\n",
      "epoch: [  7\\50 ##------------------ loss: 0.694 valid loss: 0.693 valid accuracy: 0.495\n",
      "epoch: [  8\\50 ###----------------- loss: 0.694 valid loss: 0.693 valid accuracy: 0.495\n",
      "epoch: [  9\\50 ###----------------- loss: 0.694 valid loss: 0.693 valid accuracy: 0.495\n",
      "epoch: [ 10\\50 ####---------------- loss: 0.694 valid loss: 0.693 valid accuracy: 0.495\n",
      "epoch: [ 11\\50 ####---------------- loss: 0.694 valid loss: 0.693 valid accuracy: 0.495\n",
      "epoch: [ 12\\50 ####---------------- loss: 0.694 valid loss: 0.693 valid accuracy: 0.495\n",
      "epoch: [ 13\\50 #####--------------- loss: 0.694 valid loss: 0.693 valid accuracy: 0.495\n",
      "epoch: [ 14\\50 #####--------------- loss: 0.694 valid loss: 0.693 valid accuracy: 0.495\n",
      "epoch: [ 15\\50 ######-------------- loss: 0.694 valid loss: 0.693 valid accuracy: 0.495\n",
      "epoch: [ 16\\50 ######-------------- loss: 0.694 valid loss: 0.693 valid accuracy: 0.495\n",
      "epoch: [ 17\\50 ######-------------- loss: 0.694 valid loss: 0.693 valid accuracy: 0.495\n",
      "epoch: [ 18\\50 #######------------- loss: 0.694 valid loss: 0.693 valid accuracy: 0.495\n",
      "epoch: [ 19\\50 #######------------- loss: 0.694 valid loss: 0.693 valid accuracy: 0.495\n",
      "epoch: [ 20\\50 ########------------ loss: 0.694 valid loss: 0.693 valid accuracy: 0.495\n",
      "epoch: [ 21\\50 ########------------ loss: 0.694 valid loss: 0.693 valid accuracy: 0.495\n",
      "epoch: [ 22\\50 ########------------ loss: 0.694 valid loss: 0.693 valid accuracy: 0.495\n"
     ]
    },
    {
     "ename": "KeyboardInterrupt",
     "evalue": "",
     "output_type": "error",
     "traceback": [
      "\u001b[0;31m---------------------------------------------------------------------------\u001b[0m",
      "\u001b[0;31mKeyboardInterrupt\u001b[0m                         Traceback (most recent call last)",
      "\u001b[1;32m/home/fyang/code/ml-starter/jax/6.ipynb Cell 3'\u001b[0m in \u001b[0;36m<cell line: 29>\u001b[0;34m()\u001b[0m\n\u001b[1;32m      <a href='vscode-notebook-cell://ssh-remote%2Bhost0/home/fyang/code/ml-starter/jax/6.ipynb#ch0000002vscode-remote?line=0'>1</a>\u001b[0m model \u001b[39m=\u001b[39m Model([\n\u001b[1;32m      <a href='vscode-notebook-cell://ssh-remote%2Bhost0/home/fyang/code/ml-starter/jax/6.ipynb#ch0000002vscode-remote?line=1'>2</a>\u001b[0m     nn\u001b[39m.\u001b[39mconv2d(n_filter\u001b[39m=\u001b[39m\u001b[39m16\u001b[39m, kernel_size\u001b[39m=\u001b[39m\u001b[39m3\u001b[39m, strides\u001b[39m=\u001b[39m\u001b[39m1\u001b[39m),\n\u001b[1;32m      <a href='vscode-notebook-cell://ssh-remote%2Bhost0/home/fyang/code/ml-starter/jax/6.ipynb#ch0000002vscode-remote?line=2'>3</a>\u001b[0m     nn\u001b[39m.\u001b[39mrelu(),\n\u001b[0;32m   (...)\u001b[0m\n\u001b[1;32m     <a href='vscode-notebook-cell://ssh-remote%2Bhost0/home/fyang/code/ml-starter/jax/6.ipynb#ch0000002vscode-remote?line=26'>27</a>\u001b[0m     nn\u001b[39m.\u001b[39msoftmax()\n\u001b[1;32m     <a href='vscode-notebook-cell://ssh-remote%2Bhost0/home/fyang/code/ml-starter/jax/6.ipynb#ch0000002vscode-remote?line=27'>28</a>\u001b[0m ])\n\u001b[0;32m---> <a href='vscode-notebook-cell://ssh-remote%2Bhost0/home/fyang/code/ml-starter/jax/6.ipynb#ch0000002vscode-remote?line=28'>29</a>\u001b[0m model\u001b[39m.\u001b[39;49mfit(dataloader,\n\u001b[1;32m     <a href='vscode-notebook-cell://ssh-remote%2Bhost0/home/fyang/code/ml-starter/jax/6.ipynb#ch0000002vscode-remote?line=29'>30</a>\u001b[0m           optimizer\u001b[39m=\u001b[39;49moptimizers\u001b[39m.\u001b[39;49msgd(\u001b[39m1e-1\u001b[39;49m),\n\u001b[1;32m     <a href='vscode-notebook-cell://ssh-remote%2Bhost0/home/fyang/code/ml-starter/jax/6.ipynb#ch0000002vscode-remote?line=30'>31</a>\u001b[0m           loss_fn\u001b[39m=\u001b[39;49mloss\u001b[39m.\u001b[39;49mcategorical_cross_entropy(from_logits\u001b[39m=\u001b[39;49m\u001b[39mFalse\u001b[39;49;00m),\n\u001b[1;32m     <a href='vscode-notebook-cell://ssh-remote%2Bhost0/home/fyang/code/ml-starter/jax/6.ipynb#ch0000002vscode-remote?line=31'>32</a>\u001b[0m           epochs\u001b[39m=\u001b[39;49m\u001b[39m50\u001b[39;49m,\n\u001b[1;32m     <a href='vscode-notebook-cell://ssh-remote%2Bhost0/home/fyang/code/ml-starter/jax/6.ipynb#ch0000002vscode-remote?line=32'>33</a>\u001b[0m           metrics\u001b[39m=\u001b[39;49m[\u001b[39m'\u001b[39;49m\u001b[39maccuracy\u001b[39;49m\u001b[39m'\u001b[39;49m])\n",
      "File \u001b[0;32m~/code/ml-starter/jaxnn/jaxnn/model.py:31\u001b[0m, in \u001b[0;36mModel.fit\u001b[0;34m(self, data_loader, optimizer, loss_fn, epochs, metrics, rng, *args, **kwargs)\u001b[0m\n\u001b[1;32m     28\u001b[0m \u001b[39mfor\u001b[39;00m (epoch, (train_iter,\n\u001b[1;32m     29\u001b[0m              (valid_x, valid_y))) \u001b[39min\u001b[39;00m \u001b[39mzip\u001b[39m(\u001b[39mrange\u001b[39m(epochs), data_loader):\n\u001b[1;32m     30\u001b[0m     \u001b[39mfor\u001b[39;00m (x, y) \u001b[39min\u001b[39;00m train_iter:\n\u001b[0;32m---> 31\u001b[0m         loss \u001b[39m=\u001b[39m \u001b[39mself\u001b[39;49m\u001b[39m.\u001b[39;49m_step(x, y, rng)\n\u001b[1;32m     32\u001b[0m     \u001b[39mself\u001b[39m\u001b[39m.\u001b[39m_record(epoch, loss, valid_x, valid_y, metrics)\n",
      "File \u001b[0;32m~/code/ml-starter/jaxnn/jaxnn/model.py:59\u001b[0m, in \u001b[0;36mModel._step\u001b[0;34m(self, x, y, rng)\u001b[0m\n\u001b[1;32m     57\u001b[0m \u001b[39mif\u001b[39;00m \u001b[39mself\u001b[39m\u001b[39m.\u001b[39mstate \u001b[39mis\u001b[39;00m \u001b[39mNone\u001b[39;00m:\n\u001b[1;32m     58\u001b[0m     \u001b[39mself\u001b[39m\u001b[39m.\u001b[39mstate \u001b[39m=\u001b[39m \u001b[39mself\u001b[39m\u001b[39m.\u001b[39m_init_fn(x\u001b[39m.\u001b[39mshape[\u001b[39m1\u001b[39m:], rng)\n\u001b[0;32m---> 59\u001b[0m loss, \u001b[39mself\u001b[39m\u001b[39m.\u001b[39mstate \u001b[39m=\u001b[39m \u001b[39mself\u001b[39;49m\u001b[39m.\u001b[39;49m_update(state\u001b[39m=\u001b[39;49m\u001b[39mself\u001b[39;49m\u001b[39m.\u001b[39;49mstate, x\u001b[39m=\u001b[39;49mx, y\u001b[39m=\u001b[39;49my)\n\u001b[1;32m     60\u001b[0m \u001b[39mreturn\u001b[39;00m loss\n",
      "\u001b[0;31mKeyboardInterrupt\u001b[0m: "
     ]
    }
   ],
   "source": [
    "model = Model([\n",
    "    nn.conv2d(n_filter=16, kernel_size=3, strides=1),\n",
    "    nn.relu(),\n",
    "    nn.conv2d(n_filter=16, kernel_size=3, strides=1),\n",
    "    nn.relu(),\n",
    "    nn.maxpool2d(window=2, strides=2),\n",
    "    nn.conv2d(n_filter=32, kernel_size=3, strides=1),\n",
    "    nn.relu(),\n",
    "    nn.conv2d(n_filter=32, kernel_size=3, strides=1),\n",
    "    nn.relu(),\n",
    "    nn.maxpool2d(window=2, strides=2),\n",
    "    nn.conv2d(n_filter=64, kernel_size=3, strides=1),\n",
    "    nn.relu(),\n",
    "    nn.conv2d(n_filter=64, kernel_size=3, strides=1),\n",
    "    nn.relu(),\n",
    "    nn.maxpool2d(window=2, strides=2),\n",
    "    nn.conv2d(n_filter=128, kernel_size=3, strides=1),\n",
    "    nn.relu(),\n",
    "    nn.conv2d(n_filter=128, kernel_size=3, strides=1),\n",
    "    nn.relu(),\n",
    "    nn.maxpool2d(window=2, strides=2),\n",
    "    nn.flatten(),\n",
    "    nn.dense(256),\n",
    "    nn.relu(),\n",
    "    nn.dropout(),\n",
    "    nn.dense(len(cls_map)),\n",
    "    nn.softmax()\n",
    "])\n",
    "model.fit(dataloader,\n",
    "          optimizer=optimizers.sgd(1e-1),\n",
    "          loss_fn=loss.categorical_cross_entropy(from_logits=False),\n",
    "          epochs=10,\n",
    "          metrics=['accuracy'])\n"
   ]
  },
  {
   "cell_type": "code",
   "execution_count": 6,
   "metadata": {},
   "outputs": [
    {
     "data": {
      "image/png": "[encoded data removed]",
      "text/plain": [
       "<Figure size 432x288 with 1 Axes>"
      ]
     },
     "metadata": {
      "needs_background": "light"
     },
     "output_type": "display_data"
    }
   ],
   "source": [
    "l1, = plt.plot(model.losses)\n",
    "l2, = plt.plot(model.valid_losses)\n",
    "plt.legend([l1, l2], ['loss', 'valid loss'])\n",
    "plt.show()"
   ]
  },
  {
   "cell_type": "code",
   "execution_count": 9,
   "metadata": {},
   "outputs": [],
   "source": [
    "(train_iter, (x, y)) = next(dataloader)"
   ]
  },
  {
   "cell_type": "code",
   "execution_count": 22,
   "metadata": {},
   "outputs": [
    {
     "data": {
      "text/plain": [
       "DeviceArray([[0.4998037 , 0.50019634],\n",
       "             [0.4998037 , 0.50019634],\n",
       "             [0.4998037 , 0.50019634],\n",
       "             [0.4998037 , 0.50019634],\n",
       "             [0.4998037 , 0.50019634],\n",
       "             [0.4998037 , 0.50019634],\n",
       "             [0.4998037 , 0.50019634],\n",
       "             [0.4998037 , 0.50019634],\n",
       "             [0.4998037 , 0.50019634],\n",
       "             [0.4998037 , 0.50019634]], dtype=float32)"
      ]
     },
     "execution_count": 22,
     "metadata": {},
     "output_type": "execute_result"
    }
   ],
   "source": [
    "model.predict(x[:10])"
   ]
  }
 ],
 "metadata": {
  "kernelspec": {
   "display_name": "Python 3.8.13 ('mlenv')",
   "language": "python",
   "name": "python3"
  },
  "language_info": {
   "codemirror_mode": {
    "name": "ipython",
    "version": 3
   },
   "file_extension": ".py",
   "mimetype": "text/x-python",
   "name": "python",
   "nbconvert_exporter": "python",
   "pygments_lexer": "ipython3",
   "version": "3.8.13"
  },
  "orig_nbformat": 4,
  "vscode": {
   "interpreter": {
    "hash": "8ae33f7c48cc3e1271596d1bf08ce4d5e6d6f7129ff8bbb83bbb95ed8addff62"
   }
  }
 },
 "nbformat": 4,
 "nbformat_minor": 2
}
