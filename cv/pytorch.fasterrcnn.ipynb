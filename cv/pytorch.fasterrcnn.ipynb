{
 "cells": [
  {
   "cell_type": "code",
   "execution_count": 1,
   "metadata": {},
   "outputs": [
    {
     "name": "stderr",
     "output_type": "stream",
     "text": [
      "2022-07-07 09:46:39.483104: W external/org_tensorflow/tensorflow/stream_executor/platform/default/dso_loader.cc:64] Could not load dynamic library 'libcudart.so.11.0'; dlerror: libcudart.so.11.0: cannot open shared object file: No such file or directory\n",
      "2022-07-07 09:46:39.504244: W external/org_tensorflow/tensorflow/stream_executor/platform/default/dso_loader.cc:64] Could not load dynamic library 'libcudart.so.11.0'; dlerror: libcudart.so.11.0: cannot open shared object file: No such file or directory\n",
      "2022-07-07 09:46:39.506178: W external/org_tensorflow/tensorflow/stream_executor/platform/default/dso_loader.cc:64] Could not load dynamic library 'libcudart.so.11.0'; dlerror: libcudart.so.11.0: cannot open shared object file: No such file or directory\n",
      "2022-07-07 09:46:39.698941: W external/org_tensorflow/tensorflow/stream_executor/platform/default/dso_loader.cc:64] Could not load dynamic library 'libcuda.so.1'; dlerror: libcuda.so.1: cannot open shared object file: No such file or directory\n",
      "WARNING:absl:No GPU/TPU found, falling back to CPU. (Set TF_CPP_MIN_LOG_LEVEL=0 and rerun for more info.)\n",
      "2022-07-07 09:46:39.698962: W external/org_tensorflow/tensorflow/stream_executor/cuda/cuda_driver.cc:269] failed call to cuInit: UNKNOWN ERROR (303)\n"
     ]
    }
   ],
   "source": [
    "import torch\n",
    "import torchvision\n",
    "from jaxnn import dataset\n",
    "import numpy as np\n",
    "import sys\n",
    "sys.path.append('../')\n",
    "import face_mask"
   ]
  },
  {
   "cell_type": "code",
   "execution_count": 2,
   "metadata": {},
   "outputs": [],
   "source": [
    "train_iter = face_mask.face_mask_dataloader(batch_size=3)"
   ]
  },
  {
   "cell_type": "code",
   "execution_count": 3,
   "metadata": {},
   "outputs": [],
   "source": [
    "imgs, labels = next(train_iter)"
   ]
  },
  {
   "cell_type": "code",
   "execution_count": 4,
   "metadata": {},
   "outputs": [
    {
     "data": {
      "text/plain": [
       "[{'boxes': tensor([[ 23.,  53.,  61., 102.],\n",
       "          [112.,  49., 146.,  96.],\n",
       "          [195.,  49., 232.,  98.],\n",
       "          [ 21., 177.,  61., 226.],\n",
       "          [109., 180., 148., 233.],\n",
       "          [196., 180., 234., 227.]]),\n",
       "  'labels': tensor([1, 1, 1, 1, 1, 1], dtype=torch.int32)},\n",
       " {'boxes': tensor([[ 38.,  44.,  71.,  89.],\n",
       "          [ 15., 105.,  49., 159.],\n",
       "          [ 59.,  97.,  87., 146.],\n",
       "          [ 94.,  99., 129., 151.],\n",
       "          [120.,  53., 149.,  86.],\n",
       "          [158.,  75., 182., 117.],\n",
       "          [187.,  88., 225., 144.],\n",
       "          [230.,  70., 257., 124.]]),\n",
       "  'labels': tensor([2, 1, 1, 1, 2, 1, 1, 1], dtype=torch.int32)},\n",
       " {'boxes': tensor([[129.,  97., 218., 192.]]),\n",
       "  'labels': tensor([1], dtype=torch.int32)}]"
      ]
     },
     "execution_count": 4,
     "metadata": {},
     "output_type": "execute_result"
    }
   ],
   "source": [
    "labels"
   ]
  },
  {
   "cell_type": "code",
   "execution_count": null,
   "metadata": {},
   "outputs": [],
   "source": [
    "net = torchvision.models.detection.fasterrcnn_resnet50_fpn(pretrained=True, progress=True, num_classes=2, )\n",
    "n_epochs = 10\n",
    "optimizer = torch.optim.Adadelta(net.parameters(), lr=1e-2)\n",
    "device = torch.device('cuda')\n",
    "net.to(device)\n",
    "net.train()\n",
    "for epoch in range(n_epochs):\n",
    "    for x, y in train_iter:        \n",
    "        x, y = x.to(device), y.to(device)\n",
    "        optimizer.zero_grad()\n",
    "        y_hat = net(x, y)\n",
    "        optimizer.step()\n",
    "        \n"
   ]
  },
  {
   "cell_type": "code",
   "execution_count": 4,
   "metadata": {},
   "outputs": [
    {
     "data": {
      "text/plain": [
       "(85, 115, 5)"
      ]
     },
     "execution_count": 4,
     "metadata": {},
     "output_type": "execute_result"
    }
   ],
   "source": []
  }
 ],
 "metadata": {
  "kernelspec": {
   "display_name": "Python 3.10.0 ('mlenv')",
   "language": "python",
   "name": "python3"
  },
  "language_info": {
   "codemirror_mode": {
    "name": "ipython",
    "version": 3
   },
   "file_extension": ".py",
   "mimetype": "text/x-python",
   "name": "python",
   "nbconvert_exporter": "python",
   "pygments_lexer": "ipython3",
   "version": "3.10.0"
  },
  "orig_nbformat": 4,
  "vscode": {
   "interpreter": {
    "hash": "8ae33f7c48cc3e1271596d1bf08ce4d5e6d6f7129ff8bbb83bbb95ed8addff62"
   }
  }
 },
 "nbformat": 4,
 "nbformat_minor": 2
}
