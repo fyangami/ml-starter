{
 "cells": [
  {
   "cell_type": "code",
   "execution_count": 1,
   "metadata": {},
   "outputs": [],
   "source": [
    "import numpy as np\n",
    "import pandas as pd \n",
    "import matplotlib.pyplot as plt"
   ]
  },
  {
   "cell_type": "code",
   "execution_count": 2,
   "metadata": {},
   "outputs": [],
   "source": [
    "train_data = pd.read_csv('train.csv')\n",
    "test_data = pd.read_csv('test.csv')"
   ]
  },
  {
   "cell_type": "code",
   "execution_count": 3,
   "metadata": {},
   "outputs": [],
   "source": [
    "# 数据预处理\n",
    "import sys\n",
    "sys.path.append('../../')\n",
    "\n",
    "train_label = train_data['price_range'].to_numpy().reshape(-1, 1)\n",
    "train_data.drop('price_range', axis=1, inplace=True)\n",
    "from utils.data import one_hot\n",
    "# one-hot 编码处理类别信息\n",
    "one_hot(train_data, ['blue', 'four_g', 'dual_sim', 'three_g', 'touch_screen', 'wifi'])\n",
    "one_hot(test_data, ['blue', 'four_g', 'dual_sim', 'three_g', 'touch_screen', 'wifi'])\n",
    "\n",
    "from utils.preprocess import split_train_test\n",
    "\n",
    "train_data, train_label, test_data, test_label = split_train_test(train_data.to_numpy(), train_label)"
   ]
  },
  {
   "cell_type": "code",
   "execution_count": 4,
   "metadata": {},
   "outputs": [
    {
     "name": "stdout",
     "output_type": "stream",
     "text": [
      "got classes: [0 1 2 3], ues one to many classifier\n"
     ]
    }
   ],
   "source": [
    "import sys\n",
    "sys.path.append('../../')\n",
    "\n",
    "from models.logistic_regression import MultiLogisticClassifier\n",
    "from utils.preprocess import std\n",
    "\n",
    "train_data = std(train_data)\n",
    "test_data = std(test_data)\n",
    "\n",
    "model = MultiLogisticClassifier(eta=.1, epochs=2000, batch_size=30)\n",
    "model.fit(train_data, train_label, test_data, test_label)\n",
    "# model2 = LogisticClassifier(eta=1, epochs=100, batch_size=30)\n",
    "# model2.fit(train_data, train_label, test_data, test_label)\n",
    "# plt.show()\n",
    "# plt.plot(model2.losses)"
   ]
  },
  {
   "cell_type": "code",
   "execution_count": 5,
   "metadata": {},
   "outputs": [
    {
     "data": {
      "text/plain": [
       "0.9725"
      ]
     },
     "execution_count": 5,
     "metadata": {},
     "output_type": "execute_result"
    }
   ],
   "source": [
    "predicted = model.score(test_data)\n",
    "# 验证一下测试集的精度\n",
    "(np.round(predicted) == test_label).sum() / len(test_label)\n",
    "# np.round(predicted)"
   ]
  },
  {
   "cell_type": "code",
   "execution_count": 6,
   "metadata": {},
   "outputs": [
    {
     "data": {
      "text/plain": [
       "array([3., 3., 3., 3., 0., 3., 0., 3., 3., 3., 2., 0., 0., 3., 2., 3., 0.,\n",
       "       2., 3., 3., 3., 3., 3., 2., 3., 3., 2., 2., 3., 0., 0., 3., 3., 3.,\n",
       "       3., 0., 0., 3., 0., 1., 0., 0., 3., 3., 0., 1., 3., 2., 0., 0., 3.,\n",
       "       3., 2., 3., 3., 3., 2., 2., 3., 0., 3., 3., 3., 3., 0., 3., 2., 3.,\n",
       "       3., 3., 3., 3., 3., 2., 0., 0., 0., 3., 2., 0., 2., 0., 3., 0., 3.,\n",
       "       0., 0., 3., 2., 2., 0., 3., 3., 3., 3., 3., 3., 2., 3., 3., 3., 0.,\n",
       "       3., 3., 3., 0., 3., 3., 2., 2., 0., 0., 3., 2., 2., 3., 0., 3., 3.,\n",
       "       2., 3., 3., 3., 3., 3., 2., 3., 2., 3., 3., 3., 2., 0., 3., 2., 3.,\n",
       "       3., 3., 3., 1., 0., 0., 3., 3., 0., 3., 0., 2., 3., 2., 3., 3., 0.,\n",
       "       3., 2., 3., 3., 1., 3., 3., 3., 3., 0., 1., 3., 0., 3., 1., 3., 2.,\n",
       "       3., 3., 1., 3., 2., 1., 3., 3., 3., 3., 3., 2., 0., 3., 0., 2., 3.,\n",
       "       3., 0., 3., 3., 3., 3., 3., 2., 3., 3., 2., 3., 3., 3., 3., 3., 3.,\n",
       "       3., 3., 3., 3., 2., 2., 2., 3., 2., 2., 3., 0., 3., 3., 3., 3., 3.,\n",
       "       3., 0., 0., 3., 3., 0., 2., 3., 3., 3., 3., 3., 2., 3., 3., 0., 0.,\n",
       "       0., 3., 3., 3., 0., 3., 3., 0., 3., 2., 3., 2., 0., 3., 0., 2., 3.,\n",
       "       3., 0., 1., 3., 3., 2., 2., 3., 1., 0., 0., 3., 2., 1., 2., 3., 2.,\n",
       "       1., 2., 2., 3., 2., 3., 2., 2., 3., 3., 3., 2., 3., 3., 3., 0., 3.,\n",
       "       3., 3., 1., 3., 3., 0., 3., 3., 2., 2., 0., 3., 1., 0., 2., 2., 3.,\n",
       "       3., 2., 3., 2., 3., 2., 3., 3., 3., 3., 3., 3., 3., 0., 1., 2., 3.,\n",
       "       3., 3., 1., 3., 3., 0., 3., 2., 3., 0., 3., 2., 3., 0., 2., 3., 2.,\n",
       "       3., 3., 1., 3., 3., 3., 3., 1., 3., 1., 2., 1., 3., 3., 3., 3., 3.,\n",
       "       1., 3., 2., 0., 0., 3., 3., 3., 3., 3., 3., 3., 3., 3., 0., 3., 3.,\n",
       "       0., 3., 0., 2., 3., 3., 3., 3., 3., 2., 0., 2., 0., 3., 0., 0., 2.,\n",
       "       3., 3., 2., 0., 2., 1., 3., 3., 3.])"
      ]
     },
     "execution_count": 6,
     "metadata": {},
     "output_type": "execute_result"
    }
   ],
   "source": [
    "\n",
    "model.predict(test_data)"
   ]
  }
 ],
 "metadata": {
  "interpreter": {
   "hash": "240684a6bf55e82a0f5995d45026058ae310044e71522ea1b595ad868521a9f2"
  },
  "kernelspec": {
   "display_name": "Python 3.10.0 ('mlenv')",
   "language": "python",
   "name": "python3"
  },
  "language_info": {
   "codemirror_mode": {
    "name": "ipython",
    "version": 3
   },
   "file_extension": ".py",
   "mimetype": "text/x-python",
   "name": "python",
   "nbconvert_exporter": "python",
   "pygments_lexer": "ipython3",
   "version": "3.10.0"
  },
  "orig_nbformat": 4
 },
 "nbformat": 4,
 "nbformat_minor": 2
}
