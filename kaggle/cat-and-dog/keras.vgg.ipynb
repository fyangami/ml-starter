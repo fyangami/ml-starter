{
 "cells": [
  {
   "cell_type": "code",
   "execution_count": null,
   "metadata": {},
   "outputs": [],
   "source": [
    "import tensorflow as tf\n",
    "from tensorflow import keras\n",
    "import os\n",
    "os.environ['TF_CPP_MIN_LOG_LEVEL'] = '1'"
   ]
  },
  {
   "cell_type": "code",
   "execution_count": null,
   "metadata": {},
   "outputs": [],
   "source": [
    "def vgg11(outputs):\n",
    "    net = keras.models.Sequential()\n",
    "    filters = 64\n",
    "    for n_conv in [1, 1, 2, 2, 2]:\n",
    "        for _ in range(n_conv):\n",
    "            net.add(\n",
    "                keras.layers.Conv2D(filters, 3, padding=\"same\", activation=\"relu\")\n",
    "            )\n",
    "        net.add(\n",
    "            keras.layers.MaxPool2D(2, 2)\n",
    "        )\n",
    "        filters = filters << 1\n",
    "    net.add(keras.layers.Flatten())\n",
    "    net.add(\n",
    "        keras.layers.Dense(512, activation='relu')\n",
    "    )\n",
    "    net.add(\n",
    "        keras.layers.Dense(256, activation='relu')\n",
    "    )\n",
    "    net.add(\n",
    "        keras.layers.Dense(outputs)\n",
    "    )\n",
    "    return net"
   ]
  },
  {
   "cell_type": "code",
   "execution_count": null,
   "metadata": {},
   "outputs": [],
   "source": [
    "net = vgg11(2)"
   ]
  },
  {
   "cell_type": "code",
   "execution_count": null,
   "metadata": {},
   "outputs": [],
   "source": [
    "def load_data(resize=(256, 256), batch_size=50):\n",
    "    import os \n",
    "    def __load_data(path):\n",
    "        sub_paths = os.listdir(path)\n",
    "        datas = []\n",
    "        labels = []\n",
    "        for label, label_name in enumerate(sub_paths):\n",
    "            for simple in os.listdir(path + os.sep + label_name):\n",
    "                if simple.endswith('jpg'):\n",
    "                    labels.append(label)\n",
    "                    datas.append(path + os.sep + label_name + os.sep + simple)\n",
    "        datas = tf.data.Dataset.from_tensor_slices(datas)\n",
    "        labels = tf.data.Dataset.from_tensor_slices(labels)\n",
    "        def map_img(img_path):\n",
    "            return tf.image.resize(tf.image.decode_jpeg(tf.io.read_file(img_path)), resize) / 255.\n",
    "        datas = datas.map(map_img, num_parallel_calls=tf.data.AUTOTUNE)\n",
    "        ds = tf.data.Dataset.zip((datas, labels))\n",
    "        # return ds\n",
    "        return ds.shuffle(buffer_size=len(datas), reshuffle_each_iteration=True).batch(batch_size).prefetch(tf.data.AUTOTUNE)\n",
    "        # return datas.batch(batch_size).prefetch(tf.data.AUTOTUNE), labels.batch(batch_size).prefetch(tf.data.AUTOTUNE)\n",
    "    return __load_data('./training_set/'), __load_data('./test_set/')"
   ]
  },
  {
   "cell_type": "code",
   "execution_count": null,
   "metadata": {},
   "outputs": [],
   "source": [
    "# 加载数据\n",
    "BATCH_SIZE = 50\n",
    "train_iter, test_iter = load_data(batch_size=BATCH_SIZE, resize=(200, 200))"
   ]
  },
  {
   "cell_type": "code",
   "execution_count": null,
   "metadata": {},
   "outputs": [],
   "source": [
    "\n",
    "ETA = 1e-4\n",
    "EPOCHS = 20\n",
    "\n",
    "optimizer = keras.optimizers.SGD(learning_rate=ETA)\n",
    "loss_fn = keras.losses.SparseCategoricalCrossentropy(from_logits=True)\n",
    "accuracy = keras.metrics.SparseCategoricalAccuracy()\n",
    "\n",
    "def acc_fn(y, y_hat):\n",
    "    accuracy.reset_state()\n",
    "    accuracy.update_state(y, y_hat)\n",
    "    return accuracy.result().numpy()\n",
    "\n",
    "for epoch in range(EPOCHS):\n",
    "    for valid_x, valid_y in train_iter.take(1):\n",
    "        pass\n",
    "    for step, (x, y) in enumerate(train_iter):\n",
    "        with tf.GradientTape() as gt:\n",
    "            y_hat = net(x)\n",
    "            y_hat = tf.nn.softmax(y_hat)\n",
    "            l = loss_fn(y, y_hat)\n",
    "        grads = gt.gradient(l, net.trainable_weights)\n",
    "        optimizer.apply_gradients(zip(grads, net.trainable_weights))\n",
    "        if step % 10 == 0:\n",
    "            acc = acc_fn(y, y_hat)\n",
    "            valid_acc = acc_fn(valid_y, net(valid_x))\n",
    "            print(\"loss: %.6f, acc: %.4f, valid acc: %.4f\" % (l, acc, valid_acc))\n",
    "            "
   ]
  }
 ],
 "metadata": {
  "interpreter": {
   "hash": "8ae33f7c48cc3e1271596d1bf08ce4d5e6d6f7129ff8bbb83bbb95ed8addff62"
  },
  "kernelspec": {
   "display_name": "Python 3.10.0 ('mlenv')",
   "language": "python",
   "name": "python3"
  },
  "language_info": {
   "codemirror_mode": {
    "name": "ipython",
    "version": 3
   },
   "file_extension": ".py",
   "mimetype": "text/x-python",
   "name": "python",
   "nbconvert_exporter": "python",
   "pygments_lexer": "ipython3",
   "version": "3.10.0"
  },
  "orig_nbformat": 4
 },
 "nbformat": 4,
 "nbformat_minor": 2
}
