{
 "cells": [
  {
   "cell_type": "code",
   "execution_count": 1,
   "metadata": {},
   "outputs": [],
   "source": [
    "import tensorflow as tf\n",
    "import os\n",
    "os.environ['TF_CPP_MIN_LOG_LEVEL'] = '1'"
   ]
  },
  {
   "cell_type": "code",
   "execution_count": 2,
   "metadata": {},
   "outputs": [],
   "source": [
    "def load_data(resize=(256, 256), batch_size=50):\n",
    "    import os \n",
    "    def __load_data(path):\n",
    "        sub_paths = os.listdir(path)\n",
    "        datas = []\n",
    "        labels = []\n",
    "        for label, label_name in enumerate(sub_paths):\n",
    "            for simple in os.listdir(path + os.sep + label_name):\n",
    "                if simple.endswith('jpg'):\n",
    "                    labels.append(label)\n",
    "                    datas.append(path + os.sep + label_name + os.sep + simple)\n",
    "        datas = tf.data.Dataset.from_tensor_slices(datas)\n",
    "        labels = tf.data.Dataset.from_tensor_slices(labels)\n",
    "        def map_img(img_path):\n",
    "            return tf.image.resize(tf.image.decode_jpeg(tf.io.read_file(img_path)), resize) / 255.\n",
    "        datas = datas.map(map_img, num_parallel_calls=tf.data.AUTOTUNE)\n",
    "        ds = tf.data.Dataset.zip((datas, labels))\n",
    "        # return ds\n",
    "        return ds.shuffle(buffer_size=len(datas)).batch(batch_size).prefetch(tf.data.AUTOTUNE)\n",
    "        # return datas.batch(batch_size).prefetch(tf.data.AUTOTUNE), labels.batch(batch_size).prefetch(tf.data.AUTOTUNE)\n",
    "    return __load_data('./training_set/'), __load_data('./test_set/')"
   ]
  },
  {
   "cell_type": "code",
   "execution_count": 3,
   "metadata": {},
   "outputs": [],
   "source": [
    "# 加载数据\n",
    "BATCH_SIZE = 20\n",
    "train_iter, test_iter = load_data(batch_size=BATCH_SIZE, resize=(200, 200))"
   ]
  },
  {
   "cell_type": "code",
   "execution_count": 4,
   "metadata": {},
   "outputs": [],
   "source": [
    "from tensorflow import keras\n",
    "net = keras.models.Sequential([\n",
    "    keras.Input(shape=(200, 200, 3)),\n",
    "    keras.layers.Conv2D(filters=16, kernel_size=3, padding='same', activation='relu'),\n",
    "    keras.layers.Conv2D(filters=16, kernel_size=3, padding='same', activation='relu'),\n",
    "    keras.layers.MaxPool2D(strides=2, pool_size=2),\n",
    "    keras.layers.Conv2D(filters=32, kernel_size=3, activation='relu', padding='same'),\n",
    "    keras.layers.Conv2D(filters=32, kernel_size=3, activation='relu', padding='same'),\n",
    "    keras.layers.MaxPool2D(strides=2, pool_size=2),\n",
    "    keras.layers.Conv2D(filters=64, kernel_size=3, padding='same', activation='relu'),\n",
    "    keras.layers.Conv2D(filters=64, kernel_size=3, padding='same', activation='relu'),\n",
    "    keras.layers.MaxPool2D(strides=2, pool_size=2),\n",
    "    keras.layers.Conv2D(filters=128, kernel_size=3, padding='same', activation='relu'),\n",
    "    keras.layers.Conv2D(filters=128, kernel_size=3, padding='same', activation='relu'),\n",
    "    keras.layers.MaxPool2D(strides=2, pool_size=2),\n",
    "    keras.layers.Flatten(),\n",
    "    keras.layers.Dense(512, activation='relu'),\n",
    "    keras.layers.Dropout(.5),\n",
    "    keras.layers.Dense(256, activation='relu'),\n",
    "    keras.layers.Dropout(.5),\n",
    "    keras.layers.Dense(2)\n",
    "])\n",
    "optimizer = keras.optimizers.RMSprop(learning_rate=1e-3)\n",
    "net.compile(optimizer=optimizer, loss=keras.losses.SparseCategoricalCrossentropy(from_logits=True), metrics=['accuracy'])"
   ]
  },
  {
   "cell_type": "code",
   "execution_count": 5,
   "metadata": {},
   "outputs": [
    {
     "name": "stdout",
     "output_type": "stream",
     "text": [
      "Model: \"sequential\"\n",
      "_________________________________________________________________\n",
      " Layer (type)                Output Shape              Param #   \n",
      "=================================================================\n",
      " conv2d (Conv2D)             (None, 200, 200, 16)      448       \n",
      "                                                                 \n",
      " conv2d_1 (Conv2D)           (None, 200, 200, 16)      2320      \n",
      "                                                                 \n",
      " max_pooling2d (MaxPooling2D  (None, 100, 100, 16)     0         \n",
      " )                                                               \n",
      "                                                                 \n",
      " conv2d_2 (Conv2D)           (None, 100, 100, 32)      4640      \n",
      "                                                                 \n",
      " conv2d_3 (Conv2D)           (None, 100, 100, 32)      9248      \n",
      "                                                                 \n",
      " max_pooling2d_1 (MaxPooling  (None, 50, 50, 32)       0         \n",
      " 2D)                                                             \n",
      "                                                                 \n",
      " conv2d_4 (Conv2D)           (None, 50, 50, 64)        18496     \n",
      "                                                                 \n",
      " conv2d_5 (Conv2D)           (None, 50, 50, 64)        36928     \n",
      "                                                                 \n",
      " max_pooling2d_2 (MaxPooling  (None, 25, 25, 64)       0         \n",
      " 2D)                                                             \n",
      "                                                                 \n",
      " conv2d_6 (Conv2D)           (None, 25, 25, 128)       73856     \n",
      "                                                                 \n",
      " conv2d_7 (Conv2D)           (None, 25, 25, 128)       147584    \n",
      "                                                                 \n",
      " max_pooling2d_3 (MaxPooling  (None, 12, 12, 128)      0         \n",
      " 2D)                                                             \n",
      "                                                                 \n",
      " flatten (Flatten)           (None, 18432)             0         \n",
      "                                                                 \n",
      " dense (Dense)               (None, 512)               9437696   \n",
      "                                                                 \n",
      " dropout (Dropout)           (None, 512)               0         \n",
      "                                                                 \n",
      " dense_1 (Dense)             (None, 256)               131328    \n",
      "                                                                 \n",
      " dropout_1 (Dropout)         (None, 256)               0         \n",
      "                                                                 \n",
      " dense_2 (Dense)             (None, 2)                 514       \n",
      "                                                                 \n",
      "=================================================================\n",
      "Total params: 9,863,058\n",
      "Trainable params: 9,863,058\n",
      "Non-trainable params: 0\n",
      "_________________________________________________________________\n"
     ]
    }
   ],
   "source": [
    "net.summary()"
   ]
  },
  {
   "cell_type": "code",
   "execution_count": 6,
   "metadata": {},
   "outputs": [
    {
     "name": "stdout",
     "output_type": "stream",
     "text": [
      "Epoch 1/50\n",
      "401/401 [==============================] - 19s 35ms/step - loss: 0.7026 - accuracy: 0.5196\n",
      "Epoch 2/50\n",
      "401/401 [==============================] - 15s 34ms/step - loss: 0.6894 - accuracy: 0.5595\n",
      "Epoch 3/50\n",
      "401/401 [==============================] - 16s 35ms/step - loss: 0.6490 - accuracy: 0.6062\n",
      "Epoch 4/50\n",
      "401/401 [==============================] - 16s 35ms/step - loss: 0.6207 - accuracy: 0.6632\n",
      "Epoch 5/50\n",
      "401/401 [==============================] - 16s 35ms/step - loss: 0.5818 - accuracy: 0.6952\n",
      "Epoch 6/50\n",
      "401/401 [==============================] - 15s 35ms/step - loss: 0.5242 - accuracy: 0.7464\n",
      "Epoch 7/50\n",
      "401/401 [==============================] - 16s 35ms/step - loss: 0.4753 - accuracy: 0.7795\n",
      "Epoch 8/50\n",
      "401/401 [==============================] - 16s 35ms/step - loss: 0.4365 - accuracy: 0.8021\n",
      "Epoch 9/50\n",
      "401/401 [==============================] - 16s 35ms/step - loss: 0.4147 - accuracy: 0.8164\n",
      "Epoch 10/50\n",
      "401/401 [==============================] - 15s 35ms/step - loss: 0.4131 - accuracy: 0.8239\n",
      "Epoch 11/50\n",
      "401/401 [==============================] - 15s 35ms/step - loss: 0.3821 - accuracy: 0.8347\n",
      "Epoch 12/50\n",
      "401/401 [==============================] - 15s 35ms/step - loss: 0.3671 - accuracy: 0.8406\n",
      "Epoch 13/50\n",
      "401/401 [==============================] - 15s 35ms/step - loss: 0.3505 - accuracy: 0.8557\n",
      "Epoch 14/50\n",
      "401/401 [==============================] - 15s 35ms/step - loss: 0.3398 - accuracy: 0.8590\n",
      "Epoch 15/50\n",
      "401/401 [==============================] - 15s 35ms/step - loss: 0.3233 - accuracy: 0.8652\n",
      "Epoch 16/50\n",
      "401/401 [==============================] - 15s 35ms/step - loss: 0.3282 - accuracy: 0.8657\n",
      "Epoch 17/50\n",
      "401/401 [==============================] - 15s 35ms/step - loss: 0.3175 - accuracy: 0.8686\n",
      "Epoch 18/50\n",
      "401/401 [==============================] - 15s 35ms/step - loss: 0.3267 - accuracy: 0.8757\n",
      "Epoch 19/50\n",
      "401/401 [==============================] - 15s 35ms/step - loss: 0.3095 - accuracy: 0.8783\n",
      "Epoch 20/50\n",
      "401/401 [==============================] - 15s 35ms/step - loss: 0.3215 - accuracy: 0.8829\n",
      "Epoch 21/50\n",
      "401/401 [==============================] - 15s 35ms/step - loss: 0.3060 - accuracy: 0.8807\n",
      "Epoch 22/50\n",
      "401/401 [==============================] - 15s 35ms/step - loss: 0.2961 - accuracy: 0.8841\n",
      "Epoch 23/50\n",
      "401/401 [==============================] - 15s 35ms/step - loss: 0.3086 - accuracy: 0.8813\n",
      "Epoch 24/50\n",
      "401/401 [==============================] - 15s 35ms/step - loss: 0.2986 - accuracy: 0.8876\n",
      "Epoch 25/50\n",
      "401/401 [==============================] - 16s 35ms/step - loss: 0.2713 - accuracy: 0.8893\n",
      "Epoch 26/50\n",
      "401/401 [==============================] - 16s 36ms/step - loss: 0.3064 - accuracy: 0.8843\n",
      "Epoch 27/50\n",
      "401/401 [==============================] - 16s 36ms/step - loss: 0.3153 - accuracy: 0.8833\n",
      "Epoch 28/50\n",
      "401/401 [==============================] - 16s 36ms/step - loss: 0.3115 - accuracy: 0.8834\n",
      "Epoch 29/50\n",
      "401/401 [==============================] - 16s 35ms/step - loss: 0.3068 - accuracy: 0.8818\n",
      "Epoch 30/50\n",
      "401/401 [==============================] - 15s 35ms/step - loss: 0.3312 - accuracy: 0.8798\n",
      "Epoch 31/50\n",
      "401/401 [==============================] - 15s 35ms/step - loss: 0.3338 - accuracy: 0.8813\n",
      "Epoch 32/50\n",
      "401/401 [==============================] - 15s 35ms/step - loss: 0.3076 - accuracy: 0.8816\n",
      "Epoch 33/50\n",
      "401/401 [==============================] - 15s 35ms/step - loss: 0.3093 - accuracy: 0.8892\n",
      "Epoch 34/50\n",
      "401/401 [==============================] - 16s 35ms/step - loss: 0.3266 - accuracy: 0.8834\n",
      "Epoch 35/50\n",
      "401/401 [==============================] - 16s 35ms/step - loss: 0.3179 - accuracy: 0.8836\n",
      "Epoch 36/50\n",
      "401/401 [==============================] - 16s 35ms/step - loss: 0.3817 - accuracy: 0.8728\n",
      "Epoch 37/50\n",
      "401/401 [==============================] - 16s 35ms/step - loss: 0.3459 - accuracy: 0.8777\n",
      "Epoch 38/50\n",
      "401/401 [==============================] - 16s 35ms/step - loss: 0.3415 - accuracy: 0.8732\n",
      "Epoch 39/50\n",
      "401/401 [==============================] - 16s 35ms/step - loss: 0.3354 - accuracy: 0.8783\n",
      "Epoch 40/50\n",
      "401/401 [==============================] - 16s 35ms/step - loss: 0.3765 - accuracy: 0.8686\n",
      "Epoch 41/50\n",
      "401/401 [==============================] - 16s 35ms/step - loss: 0.3637 - accuracy: 0.8638\n",
      "Epoch 42/50\n",
      "401/401 [==============================] - 16s 35ms/step - loss: 0.4011 - accuracy: 0.8711\n",
      "Epoch 43/50\n",
      "401/401 [==============================] - 16s 35ms/step - loss: 0.3639 - accuracy: 0.8692\n",
      "Epoch 44/50\n",
      "401/401 [==============================] - 16s 35ms/step - loss: 0.3757 - accuracy: 0.8738\n",
      "Epoch 45/50\n",
      "401/401 [==============================] - 16s 35ms/step - loss: 0.3836 - accuracy: 0.8556\n",
      "Epoch 46/50\n",
      "401/401 [==============================] - 16s 35ms/step - loss: 0.4036 - accuracy: 0.8571\n",
      "Epoch 47/50\n",
      "401/401 [==============================] - 16s 35ms/step - loss: 0.3599 - accuracy: 0.8592\n",
      "Epoch 48/50\n",
      "401/401 [==============================] - 16s 35ms/step - loss: 0.4262 - accuracy: 0.8631\n",
      "Epoch 49/50\n",
      "401/401 [==============================] - 15s 35ms/step - loss: 0.4301 - accuracy: 0.8606\n",
      "Epoch 50/50\n",
      "401/401 [==============================] - 16s 35ms/step - loss: 0.3954 - accuracy: 0.8607\n"
     ]
    },
    {
     "data": {
      "text/plain": [
       "<keras.callbacks.History at 0x7fcd41703160>"
      ]
     },
     "execution_count": 6,
     "metadata": {},
     "output_type": "execute_result"
    }
   ],
   "source": [
    "net.fit(train_iter, epochs=50)"
   ]
  },
  {
   "cell_type": "code",
   "execution_count": 14,
   "metadata": {},
   "outputs": [
    {
     "data": {
      "text/plain": [
       "dict_keys(['loss', 'accuracy'])"
      ]
     },
     "execution_count": 14,
     "metadata": {},
     "output_type": "execute_result"
    }
   ],
   "source": [
    "net.history.history.keys()"
   ]
  },
  {
   "cell_type": "code",
   "execution_count": 15,
   "metadata": {},
   "outputs": [
    {
     "data": {
      "image/png": "[encoded data removed]",
      "text/plain": [
       "<Figure size 432x288 with 1 Axes>"
      ]
     },
     "metadata": {
      "needs_background": "light"
     },
     "output_type": "display_data"
    },
    {
     "data": {
      "text/plain": [
       "[<matplotlib.lines.Line2D at 0x7fcc88197160>]"
      ]
     },
     "execution_count": 15,
     "metadata": {},
     "output_type": "execute_result"
    },
    {
     "data": {
      "image/png": "[encoded data removed]",
      "text/plain": [
       "<Figure size 432x288 with 1 Axes>"
      ]
     },
     "metadata": {
      "needs_background": "light"
     },
     "output_type": "display_data"
    }
   ],
   "source": [
    "from matplotlib import pyplot as plt\n",
    "plt.plot(net.history.history['loss'])\n",
    "plt.show()\n",
    "plt.plot(net.history.history['accuracy'])"
   ]
  }
 ],
 "metadata": {
  "interpreter": {
   "hash": "8ae33f7c48cc3e1271596d1bf08ce4d5e6d6f7129ff8bbb83bbb95ed8addff62"
  },
  "kernelspec": {
   "display_name": "Python 3.10.0 ('mlenv')",
   "language": "python",
   "name": "python3"
  },
  "language_info": {
   "codemirror_mode": {
    "name": "ipython",
    "version": 3
   },
   "file_extension": ".py",
   "mimetype": "text/x-python",
   "name": "python",
   "nbconvert_exporter": "python",
   "pygments_lexer": "ipython3",
   "version": "3.10.0"
  },
  "orig_nbformat": 4
 },
 "nbformat": 4,
 "nbformat_minor": 2
}
