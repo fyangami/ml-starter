{
 "cells": [
  {
   "cell_type": "code",
   "execution_count": 1,
   "metadata": {},
   "outputs": [],
   "source": [
    "import tensorflow as tf\n",
    "from tensorflow import keras\n",
    "import os\n",
    "os.environ['TF_CPP_MIN_LOG_LEVEL'] = '1'\n",
    "\n",
    "def load_data(resize=(256, 256), batch_size=50):\n",
    "    import os \n",
    "    def __load_data(path):\n",
    "        sub_paths = os.listdir(path)\n",
    "        datas = []\n",
    "        labels = []\n",
    "        for label, label_name in enumerate(sub_paths):\n",
    "            for simple in os.listdir(path + os.sep + label_name):\n",
    "                if simple.endswith('jpg'):\n",
    "                    labels.append(label)\n",
    "                    datas.append(path + os.sep + label_name + os.sep + simple)\n",
    "        datas = tf.data.Dataset.from_tensor_slices(datas)\n",
    "        labels = tf.data.Dataset.from_tensor_slices(labels)\n",
    "        def map_img(img_path):\n",
    "            return tf.image.resize(tf.image.decode_jpeg(tf.io.read_file(img_path)), resize) / 255.\n",
    "        datas = datas.map(map_img, num_parallel_calls=tf.data.AUTOTUNE)\n",
    "        ds = tf.data.Dataset.zip((datas, labels))\n",
    "        # return ds\n",
    "        return ds.shuffle(buffer_size=len(datas)).batch(batch_size).prefetch(tf.data.AUTOTUNE)\n",
    "        # return datas.batch(batch_size).prefetch(tf.data.AUTOTUNE), labels.batch(batch_size).prefetch(tf.data.AUTOTUNE)\n",
    "    return __load_data('./training_set/'), __load_data('./test_set/')"
   ]
  },
  {
   "cell_type": "code",
   "execution_count": 2,
   "metadata": {},
   "outputs": [],
   "source": [
    "# 加载数据\n",
    "BATCH_SIZE = 50\n",
    "train_iter, test_iter = load_data(batch_size=BATCH_SIZE, resize=(256, 256))"
   ]
  },
  {
   "cell_type": "code",
   "execution_count": 3,
   "metadata": {},
   "outputs": [],
   "source": [
    "class Inception(tf.keras.Model):\n",
    "    \n",
    "    def __init__(self, c1, c2, c3, c4):\n",
    "        super(Inception, self).__init__()\n",
    "        self.p1_1 = tf.keras.layers.Conv2D(c1, 1, activation='relu')\n",
    "        self.p2_1 = tf.keras.layers.Conv2D(c2[0], 1, activation='relu')\n",
    "        self.p2_2 = tf.keras.layers.Conv2D(c2[1], 3, activation='relu', padding='same')\n",
    "        self.p3_1 = tf.keras.layers.Conv2D(c3[0], 1, activation='relu')\n",
    "        self.p3_2 = tf.keras.layers.Conv2D(c3[1], 5, activation='relu', padding='same')\n",
    "        self.p4_1 = tf.keras.layers.MaxPool2D(3, 1, padding='same')\n",
    "        self.p4_2 = tf.keras.layers.Conv2D(c4, 1, activation='relu')\n",
    "    \n",
    "    def call(self, x):\n",
    "        p1 = self.p1_1(x)\n",
    "        p2 = self.p2_2(self.p2_1(x))\n",
    "        p3 = self.p3_2(self.p3_1(x))\n",
    "        p4 = self.p4_2(self.p4_1(x))\n",
    "        return tf.keras.layers.Concatenate()([p1, p2, p3, p4])"
   ]
  },
  {
   "cell_type": "code",
   "execution_count": 4,
   "metadata": {},
   "outputs": [],
   "source": [
    "def b1():\n",
    "    return tf.keras.Sequential([\n",
    "        # filter=64, kernel_size=7  strides=2\n",
    "        tf.keras.layers.Conv2D(64, 7, strides=2, padding='same', activation='relu'),\n",
    "        # kernel_size=3, strides=2\n",
    "        tf.keras.layers.MaxPool2D(3, 2, padding='same')\n",
    "    ])\n",
    "\n",
    "def b2():\n",
    "    return tf.keras.Sequential([\n",
    "        tf.keras.layers.Conv2D(64, 1, activation='relu'),\n",
    "        tf.keras.layers.Conv2D(192, 3, padding='same', activation='relu'),\n",
    "        tf.keras.layers.MaxPool2D(3, 2, padding='same')\n",
    "    ])\n",
    "\n",
    "def b3():\n",
    "    return tf.keras.Sequential([\n",
    "        Inception(64, (96, 128), (16, 32), 32),\n",
    "        Inception(128, (128, 192), (32, 96), 64),\n",
    "        tf.keras.layers.MaxPool2D(3, 2, padding='same')\n",
    "    ])\n",
    "\n",
    "def b4():\n",
    "    return tf.keras.Sequential([\n",
    "        Inception(192, (96, 208), (16, 48), 64),\n",
    "        Inception(160, (112, 224), (24, 64), 64),\n",
    "        Inception(128, (128, 256), (24, 64), 64),\n",
    "        Inception(112, (144, 288), (32, 64), 64),\n",
    "        Inception(256, (160, 320), (32, 128), 128),\n",
    "        tf.keras.layers.MaxPool2D(pool_size=3, strides=2, padding='same')\n",
    "    ])\n",
    "\n",
    "def b5():\n",
    "    return tf.keras.Sequential([\n",
    "        Inception(256, (160, 320), (32, 128), 128),\n",
    "        Inception(384, (192, 384), (48, 128), 128),\n",
    "        tf.keras.layers.GlobalAvgPool2D(),\n",
    "        tf.keras.layers.Flatten()\n",
    "    ])"
   ]
  },
  {
   "cell_type": "code",
   "execution_count": 5,
   "metadata": {},
   "outputs": [],
   "source": [
    "net = tf.keras.Sequential([tf.keras.layers.Input(shape=(256, 256, 3)), b1(), b2(), b3(), b4(), b5(), tf.keras.layers.Dense(2, activation='softmax')])"
   ]
  },
  {
   "cell_type": "code",
   "execution_count": 6,
   "metadata": {},
   "outputs": [],
   "source": [
    "net.compile(loss='sparse_categorical_crossentropy', optimizer=tf.keras.optimizers.RMSprop(learning_rate=1e-3), metrics=['accuracy'])"
   ]
  },
  {
   "cell_type": "code",
   "execution_count": 7,
   "metadata": {},
   "outputs": [
    {
     "name": "stdout",
     "output_type": "stream",
     "text": [
      "Epoch 1/10\n"
     ]
    },
    {
     "name": "stderr",
     "output_type": "stream",
     "text": [
      "2022-03-26 15:53:49.387317: W tensorflow/core/common_runtime/bfc_allocator.cc:275] Allocator (GPU_0_bfc) ran out of memory trying to allocate 2.73GiB with freed_by_count=0. The caller indicates that this is not a failure, but may mean that there could be performance gains if more memory were available.\n",
      "2022-03-26 15:53:49.387354: W tensorflow/core/common_runtime/bfc_allocator.cc:275] Allocator (GPU_0_bfc) ran out of memory trying to allocate 2.73GiB with freed_by_count=0. The caller indicates that this is not a failure, but may mean that there could be performance gains if more memory were available.\n"
     ]
    },
    {
     "name": "stdout",
     "output_type": "stream",
     "text": [
      "161/161 [==============================] - 47s 220ms/step - loss: 0.7732 - accuracy: 0.5033\n",
      "Epoch 2/10\n",
      "161/161 [==============================] - 35s 208ms/step - loss: 0.7443 - accuracy: 0.4907\n",
      "Epoch 3/10\n",
      "161/161 [==============================] - 35s 208ms/step - loss: 0.7103 - accuracy: 0.4989\n",
      "Epoch 4/10\n",
      "161/161 [==============================] - 35s 208ms/step - loss: 0.7290 - accuracy: 0.5252\n",
      "Epoch 5/10\n",
      "161/161 [==============================] - 35s 207ms/step - loss: 0.6933 - accuracy: 0.5285\n",
      "Epoch 6/10\n",
      "161/161 [==============================] - 35s 207ms/step - loss: 0.7072 - accuracy: 0.5365\n",
      "Epoch 7/10\n",
      "161/161 [==============================] - 35s 207ms/step - loss: 0.6882 - accuracy: 0.5417\n",
      "Epoch 8/10\n",
      "161/161 [==============================] - 35s 207ms/step - loss: 0.6863 - accuracy: 0.5625\n",
      "Epoch 9/10\n",
      "161/161 [==============================] - 35s 207ms/step - loss: 0.6757 - accuracy: 0.5796\n",
      "Epoch 10/10\n",
      "161/161 [==============================] - 35s 207ms/step - loss: 0.6737 - accuracy: 0.5868\n"
     ]
    },
    {
     "data": {
      "text/plain": [
       "<keras.callbacks.History at 0x7fd9f9a44a90>"
      ]
     },
     "execution_count": 7,
     "metadata": {},
     "output_type": "execute_result"
    }
   ],
   "source": [
    "net.fit(train_iter, epochs=10)"
   ]
  }
 ],
 "metadata": {
  "interpreter": {
   "hash": "8ae33f7c48cc3e1271596d1bf08ce4d5e6d6f7129ff8bbb83bbb95ed8addff62"
  },
  "kernelspec": {
   "display_name": "Python 3.10.0 ('mlenv')",
   "language": "python",
   "name": "python3"
  },
  "language_info": {
   "codemirror_mode": {
    "name": "ipython",
    "version": 3
   },
   "file_extension": ".py",
   "mimetype": "text/x-python",
   "name": "python",
   "nbconvert_exporter": "python",
   "pygments_lexer": "ipython3",
   "version": "3.10.0"
  },
  "orig_nbformat": 4
 },
 "nbformat": 4,
 "nbformat_minor": 2
}
