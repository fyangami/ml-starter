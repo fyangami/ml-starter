{
 "cells": [
  {
   "cell_type": "code",
   "execution_count": 1,
   "metadata": {},
   "outputs": [],
   "source": [
    "from tensorflow import keras\n",
    "import tensorflow as tf\n",
    "import numpy as np"
   ]
  },
  {
   "cell_type": "code",
   "execution_count": 2,
   "metadata": {},
   "outputs": [],
   "source": [
    "(x, y), (tx, ty) = keras.datasets.mnist.load_data()"
   ]
  },
  {
   "cell_type": "code",
   "execution_count": 3,
   "metadata": {},
   "outputs": [],
   "source": [
    "x, tx = x / 255., tx / 255."
   ]
  },
  {
   "cell_type": "code",
   "execution_count": 4,
   "metadata": {},
   "outputs": [],
   "source": [
    "x, tx = x.reshape(-1, 28 * 28), tx.reshape(-1, 28 * 28)"
   ]
  },
  {
   "cell_type": "code",
   "execution_count": 5,
   "metadata": {},
   "outputs": [
    {
     "data": {
      "text/plain": [
       "((60000, 784), (10000, 784), (60000,), (10000,))"
      ]
     },
     "execution_count": 5,
     "metadata": {},
     "output_type": "execute_result"
    }
   ],
   "source": [
    "x.shape, tx.shape, y.shape, ty.shape"
   ]
  },
  {
   "cell_type": "code",
   "execution_count": 6,
   "metadata": {},
   "outputs": [
    {
     "name": "stderr",
     "output_type": "stream",
     "text": [
      "2022-03-12 19:07:44.499735: I tensorflow/stream_executor/cuda/cuda_gpu_executor.cc:922] could not open file to read NUMA node: /sys/bus/pci/devices/0000:01:00.0/numa_node\n",
      "Your kernel may have been built without NUMA support.\n"
     ]
    },
    {
     "name": "stdout",
     "output_type": "stream",
     "text": [
      "Model: \"sequential\"\n",
      "_________________________________________________________________\n",
      " Layer (type)                Output Shape              Param #   \n",
      "=================================================================\n",
      " dense (Dense)               (None, 10)                7850      \n",
      "                                                                 \n",
      "=================================================================\n",
      "Total params: 7,850\n",
      "Trainable params: 7,850\n",
      "Non-trainable params: 0\n",
      "_________________________________________________________________\n"
     ]
    },
    {
     "name": "stderr",
     "output_type": "stream",
     "text": [
      "2022-03-12 19:07:44.507114: I tensorflow/stream_executor/cuda/cuda_gpu_executor.cc:922] could not open file to read NUMA node: /sys/bus/pci/devices/0000:01:00.0/numa_node\n",
      "Your kernel may have been built without NUMA support.\n",
      "2022-03-12 19:07:44.507726: I tensorflow/stream_executor/cuda/cuda_gpu_executor.cc:922] could not open file to read NUMA node: /sys/bus/pci/devices/0000:01:00.0/numa_node\n",
      "Your kernel may have been built without NUMA support.\n",
      "2022-03-12 19:07:44.508694: I tensorflow/core/platform/cpu_feature_guard.cc:151] This TensorFlow binary is optimized with oneAPI Deep Neural Network Library (oneDNN) to use the following CPU instructions in performance-critical operations:  AVX2 FMA\n",
      "To enable them in other operations, rebuild TensorFlow with the appropriate compiler flags.\n",
      "2022-03-12 19:07:44.510191: I tensorflow/stream_executor/cuda/cuda_gpu_executor.cc:922] could not open file to read NUMA node: /sys/bus/pci/devices/0000:01:00.0/numa_node\n",
      "Your kernel may have been built without NUMA support.\n",
      "2022-03-12 19:07:44.510595: I tensorflow/stream_executor/cuda/cuda_gpu_executor.cc:922] could not open file to read NUMA node: /sys/bus/pci/devices/0000:01:00.0/numa_node\n",
      "Your kernel may have been built without NUMA support.\n",
      "2022-03-12 19:07:44.510979: I tensorflow/stream_executor/cuda/cuda_gpu_executor.cc:922] could not open file to read NUMA node: /sys/bus/pci/devices/0000:01:00.0/numa_node\n",
      "Your kernel may have been built without NUMA support.\n",
      "2022-03-12 19:07:44.913820: I tensorflow/stream_executor/cuda/cuda_gpu_executor.cc:922] could not open file to read NUMA node: /sys/bus/pci/devices/0000:01:00.0/numa_node\n",
      "Your kernel may have been built without NUMA support.\n",
      "2022-03-12 19:07:44.914170: I tensorflow/stream_executor/cuda/cuda_gpu_executor.cc:922] could not open file to read NUMA node: /sys/bus/pci/devices/0000:01:00.0/numa_node\n",
      "Your kernel may have been built without NUMA support.\n",
      "2022-03-12 19:07:44.914181: I tensorflow/core/common_runtime/gpu/gpu_device.cc:1609] Could not identify NUMA node of platform GPU id 0, defaulting to 0.  Your kernel may not have been built with NUMA support.\n",
      "2022-03-12 19:07:44.914476: I tensorflow/stream_executor/cuda/cuda_gpu_executor.cc:922] could not open file to read NUMA node: /sys/bus/pci/devices/0000:01:00.0/numa_node\n",
      "Your kernel may have been built without NUMA support.\n",
      "2022-03-12 19:07:44.914517: I tensorflow/core/common_runtime/gpu/gpu_device.cc:1525] Created device /job:localhost/replica:0/task:0/device:GPU:0 with 830 MB memory:  -> device: 0, name: NVIDIA GeForce RTX 3060 Laptop GPU, pci bus id: 0000:01:00.0, compute capability: 8.6\n"
     ]
    },
    {
     "name": "stdout",
     "output_type": "stream",
     "text": [
      "Epoch 1/50\n",
      " 14/211 [>.............................] - ETA: 0s - loss: 1.9117 - accuracy: 0.4233  "
     ]
    },
    {
     "name": "stderr",
     "output_type": "stream",
     "text": [
      "2022-03-12 19:07:46.018305: I tensorflow/stream_executor/cuda/cuda_blas.cc:1786] TensorFloat-32 will be used for the matrix multiplication. This will only be logged once.\n"
     ]
    },
    {
     "name": "stdout",
     "output_type": "stream",
     "text": [
      "211/211 [==============================] - 2s 5ms/step - loss: 0.8137 - accuracy: 0.7986 - val_loss: 0.3751 - val_accuracy: 0.9100\n",
      "Epoch 2/50\n",
      "211/211 [==============================] - 1s 5ms/step - loss: 0.3906 - accuracy: 0.8945 - val_loss: 0.2895 - val_accuracy: 0.9235\n",
      "Epoch 3/50\n",
      "211/211 [==============================] - 1s 5ms/step - loss: 0.3373 - accuracy: 0.9067 - val_loss: 0.2641 - val_accuracy: 0.9265\n",
      "Epoch 4/50\n",
      "211/211 [==============================] - 1s 4ms/step - loss: 0.3149 - accuracy: 0.9126 - val_loss: 0.2530 - val_accuracy: 0.9292\n",
      "Epoch 5/50\n",
      "211/211 [==============================] - 1s 4ms/step - loss: 0.3019 - accuracy: 0.9160 - val_loss: 0.2446 - val_accuracy: 0.9342\n",
      "Epoch 6/50\n",
      "211/211 [==============================] - 1s 4ms/step - loss: 0.2934 - accuracy: 0.9184 - val_loss: 0.2407 - val_accuracy: 0.9345\n",
      "Epoch 7/50\n",
      "211/211 [==============================] - 1s 5ms/step - loss: 0.2871 - accuracy: 0.9196 - val_loss: 0.2352 - val_accuracy: 0.9345\n",
      "Epoch 8/50\n",
      "211/211 [==============================] - 1s 5ms/step - loss: 0.2822 - accuracy: 0.9213 - val_loss: 0.2318 - val_accuracy: 0.9370\n",
      "Epoch 9/50\n",
      "211/211 [==============================] - 1s 6ms/step - loss: 0.2785 - accuracy: 0.9221 - val_loss: 0.2309 - val_accuracy: 0.9373\n",
      "Epoch 10/50\n",
      "211/211 [==============================] - 1s 6ms/step - loss: 0.2753 - accuracy: 0.9229 - val_loss: 0.2307 - val_accuracy: 0.9392\n",
      "Epoch 11/50\n",
      "211/211 [==============================] - 1s 6ms/step - loss: 0.2724 - accuracy: 0.9240 - val_loss: 0.2283 - val_accuracy: 0.9383\n",
      "Epoch 12/50\n",
      "211/211 [==============================] - 1s 6ms/step - loss: 0.2704 - accuracy: 0.9242 - val_loss: 0.2254 - val_accuracy: 0.9398\n",
      "Epoch 13/50\n",
      "211/211 [==============================] - 1s 6ms/step - loss: 0.2683 - accuracy: 0.9251 - val_loss: 0.2257 - val_accuracy: 0.9390\n",
      "Epoch 14/50\n",
      "211/211 [==============================] - 1s 6ms/step - loss: 0.2663 - accuracy: 0.9260 - val_loss: 0.2239 - val_accuracy: 0.9402\n",
      "Epoch 15/50\n",
      "211/211 [==============================] - 1s 6ms/step - loss: 0.2650 - accuracy: 0.9264 - val_loss: 0.2231 - val_accuracy: 0.9407\n",
      "Epoch 16/50\n",
      "211/211 [==============================] - 1s 6ms/step - loss: 0.2635 - accuracy: 0.9272 - val_loss: 0.2227 - val_accuracy: 0.9397\n",
      "Epoch 17/50\n",
      "211/211 [==============================] - 1s 6ms/step - loss: 0.2620 - accuracy: 0.9275 - val_loss: 0.2235 - val_accuracy: 0.9405\n",
      "Epoch 18/50\n",
      "211/211 [==============================] - 1s 6ms/step - loss: 0.2610 - accuracy: 0.9280 - val_loss: 0.2215 - val_accuracy: 0.9410\n",
      "Epoch 19/50\n",
      "211/211 [==============================] - 1s 6ms/step - loss: 0.2600 - accuracy: 0.9281 - val_loss: 0.2228 - val_accuracy: 0.9400\n",
      "Epoch 20/50\n",
      "211/211 [==============================] - 1s 6ms/step - loss: 0.2588 - accuracy: 0.9286 - val_loss: 0.2207 - val_accuracy: 0.9410\n",
      "Epoch 21/50\n",
      "211/211 [==============================] - 1s 6ms/step - loss: 0.2576 - accuracy: 0.9285 - val_loss: 0.2214 - val_accuracy: 0.9423\n",
      "Epoch 22/50\n",
      "211/211 [==============================] - 1s 6ms/step - loss: 0.2568 - accuracy: 0.9295 - val_loss: 0.2215 - val_accuracy: 0.9408\n",
      "Epoch 23/50\n",
      "211/211 [==============================] - 1s 6ms/step - loss: 0.2560 - accuracy: 0.9298 - val_loss: 0.2206 - val_accuracy: 0.9407\n",
      "Epoch 24/50\n",
      "211/211 [==============================] - 1s 6ms/step - loss: 0.2552 - accuracy: 0.9302 - val_loss: 0.2199 - val_accuracy: 0.9417\n",
      "Epoch 25/50\n",
      "211/211 [==============================] - 1s 6ms/step - loss: 0.2546 - accuracy: 0.9299 - val_loss: 0.2202 - val_accuracy: 0.9413\n",
      "Epoch 26/50\n",
      "211/211 [==============================] - 1s 6ms/step - loss: 0.2537 - accuracy: 0.9306 - val_loss: 0.2199 - val_accuracy: 0.9417\n",
      "Epoch 27/50\n",
      "211/211 [==============================] - 1s 6ms/step - loss: 0.2533 - accuracy: 0.9306 - val_loss: 0.2201 - val_accuracy: 0.9403\n",
      "Epoch 28/50\n",
      "211/211 [==============================] - 1s 6ms/step - loss: 0.2523 - accuracy: 0.9308 - val_loss: 0.2193 - val_accuracy: 0.9420\n",
      "Epoch 29/50\n",
      "211/211 [==============================] - 1s 6ms/step - loss: 0.2519 - accuracy: 0.9313 - val_loss: 0.2196 - val_accuracy: 0.9412\n",
      "Epoch 30/50\n",
      "211/211 [==============================] - 1s 6ms/step - loss: 0.2516 - accuracy: 0.9308 - val_loss: 0.2202 - val_accuracy: 0.9415\n",
      "Epoch 31/50\n",
      "211/211 [==============================] - 1s 6ms/step - loss: 0.2510 - accuracy: 0.9314 - val_loss: 0.2194 - val_accuracy: 0.9420\n",
      "Epoch 32/50\n",
      "211/211 [==============================] - 1s 6ms/step - loss: 0.2503 - accuracy: 0.9317 - val_loss: 0.2188 - val_accuracy: 0.9415\n",
      "Epoch 33/50\n",
      "211/211 [==============================] - 1s 6ms/step - loss: 0.2501 - accuracy: 0.9318 - val_loss: 0.2198 - val_accuracy: 0.9412\n",
      "Epoch 34/50\n",
      "211/211 [==============================] - 1s 6ms/step - loss: 0.2495 - accuracy: 0.9318 - val_loss: 0.2202 - val_accuracy: 0.9408\n",
      "Epoch 35/50\n",
      "211/211 [==============================] - 1s 6ms/step - loss: 0.2489 - accuracy: 0.9320 - val_loss: 0.2208 - val_accuracy: 0.9415\n",
      "Epoch 36/50\n",
      "211/211 [==============================] - 1s 6ms/step - loss: 0.2485 - accuracy: 0.9324 - val_loss: 0.2211 - val_accuracy: 0.9408\n",
      "Epoch 37/50\n",
      "211/211 [==============================] - 1s 6ms/step - loss: 0.2484 - accuracy: 0.9319 - val_loss: 0.2198 - val_accuracy: 0.9415\n",
      "Epoch 38/50\n",
      "211/211 [==============================] - 1s 6ms/step - loss: 0.2475 - accuracy: 0.9325 - val_loss: 0.2207 - val_accuracy: 0.9415\n",
      "Epoch 39/50\n",
      "211/211 [==============================] - 1s 6ms/step - loss: 0.2474 - accuracy: 0.9323 - val_loss: 0.2218 - val_accuracy: 0.9400\n",
      "Epoch 40/50\n",
      "211/211 [==============================] - 1s 6ms/step - loss: 0.2471 - accuracy: 0.9325 - val_loss: 0.2200 - val_accuracy: 0.9413\n",
      "Epoch 41/50\n",
      "211/211 [==============================] - 1s 6ms/step - loss: 0.2469 - accuracy: 0.9327 - val_loss: 0.2201 - val_accuracy: 0.9402\n",
      "Epoch 42/50\n",
      "211/211 [==============================] - 1s 6ms/step - loss: 0.2464 - accuracy: 0.9331 - val_loss: 0.2204 - val_accuracy: 0.9412\n",
      "Epoch 43/50\n",
      "211/211 [==============================] - 1s 6ms/step - loss: 0.2461 - accuracy: 0.9327 - val_loss: 0.2210 - val_accuracy: 0.9412\n",
      "Epoch 44/50\n",
      "211/211 [==============================] - 1s 6ms/step - loss: 0.2457 - accuracy: 0.9332 - val_loss: 0.2209 - val_accuracy: 0.9400\n",
      "Epoch 45/50\n",
      "211/211 [==============================] - 1s 6ms/step - loss: 0.2454 - accuracy: 0.9331 - val_loss: 0.2201 - val_accuracy: 0.9420\n",
      "Epoch 46/50\n",
      "211/211 [==============================] - 1s 6ms/step - loss: 0.2450 - accuracy: 0.9335 - val_loss: 0.2205 - val_accuracy: 0.9408\n",
      "Epoch 47/50\n",
      "211/211 [==============================] - 1s 6ms/step - loss: 0.2448 - accuracy: 0.9331 - val_loss: 0.2209 - val_accuracy: 0.9393\n",
      "Epoch 48/50\n",
      "211/211 [==============================] - 1s 6ms/step - loss: 0.2446 - accuracy: 0.9336 - val_loss: 0.2215 - val_accuracy: 0.9412\n",
      "Epoch 49/50\n",
      "211/211 [==============================] - 1s 6ms/step - loss: 0.2445 - accuracy: 0.9334 - val_loss: 0.2228 - val_accuracy: 0.9390\n",
      "Epoch 50/50\n",
      "211/211 [==============================] - 1s 6ms/step - loss: 0.2441 - accuracy: 0.9338 - val_loss: 0.2214 - val_accuracy: 0.9407\n"
     ]
    },
    {
     "data": {
      "text/plain": [
       "<keras.callbacks.History at 0x7f5547a8ea60>"
      ]
     },
     "execution_count": 6,
     "metadata": {},
     "output_type": "execute_result"
    }
   ],
   "source": [
    "net = keras.Sequential([\n",
    "    keras.layers.Input(shape=(784,)),\n",
    "    keras.layers.Dense(10, activation='softmax')\n",
    "])\n",
    "net.summary()\n",
    "net.compile(loss='categorical_crossentropy', optimizer='rmsprop', metrics=['accuracy'])\n",
    "net.fit(x, tf.one_hot(y, depth=10), batch_size=256, epochs=50, validation_split=.1)"
   ]
  },
  {
   "cell_type": "code",
   "execution_count": 8,
   "metadata": {},
   "outputs": [
    {
     "name": "stdout",
     "output_type": "stream",
     "text": [
      "tf.Tensor([7 2 1 0 4 1 4 9 6 9], shape=(10,), dtype=int64)\n",
      "[7 2 1 0 4 1 4 9 5 9]\n"
     ]
    }
   ],
   "source": [
    "print(tf.argmax(net.predict(tx[:10]), axis=1))\n",
    "print(ty[:10])"
   ]
  },
  {
   "cell_type": "code",
   "execution_count": 9,
   "metadata": {},
   "outputs": [
    {
     "name": "stdout",
     "output_type": "stream",
     "text": [
      "Epoch 1/50\n",
      "211/211 [==============================] - 1s 6ms/step - loss: 0.9075 - accuracy: 0.7812 - val_loss: 0.4430 - val_accuracy: 0.8978\n",
      "Epoch 2/50\n",
      "211/211 [==============================] - 1s 6ms/step - loss: 0.4489 - accuracy: 0.8838 - val_loss: 0.3335 - val_accuracy: 0.9152\n",
      "Epoch 3/50\n",
      "211/211 [==============================] - 1s 6ms/step - loss: 0.3773 - accuracy: 0.8989 - val_loss: 0.2954 - val_accuracy: 0.9217\n",
      "Epoch 4/50\n",
      "211/211 [==============================] - 1s 6ms/step - loss: 0.3443 - accuracy: 0.9058 - val_loss: 0.2756 - val_accuracy: 0.9263\n",
      "Epoch 5/50\n",
      "211/211 [==============================] - 1s 6ms/step - loss: 0.3246 - accuracy: 0.9108 - val_loss: 0.2626 - val_accuracy: 0.9282\n",
      "Epoch 6/50\n",
      "211/211 [==============================] - 1s 6ms/step - loss: 0.3120 - accuracy: 0.9137 - val_loss: 0.2529 - val_accuracy: 0.9315\n",
      "Epoch 7/50\n",
      "211/211 [==============================] - 1s 6ms/step - loss: 0.3019 - accuracy: 0.9160 - val_loss: 0.2469 - val_accuracy: 0.9332\n",
      "Epoch 8/50\n",
      "211/211 [==============================] - 1s 6ms/step - loss: 0.2949 - accuracy: 0.9180 - val_loss: 0.2429 - val_accuracy: 0.9345\n",
      "Epoch 9/50\n",
      "211/211 [==============================] - 1s 6ms/step - loss: 0.2885 - accuracy: 0.9197 - val_loss: 0.2385 - val_accuracy: 0.9352\n",
      "Epoch 10/50\n",
      "211/211 [==============================] - 1s 6ms/step - loss: 0.2838 - accuracy: 0.9213 - val_loss: 0.2358 - val_accuracy: 0.9367\n",
      "Epoch 11/50\n",
      "211/211 [==============================] - 1s 6ms/step - loss: 0.2799 - accuracy: 0.9219 - val_loss: 0.2353 - val_accuracy: 0.9380\n",
      "Epoch 12/50\n",
      "211/211 [==============================] - 1s 6ms/step - loss: 0.2765 - accuracy: 0.9226 - val_loss: 0.2321 - val_accuracy: 0.9377\n",
      "Epoch 13/50\n",
      "211/211 [==============================] - 1s 6ms/step - loss: 0.2735 - accuracy: 0.9236 - val_loss: 0.2309 - val_accuracy: 0.9375\n",
      "Epoch 14/50\n",
      "211/211 [==============================] - 1s 6ms/step - loss: 0.2708 - accuracy: 0.9247 - val_loss: 0.2290 - val_accuracy: 0.9375\n",
      "Epoch 15/50\n",
      "211/211 [==============================] - 1s 6ms/step - loss: 0.2685 - accuracy: 0.9251 - val_loss: 0.2276 - val_accuracy: 0.9375\n",
      "Epoch 16/50\n",
      "211/211 [==============================] - 1s 6ms/step - loss: 0.2662 - accuracy: 0.9258 - val_loss: 0.2276 - val_accuracy: 0.9383\n",
      "Epoch 17/50\n",
      "211/211 [==============================] - 1s 6ms/step - loss: 0.2643 - accuracy: 0.9266 - val_loss: 0.2260 - val_accuracy: 0.9392\n",
      "Epoch 18/50\n",
      "211/211 [==============================] - 1s 6ms/step - loss: 0.2625 - accuracy: 0.9272 - val_loss: 0.2246 - val_accuracy: 0.9405\n",
      "Epoch 19/50\n",
      "211/211 [==============================] - 1s 6ms/step - loss: 0.2613 - accuracy: 0.9276 - val_loss: 0.2243 - val_accuracy: 0.9380\n",
      "Epoch 20/50\n",
      "211/211 [==============================] - 1s 6ms/step - loss: 0.2595 - accuracy: 0.9278 - val_loss: 0.2248 - val_accuracy: 0.9387\n",
      "Epoch 21/50\n",
      "211/211 [==============================] - 1s 6ms/step - loss: 0.2583 - accuracy: 0.9282 - val_loss: 0.2235 - val_accuracy: 0.9390\n",
      "Epoch 22/50\n",
      "211/211 [==============================] - 1s 6ms/step - loss: 0.2571 - accuracy: 0.9280 - val_loss: 0.2231 - val_accuracy: 0.9398\n",
      "Epoch 23/50\n",
      "211/211 [==============================] - 1s 6ms/step - loss: 0.2562 - accuracy: 0.9289 - val_loss: 0.2232 - val_accuracy: 0.9407\n",
      "Epoch 24/50\n",
      "211/211 [==============================] - 1s 6ms/step - loss: 0.2547 - accuracy: 0.9288 - val_loss: 0.2226 - val_accuracy: 0.9395\n",
      "Epoch 25/50\n",
      "211/211 [==============================] - 1s 6ms/step - loss: 0.2539 - accuracy: 0.9294 - val_loss: 0.2222 - val_accuracy: 0.9403\n",
      "Epoch 26/50\n",
      "211/211 [==============================] - 1s 6ms/step - loss: 0.2528 - accuracy: 0.9300 - val_loss: 0.2217 - val_accuracy: 0.9407\n",
      "Epoch 27/50\n",
      "211/211 [==============================] - 1s 6ms/step - loss: 0.2520 - accuracy: 0.9303 - val_loss: 0.2217 - val_accuracy: 0.9410\n",
      "Epoch 28/50\n",
      "211/211 [==============================] - 1s 6ms/step - loss: 0.2513 - accuracy: 0.9304 - val_loss: 0.2215 - val_accuracy: 0.9415\n",
      "Epoch 29/50\n",
      "211/211 [==============================] - 1s 6ms/step - loss: 0.2503 - accuracy: 0.9307 - val_loss: 0.2213 - val_accuracy: 0.9408\n",
      "Epoch 30/50\n",
      "211/211 [==============================] - 1s 6ms/step - loss: 0.2494 - accuracy: 0.9309 - val_loss: 0.2212 - val_accuracy: 0.9392\n",
      "Epoch 31/50\n",
      "211/211 [==============================] - 1s 6ms/step - loss: 0.2489 - accuracy: 0.9308 - val_loss: 0.2211 - val_accuracy: 0.9402\n",
      "Epoch 32/50\n",
      "211/211 [==============================] - 1s 6ms/step - loss: 0.2482 - accuracy: 0.9309 - val_loss: 0.2221 - val_accuracy: 0.9398\n",
      "Epoch 33/50\n",
      "211/211 [==============================] - 1s 6ms/step - loss: 0.2475 - accuracy: 0.9315 - val_loss: 0.2221 - val_accuracy: 0.9402\n",
      "Epoch 34/50\n",
      "211/211 [==============================] - 1s 6ms/step - loss: 0.2470 - accuracy: 0.9316 - val_loss: 0.2211 - val_accuracy: 0.9413\n",
      "Epoch 35/50\n",
      "211/211 [==============================] - 1s 6ms/step - loss: 0.2464 - accuracy: 0.9318 - val_loss: 0.2213 - val_accuracy: 0.9408\n",
      "Epoch 36/50\n",
      "211/211 [==============================] - 1s 6ms/step - loss: 0.2452 - accuracy: 0.9324 - val_loss: 0.2215 - val_accuracy: 0.9400\n",
      "Epoch 37/50\n",
      "211/211 [==============================] - 1s 6ms/step - loss: 0.2450 - accuracy: 0.9320 - val_loss: 0.2223 - val_accuracy: 0.9415\n",
      "Epoch 38/50\n",
      "211/211 [==============================] - 1s 6ms/step - loss: 0.2446 - accuracy: 0.9323 - val_loss: 0.2210 - val_accuracy: 0.9412\n",
      "Epoch 39/50\n",
      "211/211 [==============================] - 1s 6ms/step - loss: 0.2438 - accuracy: 0.9329 - val_loss: 0.2208 - val_accuracy: 0.9413\n",
      "Epoch 40/50\n",
      "211/211 [==============================] - 1s 6ms/step - loss: 0.2433 - accuracy: 0.9330 - val_loss: 0.2219 - val_accuracy: 0.9403\n",
      "Epoch 41/50\n",
      "211/211 [==============================] - 1s 6ms/step - loss: 0.2429 - accuracy: 0.9329 - val_loss: 0.2221 - val_accuracy: 0.9393\n",
      "Epoch 42/50\n",
      "211/211 [==============================] - 1s 6ms/step - loss: 0.2422 - accuracy: 0.9332 - val_loss: 0.2217 - val_accuracy: 0.9397\n",
      "Epoch 43/50\n",
      "211/211 [==============================] - 1s 6ms/step - loss: 0.2418 - accuracy: 0.9334 - val_loss: 0.2216 - val_accuracy: 0.9397\n",
      "Epoch 44/50\n",
      "211/211 [==============================] - 1s 6ms/step - loss: 0.2418 - accuracy: 0.9338 - val_loss: 0.2225 - val_accuracy: 0.9405\n",
      "Epoch 45/50\n",
      "211/211 [==============================] - 1s 6ms/step - loss: 0.2416 - accuracy: 0.9332 - val_loss: 0.2216 - val_accuracy: 0.9398\n",
      "Epoch 46/50\n",
      "211/211 [==============================] - 1s 6ms/step - loss: 0.2407 - accuracy: 0.9337 - val_loss: 0.2226 - val_accuracy: 0.9387\n",
      "Epoch 47/50\n",
      "211/211 [==============================] - 1s 6ms/step - loss: 0.2408 - accuracy: 0.9337 - val_loss: 0.2234 - val_accuracy: 0.9393\n",
      "Epoch 48/50\n",
      "211/211 [==============================] - 1s 6ms/step - loss: 0.2400 - accuracy: 0.9336 - val_loss: 0.2222 - val_accuracy: 0.9402\n",
      "Epoch 49/50\n",
      "211/211 [==============================] - 1s 6ms/step - loss: 0.2397 - accuracy: 0.9340 - val_loss: 0.2230 - val_accuracy: 0.9387\n",
      "Epoch 50/50\n",
      "211/211 [==============================] - 1s 6ms/step - loss: 0.2391 - accuracy: 0.9342 - val_loss: 0.2238 - val_accuracy: 0.9393\n"
     ]
    },
    {
     "data": {
      "text/plain": [
       "<keras.callbacks.History at 0x7f552c4fd4c0>"
      ]
     },
     "execution_count": 9,
     "metadata": {},
     "output_type": "execute_result"
    }
   ],
   "source": [
    "net2 = keras.Sequential([\n",
    "    keras.layers.Input(shape=(784,)),\n",
    "    keras.layers.Dense(10, activation='softmax')\n",
    "])\n",
    "# net2.summary()\n",
    "net2.compile(loss='categorical_crossentropy', optimizer='adam', metrics=['accuracy'])\n",
    "net2.fit(x, tf.one_hot(y, depth=10), batch_size=256, epochs=50, validation_split=.1)"
   ]
  }
 ],
 "metadata": {
  "interpreter": {
   "hash": "240684a6bf55e82a0f5995d45026058ae310044e71522ea1b595ad868521a9f2"
  },
  "kernelspec": {
   "display_name": "Python 3.8.12 ('mlenv')",
   "language": "python",
   "name": "python3"
  },
  "language_info": {
   "codemirror_mode": {
    "name": "ipython",
    "version": 3
   },
   "file_extension": ".py",
   "mimetype": "text/x-python",
   "name": "python",
   "nbconvert_exporter": "python",
   "pygments_lexer": "ipython3",
   "version": "3.8.12"
  },
  "orig_nbformat": 4
 },
 "nbformat": 4,
 "nbformat_minor": 2
}
