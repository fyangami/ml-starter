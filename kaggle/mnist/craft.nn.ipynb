{
 "cells": [
  {
   "cell_type": "code",
   "execution_count": 1,
   "metadata": {},
   "outputs": [],
   "source": [
    "from tensorflow.keras.datasets.mnist import load_data\n",
    "from tensorflow import keras\n",
    "import tensorflow as tf\n",
    "import os\n",
    "os.environ['TF_CPP_MIN_LOG_LEVEL'] = '1'"
   ]
  },
  {
   "cell_type": "code",
   "execution_count": 2,
   "metadata": {},
   "outputs": [],
   "source": [
    "(x, y), (tx, ty) = load_data()"
   ]
  },
  {
   "cell_type": "code",
   "execution_count": 3,
   "metadata": {},
   "outputs": [],
   "source": [
    "x, tx = x / 255., tx / 255."
   ]
  },
  {
   "cell_type": "code",
   "execution_count": 4,
   "metadata": {},
   "outputs": [],
   "source": [
    "x, tx = x.reshape(-1, 28 * 28), tx.reshape(-1, 28 * 28)\n",
    "x = tf.constant(x, tf.float32)\n",
    "tx = tf.constant(tx, tf.float32)"
   ]
  },
  {
   "cell_type": "code",
   "execution_count": 5,
   "metadata": {},
   "outputs": [
    {
     "data": {
      "text/plain": [
       "<tf.Tensor: shape=(2, 3), dtype=int32, numpy=\n",
       "array([[1, 2, 0],\n",
       "       [0, 0, 1]], dtype=int32)>"
      ]
     },
     "execution_count": 5,
     "metadata": {},
     "output_type": "execute_result"
    }
   ],
   "source": [
    "def relu(x):\n",
    "    return tf.math.maximum(x, 0)\n",
    "\n",
    "relu(tf.constant([[1, 2, -1], [-1, -1, 1]]))"
   ]
  },
  {
   "cell_type": "code",
   "execution_count": 6,
   "metadata": {},
   "outputs": [
    {
     "name": "stdout",
     "output_type": "stream",
     "text": [
      "loss: 2.302647, test acc: 0.113500\n",
      "loss: 1.089387, test acc: 0.671200\n",
      "loss: 0.283066, test acc: 0.918800\n",
      "loss: 0.236685, test acc: 0.936200\n",
      "loss: 0.184991, test acc: 0.945000\n",
      "loss: 0.120859, test acc: 0.958900\n",
      "loss: 0.119480, test acc: 0.960100\n",
      "loss: 0.094833, test acc: 0.965800\n",
      "loss: 0.086320, test acc: 0.967500\n",
      "terminaled acc: 0.9715\n"
     ]
    },
    {
     "data": {
      "text/plain": [
       "Text(0.5, 1.0, 'acc')"
      ]
     },
     "execution_count": 6,
     "metadata": {},
     "output_type": "execute_result"
    },
    {
     "data": {
      "image/png": "[encoded data removed]",
      "text/plain": [
       "<Figure size 864x576 with 2 Axes>"
      ]
     },
     "metadata": {
      "needs_background": "light"
     },
     "output_type": "display_data"
    }
   ],
   "source": [
    "# 搞个三层网络\n",
    "n_inputs = 784\n",
    "n_hidden_1 = 256\n",
    "n_hidden_2 = 64\n",
    "n_outputs = 10\n",
    "\n",
    "# 初始化每一层的参数矩阵\n",
    "w_1 = tf.Variable(tf.random.normal((n_inputs, n_hidden_1), mean=0, stddev=.01))\n",
    "b_1 = tf.Variable(tf.zeros(n_hidden_1))\n",
    "w_2 = tf.Variable(tf.random.normal((n_hidden_1, n_hidden_2), mean=0, stddev=.01))\n",
    "b_2 = tf.Variable(tf.zeros(n_hidden_2))\n",
    "w_3 = tf.Variable(tf.random.normal((n_hidden_2, n_outputs), mean=0, stddev=.01))\n",
    "b_3 = tf.Variable(tf.zeros(n_outputs))\n",
    "params = [w_1, b_1, w_2, b_2, w_3, b_3]\n",
    "\n",
    "#定义网络\n",
    "# 第一层 输入特征784，输出特征256 （输入层）增加relu激活函数\n",
    "# 第二层 输入特征256，输出特征64 （隐藏层）增加relu激活函数\n",
    "# 第三层 输入特征64，输出特征10 （输出层）损失函数：交叉熵，优化器：SGD\n",
    "def net(x):\n",
    "    tf.reshape(x, (-1, n_inputs))\n",
    "    y = tf.matmul(x, w_1) + b_1\n",
    "    y = relu(y)\n",
    "    y = tf.matmul(y, w_2) + b_2\n",
    "    y = relu(y)\n",
    "    return tf.matmul(y, w_3) + b_3\n",
    "\n",
    "#定义损失函数\n",
    "def loss(y_hat, y):\n",
    "    return tf.losses.sparse_categorical_crossentropy(y, y_hat, from_logits=True)\n",
    "\n",
    "# 开始训练\n",
    "eta = 1e-5\n",
    "optimizer = keras.optimizers.SGD(learning_rate=eta)\n",
    "losses = []\n",
    "acces = []\n",
    "for i in range(900):\n",
    "    with tf.GradientTape() as g:\n",
    "        y_hat = net(x)\n",
    "        l = loss(y_hat, y)\n",
    "    grads = g.gradient(l, params)\n",
    "    optimizer.apply_gradients(zip(grads, params))\n",
    "    ty_hat = net(tx)\n",
    "    test = tf.cast(tf.argmax(ty_hat, 1) == ty, tf.uint8)\n",
    "    acc = test.numpy().sum() / len(ty)\n",
    "    if i % 100 == 0:\n",
    "        print('loss: %.6f, test acc: %.6f' % (tf.reduce_mean(l), acc))\n",
    "    losses.append(tf.reduce_mean(l))\n",
    "    acces.append(acc)\n",
    "print('terminaled acc: {}'.format(acces[-1]))\n",
    "from matplotlib import pyplot as plt\n",
    "plt.figure(figsize=(12,8))\n",
    "plt.subplot(2, 2, 1)\n",
    "plt.plot(losses, \"c\")\n",
    "plt.title(\"loss\")\n",
    "plt.subplot(2, 2, 2)\n",
    "plt.plot(acces, \"r\")\n",
    "plt.title(\"acc\")"
   ]
  }
 ],
 "metadata": {
  "interpreter": {
   "hash": "240684a6bf55e82a0f5995d45026058ae310044e71522ea1b595ad868521a9f2"
  },
  "kernelspec": {
   "display_name": "Python 3.8.12 ('mlenv')",
   "language": "python",
   "name": "python3"
  },
  "language_info": {
   "codemirror_mode": {
    "name": "ipython",
    "version": 3
   },
   "file_extension": ".py",
   "mimetype": "text/x-python",
   "name": "python",
   "nbconvert_exporter": "python",
   "pygments_lexer": "ipython3",
   "version": "3.8.12"
  },
  "orig_nbformat": 4
 },
 "nbformat": 4,
 "nbformat_minor": 2
}
