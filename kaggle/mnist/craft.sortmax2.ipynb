{
 "cells": [
  {
   "cell_type": "code",
   "execution_count": 71,
   "metadata": {},
   "outputs": [],
   "source": [
    "import numpy as np\n",
    "from matplotlib import pyplot as plt\n",
    "from tensorflow.keras.datasets.mnist import load_data"
   ]
  },
  {
   "cell_type": "code",
   "execution_count": 72,
   "metadata": {},
   "outputs": [],
   "source": [
    "(x, y), (tx, ty) = load_data()"
   ]
  },
  {
   "cell_type": "code",
   "execution_count": 73,
   "metadata": {},
   "outputs": [],
   "source": [
    "x, tx = x / 255., tx / 255."
   ]
  },
  {
   "cell_type": "code",
   "execution_count": 74,
   "metadata": {},
   "outputs": [],
   "source": [
    "x, tx = x.reshape(-1, 28 * 28), tx.reshape(-1, 28 * 28)"
   ]
  },
  {
   "cell_type": "code",
   "execution_count": 75,
   "metadata": {},
   "outputs": [],
   "source": [
    "y, ty = y.reshape(-1, 1), ty.reshape(-1, 1)"
   ]
  },
  {
   "cell_type": "code",
   "execution_count": 76,
   "metadata": {},
   "outputs": [
    {
     "data": {
      "text/plain": [
       "((60000, 784), (10000, 784), (60000, 1), (10000, 1))"
      ]
     },
     "execution_count": 76,
     "metadata": {},
     "output_type": "execute_result"
    }
   ],
   "source": [
    "x.shape, tx.shape, y.shape, ty.shape"
   ]
  },
  {
   "cell_type": "code",
   "execution_count": 77,
   "metadata": {},
   "outputs": [],
   "source": [
    "import sys\n",
    "sys.path.append('/home/fyang/code/ml/ml-starter')\n",
    "from models.softmax import SoftmaxClassifier"
   ]
  },
  {
   "cell_type": "code",
   "execution_count": 78,
   "metadata": {},
   "outputs": [
    {
     "name": "stdout",
     "output_type": "stream",
     "text": [
      "epoch[1/30 loss: 4.813677 - acc: 0.288100\n",
      "epoch[2/30 loss: 2.030349 - acc: 0.527600\n",
      "epoch[3/30 loss: 1.172120 - acc: 0.659567\n",
      "epoch[4/30 loss: 0.851533 - acc: 0.741033\n",
      "epoch[5/30 loss: 0.736171 - acc: 0.789367\n",
      "epoch[6/30 loss: 0.697101 - acc: 0.813500\n",
      "epoch[7/30 loss: 0.685201 - acc: 0.822517\n",
      "epoch[8/30 loss: 0.680273 - acc: 0.826550\n",
      "epoch[9/30 loss: 0.675153 - acc: 0.831850\n",
      "epoch[10/30 loss: 0.679392 - acc: 0.829983\n",
      "epoch[11/30 loss: 0.678428 - acc: 0.830200\n",
      "epoch[12/30 loss: 0.680161 - acc: 0.828667\n",
      "epoch[13/30 loss: 0.679131 - acc: 0.831067\n",
      "epoch[14/30 loss: 0.675980 - acc: 0.832900\n",
      "epoch[15/30 loss: 0.680667 - acc: 0.829917\n",
      "epoch[16/30 loss: 0.673912 - acc: 0.831767\n",
      "epoch[17/30 loss: 0.673826 - acc: 0.833167\n",
      "epoch[18/30 loss: 0.679796 - acc: 0.827400\n",
      "epoch[19/30 loss: 0.680023 - acc: 0.828417\n",
      "epoch[20/30 loss: 0.678446 - acc: 0.831750\n",
      "epoch[21/30 loss: 0.673567 - acc: 0.831867\n",
      "epoch[22/30 loss: 0.680315 - acc: 0.830117\n",
      "epoch[23/30 loss: 0.676393 - acc: 0.831717\n",
      "epoch[24/30 loss: 0.681576 - acc: 0.829617\n",
      "epoch[25/30 loss: 0.676146 - acc: 0.831183\n",
      "epoch[26/30 loss: 0.677309 - acc: 0.828233\n",
      "epoch[27/30 loss: 0.676459 - acc: 0.831500\n",
      "epoch[28/30 loss: 0.677501 - acc: 0.831400\n",
      "epoch[29/30 loss: 0.679951 - acc: 0.830567\n",
      "epoch[30/30 loss: 0.678771 - acc: 0.829733\n"
     ]
    }
   ],
   "source": [
    "model = SoftmaxClassifier(eta=1e-4, epochs=30, batch_size=30, penalty=True, C=1.5)\n",
    "model.fit(x ,y)"
   ]
  },
  {
   "cell_type": "code",
   "execution_count": 79,
   "metadata": {},
   "outputs": [
    {
     "data": {
      "text/plain": [
       "0.8398"
      ]
     },
     "execution_count": 79,
     "metadata": {},
     "output_type": "execute_result"
    }
   ],
   "source": [
    "model.accuracy(tx, ty)"
   ]
  },
  {
   "cell_type": "code",
   "execution_count": 80,
   "metadata": {},
   "outputs": [
    {
     "data": {
      "text/plain": [
       "Text(0.5, 1.0, 'acc')"
      ]
     },
     "execution_count": 80,
     "metadata": {},
     "output_type": "execute_result"
    },
    {
     "data": {
      "image/png": "[encoded data removed]",
      "text/plain": [
       "<Figure size 864x576 with 2 Axes>"
      ]
     },
     "metadata": {
      "needs_background": "light"
     },
     "output_type": "display_data"
    }
   ],
   "source": [
    "from matplotlib import pyplot as plt\n",
    "plt.figure(figsize=(12,8))\n",
    "plt.subplot(2, 2, 1)\n",
    "plt.plot(model.losses, \"c--\")\n",
    "plt.title(\"loss\")\n",
    "plt.subplot(2, 2, 2)\n",
    "plt.plot(model.accuracies, \"r--\")\n",
    "plt.title(\"acc\")"
   ]
  },
  {
   "cell_type": "code",
   "execution_count": 82,
   "metadata": {},
   "outputs": [
    {
     "data": {
      "text/plain": [
       "(array([7, 2, 1, 0, 4, 1, 4, 9, 2, 9, 0, 2, 9, 0, 1, 5, 9, 7, 3, 4]),\n",
       " array([7, 2, 1, 0, 4, 1, 4, 9, 5, 9, 0, 6, 9, 0, 1, 5, 9, 7, 3, 4],\n",
       "       dtype=uint8))"
      ]
     },
     "execution_count": 82,
     "metadata": {},
     "output_type": "execute_result"
    }
   ],
   "source": [
    "model.predict(tx[:20]), ty[:20].T[0]"
   ]
  },
  {
   "cell_type": "code",
   "execution_count": 89,
   "metadata": {},
   "outputs": [
    {
     "name": "stdout",
     "output_type": "stream",
     "text": [
      "预测值： [7]\n",
      "实际值： [7]\n"
     ]
    },
    {
     "data": {
      "image/png": "[encoded data removed]",
      "text/plain": [
       "<Figure size 432x288 with 1 Axes>"
      ]
     },
     "metadata": {
      "needs_background": "light"
     },
     "output_type": "display_data"
    }
   ],
   "source": [
    "print(\"预测值：\", model.predict(tx[0]))\n",
    "print(\"实际值：\", ty[0])\n",
    "plt.imshow(tx[0].reshape(28, 28))\n",
    "plt.show()"
   ]
  }
 ],
 "metadata": {
  "interpreter": {
   "hash": "240684a6bf55e82a0f5995d45026058ae310044e71522ea1b595ad868521a9f2"
  },
  "kernelspec": {
   "display_name": "Python 3.8.12 ('mlenv')",
   "language": "python",
   "name": "python3"
  },
  "language_info": {
   "codemirror_mode": {
    "name": "ipython",
    "version": 3
   },
   "file_extension": ".py",
   "mimetype": "text/x-python",
   "name": "python",
   "nbconvert_exporter": "python",
   "pygments_lexer": "ipython3",
   "version": "3.8.12"
  },
  "orig_nbformat": 4
 },
 "nbformat": 4,
 "nbformat_minor": 2
}
