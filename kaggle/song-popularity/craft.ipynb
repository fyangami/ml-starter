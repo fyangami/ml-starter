{
 "cells": [
  {
   "cell_type": "code",
   "execution_count": 1,
   "metadata": {},
   "outputs": [],
   "source": [
    "import pandas as pd\n",
    "import numpy as np"
   ]
  },
  {
   "cell_type": "code",
   "execution_count": 2,
   "metadata": {},
   "outputs": [],
   "source": [
    "data = pd.read_csv(\"song_data.csv\")"
   ]
  },
  {
   "cell_type": "code",
   "execution_count": 3,
   "metadata": {},
   "outputs": [
    {
     "name": "stdout",
     "output_type": "stream",
     "text": [
      "<class 'pandas.core.frame.DataFrame'>\n",
      "RangeIndex: 18835 entries, 0 to 18834\n",
      "Data columns (total 15 columns):\n",
      " #   Column            Non-Null Count  Dtype  \n",
      "---  ------            --------------  -----  \n",
      " 0   song_name         18835 non-null  object \n",
      " 1   song_popularity   18835 non-null  int64  \n",
      " 2   song_duration_ms  18835 non-null  int64  \n",
      " 3   acousticness      18835 non-null  float64\n",
      " 4   danceability      18835 non-null  float64\n",
      " 5   energy            18835 non-null  float64\n",
      " 6   instrumentalness  18835 non-null  float64\n",
      " 7   key               18835 non-null  int64  \n",
      " 8   liveness          18835 non-null  float64\n",
      " 9   loudness          18835 non-null  float64\n",
      " 10  audio_mode        18835 non-null  int64  \n",
      " 11  speechiness       18835 non-null  float64\n",
      " 12  tempo             18835 non-null  float64\n",
      " 13  time_signature    18835 non-null  int64  \n",
      " 14  audio_valence     18835 non-null  float64\n",
      "dtypes: float64(9), int64(5), object(1)\n",
      "memory usage: 2.2+ MB\n"
     ]
    }
   ],
   "source": [
    "data.info()"
   ]
  },
  {
   "cell_type": "code",
   "execution_count": 4,
   "metadata": {},
   "outputs": [
    {
     "data": {
      "text/html": [
       "<div>\n",
       "<style scoped>\n",
       "    .dataframe tbody tr th:only-of-type {\n",
       "        vertical-align: middle;\n",
       "    }\n",
       "\n",
       "    .dataframe tbody tr th {\n",
       "        vertical-align: top;\n",
       "    }\n",
       "\n",
       "    .dataframe thead th {\n",
       "        text-align: right;\n",
       "    }\n",
       "</style>\n",
       "<table border=\"1\" class=\"dataframe\">\n",
       "  <thead>\n",
       "    <tr style=\"text-align: right;\">\n",
       "      <th></th>\n",
       "      <th>song_popularity</th>\n",
       "      <th>song_duration_ms</th>\n",
       "      <th>acousticness</th>\n",
       "      <th>danceability</th>\n",
       "      <th>energy</th>\n",
       "      <th>instrumentalness</th>\n",
       "      <th>key</th>\n",
       "      <th>liveness</th>\n",
       "      <th>loudness</th>\n",
       "      <th>audio_mode</th>\n",
       "      <th>speechiness</th>\n",
       "      <th>tempo</th>\n",
       "      <th>time_signature</th>\n",
       "      <th>audio_valence</th>\n",
       "    </tr>\n",
       "  </thead>\n",
       "  <tbody>\n",
       "    <tr>\n",
       "      <th>count</th>\n",
       "      <td>18835.000000</td>\n",
       "      <td>1.883500e+04</td>\n",
       "      <td>18835.000000</td>\n",
       "      <td>18835.000000</td>\n",
       "      <td>18835.000000</td>\n",
       "      <td>18835.000000</td>\n",
       "      <td>18835.000000</td>\n",
       "      <td>18835.000000</td>\n",
       "      <td>18835.000000</td>\n",
       "      <td>18835.000000</td>\n",
       "      <td>18835.000000</td>\n",
       "      <td>18835.000000</td>\n",
       "      <td>18835.000000</td>\n",
       "      <td>18835.000000</td>\n",
       "    </tr>\n",
       "    <tr>\n",
       "      <th>mean</th>\n",
       "      <td>52.991877</td>\n",
       "      <td>2.182116e+05</td>\n",
       "      <td>0.258539</td>\n",
       "      <td>0.633348</td>\n",
       "      <td>0.644995</td>\n",
       "      <td>0.078008</td>\n",
       "      <td>5.289196</td>\n",
       "      <td>0.179650</td>\n",
       "      <td>-7.447435</td>\n",
       "      <td>0.628139</td>\n",
       "      <td>0.102099</td>\n",
       "      <td>121.073154</td>\n",
       "      <td>3.959119</td>\n",
       "      <td>0.527967</td>\n",
       "    </tr>\n",
       "    <tr>\n",
       "      <th>std</th>\n",
       "      <td>21.905654</td>\n",
       "      <td>5.988754e+04</td>\n",
       "      <td>0.288719</td>\n",
       "      <td>0.156723</td>\n",
       "      <td>0.214101</td>\n",
       "      <td>0.221591</td>\n",
       "      <td>3.614595</td>\n",
       "      <td>0.143984</td>\n",
       "      <td>3.827831</td>\n",
       "      <td>0.483314</td>\n",
       "      <td>0.104378</td>\n",
       "      <td>28.714456</td>\n",
       "      <td>0.298533</td>\n",
       "      <td>0.244632</td>\n",
       "    </tr>\n",
       "    <tr>\n",
       "      <th>min</th>\n",
       "      <td>0.000000</td>\n",
       "      <td>1.200000e+04</td>\n",
       "      <td>0.000001</td>\n",
       "      <td>0.000000</td>\n",
       "      <td>0.001070</td>\n",
       "      <td>0.000000</td>\n",
       "      <td>0.000000</td>\n",
       "      <td>0.010900</td>\n",
       "      <td>-38.768000</td>\n",
       "      <td>0.000000</td>\n",
       "      <td>0.000000</td>\n",
       "      <td>0.000000</td>\n",
       "      <td>0.000000</td>\n",
       "      <td>0.000000</td>\n",
       "    </tr>\n",
       "    <tr>\n",
       "      <th>25%</th>\n",
       "      <td>40.000000</td>\n",
       "      <td>1.843395e+05</td>\n",
       "      <td>0.024100</td>\n",
       "      <td>0.533000</td>\n",
       "      <td>0.510000</td>\n",
       "      <td>0.000000</td>\n",
       "      <td>2.000000</td>\n",
       "      <td>0.092900</td>\n",
       "      <td>-9.044000</td>\n",
       "      <td>0.000000</td>\n",
       "      <td>0.037800</td>\n",
       "      <td>98.368000</td>\n",
       "      <td>4.000000</td>\n",
       "      <td>0.335000</td>\n",
       "    </tr>\n",
       "    <tr>\n",
       "      <th>50%</th>\n",
       "      <td>56.000000</td>\n",
       "      <td>2.113060e+05</td>\n",
       "      <td>0.132000</td>\n",
       "      <td>0.645000</td>\n",
       "      <td>0.674000</td>\n",
       "      <td>0.000011</td>\n",
       "      <td>5.000000</td>\n",
       "      <td>0.122000</td>\n",
       "      <td>-6.555000</td>\n",
       "      <td>1.000000</td>\n",
       "      <td>0.055500</td>\n",
       "      <td>120.013000</td>\n",
       "      <td>4.000000</td>\n",
       "      <td>0.527000</td>\n",
       "    </tr>\n",
       "    <tr>\n",
       "      <th>75%</th>\n",
       "      <td>69.000000</td>\n",
       "      <td>2.428440e+05</td>\n",
       "      <td>0.424000</td>\n",
       "      <td>0.748000</td>\n",
       "      <td>0.815000</td>\n",
       "      <td>0.002570</td>\n",
       "      <td>8.000000</td>\n",
       "      <td>0.221000</td>\n",
       "      <td>-4.908000</td>\n",
       "      <td>1.000000</td>\n",
       "      <td>0.119000</td>\n",
       "      <td>139.931000</td>\n",
       "      <td>4.000000</td>\n",
       "      <td>0.725000</td>\n",
       "    </tr>\n",
       "    <tr>\n",
       "      <th>max</th>\n",
       "      <td>100.000000</td>\n",
       "      <td>1.799346e+06</td>\n",
       "      <td>0.996000</td>\n",
       "      <td>0.987000</td>\n",
       "      <td>0.999000</td>\n",
       "      <td>0.997000</td>\n",
       "      <td>11.000000</td>\n",
       "      <td>0.986000</td>\n",
       "      <td>1.585000</td>\n",
       "      <td>1.000000</td>\n",
       "      <td>0.941000</td>\n",
       "      <td>242.318000</td>\n",
       "      <td>5.000000</td>\n",
       "      <td>0.984000</td>\n",
       "    </tr>\n",
       "  </tbody>\n",
       "</table>\n",
       "</div>"
      ],
      "text/plain": [
       "       song_popularity  song_duration_ms  acousticness  danceability  \\\n",
       "count     18835.000000      1.883500e+04  18835.000000  18835.000000   \n",
       "mean         52.991877      2.182116e+05      0.258539      0.633348   \n",
       "std          21.905654      5.988754e+04      0.288719      0.156723   \n",
       "min           0.000000      1.200000e+04      0.000001      0.000000   \n",
       "25%          40.000000      1.843395e+05      0.024100      0.533000   \n",
       "50%          56.000000      2.113060e+05      0.132000      0.645000   \n",
       "75%          69.000000      2.428440e+05      0.424000      0.748000   \n",
       "max         100.000000      1.799346e+06      0.996000      0.987000   \n",
       "\n",
       "             energy  instrumentalness           key      liveness  \\\n",
       "count  18835.000000      18835.000000  18835.000000  18835.000000   \n",
       "mean       0.644995          0.078008      5.289196      0.179650   \n",
       "std        0.214101          0.221591      3.614595      0.143984   \n",
       "min        0.001070          0.000000      0.000000      0.010900   \n",
       "25%        0.510000          0.000000      2.000000      0.092900   \n",
       "50%        0.674000          0.000011      5.000000      0.122000   \n",
       "75%        0.815000          0.002570      8.000000      0.221000   \n",
       "max        0.999000          0.997000     11.000000      0.986000   \n",
       "\n",
       "           loudness    audio_mode   speechiness         tempo  time_signature  \\\n",
       "count  18835.000000  18835.000000  18835.000000  18835.000000    18835.000000   \n",
       "mean      -7.447435      0.628139      0.102099    121.073154        3.959119   \n",
       "std        3.827831      0.483314      0.104378     28.714456        0.298533   \n",
       "min      -38.768000      0.000000      0.000000      0.000000        0.000000   \n",
       "25%       -9.044000      0.000000      0.037800     98.368000        4.000000   \n",
       "50%       -6.555000      1.000000      0.055500    120.013000        4.000000   \n",
       "75%       -4.908000      1.000000      0.119000    139.931000        4.000000   \n",
       "max        1.585000      1.000000      0.941000    242.318000        5.000000   \n",
       "\n",
       "       audio_valence  \n",
       "count   18835.000000  \n",
       "mean        0.527967  \n",
       "std         0.244632  \n",
       "min         0.000000  \n",
       "25%         0.335000  \n",
       "50%         0.527000  \n",
       "75%         0.725000  \n",
       "max         0.984000  "
      ]
     },
     "execution_count": 4,
     "metadata": {},
     "output_type": "execute_result"
    }
   ],
   "source": [
    "data.describe()"
   ]
  },
  {
   "cell_type": "code",
   "execution_count": 5,
   "metadata": {},
   "outputs": [],
   "source": [
    "data = data.to_numpy()"
   ]
  },
  {
   "cell_type": "code",
   "execution_count": 6,
   "metadata": {},
   "outputs": [
    {
     "name": "stdout",
     "output_type": "stream",
     "text": [
      "epoch[0] train loss: 533.402732, test loss: 538.919947\n",
      "epoch[1] train loss: 274.044304, test loss: 278.026603\n",
      "epoch[2] train loss: 205.431742, test loss: 208.635299\n",
      "epoch[3] train loss: 179.962397, test loss: 182.739749\n",
      "epoch[4] train loss: 164.738116, test loss: 167.254168\n",
      "epoch[5] train loss: 152.481418, test loss: 154.811469\n",
      "epoch[6] train loss: 141.557032, test loss: 143.739038\n",
      "epoch[7] train loss: 131.535311, test loss: 133.593382\n",
      "epoch[8] train loss: 122.257313, test loss: 124.200041\n",
      "epoch[9] train loss: 113.657180, test loss: 115.488353\n",
      "epoch[10] train loss: 105.683287, test loss: 107.410374\n",
      "epoch[11] train loss: 98.289021, test loss: 99.914364\n",
      "epoch[12] train loss: 91.430671, test loss: 92.959936\n",
      "epoch[13] train loss: 85.061907, test loss: 86.499869\n",
      "epoch[14] train loss: 79.150047, test loss: 80.502722\n",
      "epoch[15] train loss: 73.663700, test loss: 74.934632\n",
      "epoch[16] train loss: 68.567817, test loss: 69.762582\n",
      "epoch[17] train loss: 63.833757, test loss: 64.957386\n",
      "epoch[18] train loss: 59.436986, test loss: 60.489375\n",
      "epoch[19] train loss: 55.353404, test loss: 56.340764\n",
      "epoch[20] train loss: 51.558402, test loss: 52.484492\n",
      "epoch[21] train loss: 48.030954, test loss: 48.899078\n",
      "epoch[22] train loss: 44.753557, test loss: 45.566754\n",
      "epoch[23] train loss: 41.704677, test loss: 42.467546\n",
      "epoch[24] train loss: 38.870971, test loss: 39.586926\n",
      "epoch[25] train loss: 36.235550, test loss: 36.907302\n",
      "epoch[26] train loss: 33.783676, test loss: 34.413436\n",
      "epoch[27] train loss: 31.504250, test loss: 32.096206\n",
      "epoch[28] train loss: 29.382769, test loss: 29.938583\n",
      "epoch[29] train loss: 27.409085, test loss: 27.929405\n",
      "epoch[30] train loss: 25.572136, test loss: 26.059821\n",
      "epoch[31] train loss: 23.862228, test loss: 24.319501\n",
      "epoch[32] train loss: 22.270160, test loss: 22.698968\n",
      "epoch[33] train loss: 20.788394, test loss: 21.191364\n",
      "epoch[34] train loss: 19.408660, test loss: 19.788357\n",
      "epoch[35] train loss: 18.123768, test loss: 18.479991\n",
      "epoch[36] train loss: 16.926397, test loss: 17.261391\n",
      "epoch[37] train loss: 15.811103, test loss: 16.127370\n",
      "epoch[38] train loss: 14.772448, test loss: 15.069343\n",
      "epoch[39] train loss: 13.804454, test loss: 14.084313\n",
      "epoch[40] train loss: 12.901943, test loss: 13.166159\n",
      "epoch[41] train loss: 12.061085, test loss: 12.309283\n",
      "epoch[42] train loss: 11.276709, test loss: 11.511227\n",
      "epoch[43] train loss: 10.545436, test loss: 10.766741\n",
      "epoch[44] train loss: 9.863908, test loss: 10.073090\n",
      "epoch[45] train loss: 9.227644, test loss: 9.426456\n",
      "epoch[46] train loss: 8.634294, test loss: 8.823365\n",
      "epoch[47] train loss: 8.080490, test loss: 8.259217\n",
      "epoch[48] train loss: 7.564020, test loss: 7.732010\n",
      "epoch[49] train loss: 7.081643, test loss: 7.242007\n",
      "epoch[50] train loss: 6.631409, test loss: 6.783725\n",
      "epoch[51] train loss: 6.211174, test loss: 6.355870\n",
      "epoch[52] train loss: 5.818568, test loss: 5.955854\n",
      "epoch[53] train loss: 5.451970, test loss: 5.582140\n",
      "epoch[54] train loss: 5.109603, test loss: 5.233703\n",
      "epoch[55] train loss: 4.789631, test loss: 4.908058\n",
      "epoch[56] train loss: 4.490701, test loss: 4.603690\n",
      "epoch[57] train loss: 4.211395, test loss: 4.318992\n",
      "epoch[58] train loss: 3.950063, test loss: 4.052974\n",
      "epoch[59] train loss: 3.705803, test loss: 3.804737\n",
      "epoch[60] train loss: 3.477379, test loss: 3.571796\n",
      "epoch[61] train loss: 3.263848, test loss: 3.354565\n",
      "epoch[62] train loss: 3.064030, test loss: 3.150806\n",
      "epoch[63] train loss: 2.877032, test loss: 2.960612\n",
      "epoch[64] train loss: 2.702040, test loss: 2.781744\n",
      "epoch[65] train loss: 2.538267, test loss: 2.615182\n",
      "epoch[66] train loss: 2.385040, test loss: 2.458956\n",
      "epoch[67] train loss: 2.241518, test loss: 2.312460\n",
      "epoch[68] train loss: 2.107147, test loss: 2.175425\n",
      "epoch[69] train loss: 1.981236, test loss: 2.046638\n",
      "epoch[70] train loss: 1.863313, test loss: 1.926739\n",
      "epoch[71] train loss: 1.752792, test loss: 1.814138\n",
      "epoch[72] train loss: 1.649184, test loss: 1.708740\n",
      "epoch[73] train loss: 1.552056, test loss: 1.609761\n",
      "epoch[74] train loss: 1.460992, test loss: 1.516904\n",
      "epoch[75] train loss: 1.375630, test loss: 1.429947\n",
      "epoch[76] train loss: 1.295527, test loss: 1.347987\n",
      "epoch[77] train loss: 1.220416, test loss: 1.271295\n",
      "epoch[78] train loss: 1.149904, test loss: 1.199409\n",
      "epoch[79] train loss: 1.083743, test loss: 1.131857\n",
      "epoch[80] train loss: 1.021629, test loss: 1.068430\n",
      "epoch[81] train loss: 0.963355, test loss: 1.009105\n",
      "epoch[82] train loss: 0.908594, test loss: 0.953006\n",
      "epoch[83] train loss: 0.857162, test loss: 0.900437\n",
      "epoch[84] train loss: 0.808858, test loss: 0.850968\n",
      "epoch[85] train loss: 0.763475, test loss: 0.804489\n",
      "epoch[86] train loss: 0.720805, test loss: 0.760974\n",
      "epoch[87] train loss: 0.680708, test loss: 0.720025\n",
      "epoch[88] train loss: 0.643007, test loss: 0.681538\n",
      "epoch[89] train loss: 0.607544, test loss: 0.645173\n",
      "epoch[90] train loss: 0.574189, test loss: 0.610946\n",
      "epoch[91] train loss: 0.542812, test loss: 0.578889\n",
      "epoch[92] train loss: 0.513285, test loss: 0.548727\n",
      "epoch[93] train loss: 0.485489, test loss: 0.520071\n",
      "epoch[94] train loss: 0.459322, test loss: 0.493179\n",
      "epoch[95] train loss: 0.434692, test loss: 0.467804\n",
      "epoch[96] train loss: 0.411482, test loss: 0.443978\n",
      "epoch[97] train loss: 0.389637, test loss: 0.421833\n",
      "epoch[98] train loss: 0.369056, test loss: 0.400644\n",
      "epoch[99] train loss: 0.349642, test loss: 0.380499\n"
     ]
    }
   ],
   "source": [
    "import sys\n",
    "sys.path.append(\"/home/fyang/code/ml/ml-starter\")\n",
    "from models.liner_regression import Liner\n",
    "song_names = data[:, 0]\n",
    "song_labels = data[:, 1].reshape(len(data), 1).astype('float64')\n",
    "song_data = data[:, 1:]\n",
    "from utils.preprocess import std\n",
    "from utils.preprocess import split_train_test\n",
    "# song_data = std(song_data)\n",
    "train_data, train_label, test_data, test_label = split_train_test(song_data, song_labels)\n",
    "train_data = std(train_data)\n",
    "test_data = std(test_data)\n",
    "test_data = test_data[:-10, :]\n",
    "test_label = test_label\n",
    "\n",
    "liner = Liner(eta=1e-3, epochs=100, batch_size=30)\n",
    "liner.fit(train_data, train_label, test_data, test_label)\n",
    "\n"
   ]
  },
  {
   "cell_type": "code",
   "execution_count": 7,
   "metadata": {},
   "outputs": [
    {
     "data": {
      "image/png": "[encoded data removed]",
      "text/plain": [
       "<Figure size 432x288 with 1 Axes>"
      ]
     },
     "metadata": {
      "needs_background": "light"
     },
     "output_type": "display_data"
    },
    {
     "data": {
      "text/plain": [
       "[<matplotlib.lines.Line2D at 0x7f105eef71c0>]"
      ]
     },
     "execution_count": 7,
     "metadata": {},
     "output_type": "execute_result"
    },
    {
     "data": {
      "image/png": "[encoded data removed]",
      "text/plain": [
       "<Figure size 432x288 with 1 Axes>"
      ]
     },
     "metadata": {
      "needs_background": "light"
     },
     "output_type": "display_data"
    }
   ],
   "source": [
    "from matplotlib import pyplot as plt\n",
    "\n",
    "plt.plot(liner.losses)\n",
    "plt.show()\n",
    "plt.plot(liner.losses_t)"
   ]
  },
  {
   "cell_type": "code",
   "execution_count": 8,
   "metadata": {},
   "outputs": [
    {
     "data": {
      "text/plain": [
       "(array([[57.749929182157864],\n",
       "        [58.07919375802728],\n",
       "        [88.81217803255791]], dtype=object),\n",
       " array([[57.],\n",
       "        [58.],\n",
       "        [90.]]))"
      ]
     },
     "execution_count": 8,
     "metadata": {},
     "output_type": "execute_result"
    }
   ],
   "source": [
    "valid = test_data[:3, :]\n",
    "liner.predict(np.c_[np.ones(len(valid)), valid]), test_label[:3]"
   ]
  },
  {
   "cell_type": "code",
   "execution_count": 9,
   "metadata": {},
   "outputs": [
    {
     "data": {
      "text/plain": [
       "array([[52.97039267083664, 96.51692218448704, -1.727755838681246,\n",
       "        -0.5588266752182157, 1.393680313205921, -1.4927208729190724,\n",
       "        -1.2329129432989399, -0.039456883436021946, -1.0393637347797473,\n",
       "        2.252092866895796, 0.054992927052711825, -0.15542100155860833,\n",
       "        -0.32901527539665454, 0.8544526578758808, -0.9307870228819147]],\n",
       "      dtype=object)"
      ]
     },
     "execution_count": 9,
     "metadata": {},
     "output_type": "execute_result"
    }
   ],
   "source": [
    "liner.W"
   ]
  }
 ],
 "metadata": {
  "interpreter": {
   "hash": "240684a6bf55e82a0f5995d45026058ae310044e71522ea1b595ad868521a9f2"
  },
  "kernelspec": {
   "display_name": "Python 3.10.0 ('mlenv')",
   "language": "python",
   "name": "python3"
  },
  "language_info": {
   "codemirror_mode": {
    "name": "ipython",
    "version": 3
   },
   "file_extension": ".py",
   "mimetype": "text/x-python",
   "name": "python",
   "nbconvert_exporter": "python",
   "pygments_lexer": "ipython3",
   "version": "3.10.0"
  },
  "orig_nbformat": 4
 },
 "nbformat": 4,
 "nbformat_minor": 2
}
