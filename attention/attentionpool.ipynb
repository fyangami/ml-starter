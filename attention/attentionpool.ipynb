{
 "cells": [
  {
   "cell_type": "code",
   "execution_count": 50,
   "metadata": {},
   "outputs": [],
   "source": [
    "import tensorflow as tf\n",
    "from matplotlib import pyplot as plt\n",
    "import os\n",
    "os.environ['TF_CPP_MIN_LOG_LEVEL'] = '1'"
   ]
  },
  {
   "cell_type": "code",
   "execution_count": 51,
   "metadata": {},
   "outputs": [],
   "source": [
    "def f(x):\n",
    "    return 2 * tf.sin(x) + x**.8\n",
    "\n",
    "tf.random.set_seed(1028)\n",
    "x =tf.sort(tf.random.uniform(shape=(50,), maxval=5))\n",
    "x_test = tf.range(0, 5, .1)\n",
    "# y_train表示训练输出\n",
    "y_train = f(x) + tf.random.normal(shape=x.shape, mean=.0, stddev=.5) \n",
    "y_true = f(x_test)\n",
    "\n",
    "def plot_kernel_reg(y_hat):\n",
    "    plt.plot(x_test, y_true)\n",
    "    plt.plot(x_test, y_hat)\n",
    "    plt.plot(x, y_train, 'o', alpha=0.5);"
   ]
  },
  {
   "cell_type": "code",
   "execution_count": 52,
   "metadata": {},
   "outputs": [
    {
     "data": {
      "image/png": "[encoded data removed]",
      "text/plain": [
       "<Figure size 432x288 with 1 Axes>"
      ]
     },
     "metadata": {
      "needs_background": "light"
     },
     "output_type": "display_data"
    }
   ],
   "source": [
    "# 经过avgpool的y_train\n",
    "# avgpool没有考虑x\n",
    "y_hat = tf.repeat(tf.reduce_mean(y_train), repeats=len(y_train))\n",
    "plot_kernel_reg(y_hat)"
   ]
  },
  {
   "cell_type": "code",
   "execution_count": 53,
   "metadata": {},
   "outputs": [
    {
     "data": {
      "image/png": "[encoded data removed]",
      "text/plain": [
       "<Figure size 432x288 with 1 Axes>"
      ]
     },
     "metadata": {
      "needs_background": "light"
     },
     "output_type": "display_data"
    }
   ],
   "source": [
    "# 高斯kernel\n",
    "x_repeat = tf.repeat(tf.expand_dims(x, axis=0), repeats=len(y_train), axis=0)\n",
    "attention_weights = tf.nn.softmax(-((x_repeat - tf.expand_dims(x, axis=1)) ** 2 / 2), axis=1)\n",
    "y_hat = tf.matmul(attention_weights, tf.expand_dims(y_train, axis=1))\n",
    "plot_kernel_reg(y_hat)"
   ]
  },
  {
   "cell_type": "code",
   "execution_count": 54,
   "metadata": {},
   "outputs": [],
   "source": [
    "class NWKernelRegression(tf.keras.layers.Layer):\n",
    "    \n",
    "    def __init__(self, **kwargs):\n",
    "        super().__init__(**kwargs)\n",
    "        self.w = tf.Variable(initial_value=tf.random.uniform(shape=(1,)))\n",
    "    \n",
    "    def call(self, queries, keys, values, **kwargs):\n",
    "        queries = tf.repeat(tf.expand_dims(queries, axis=1), repeats=keys.shape[1], axis=1)\n",
    "        self.attention_weights = tf.nn.softmax(-((queries - keys) * self.w) ** 2 / 2, axis=1)\n",
    "        return tf.squeeze(tf.matmul(tf.expand_dims(self.attention_weights, axis=1), tf.expand_dims(values, axis=-1)))"
   ]
  },
  {
   "cell_type": "code",
   "execution_count": 55,
   "metadata": {},
   "outputs": [
    {
     "data": {
      "text/plain": [
       "<tf.Tensor: shape=(50, 50), dtype=bool, numpy=\n",
       "array([[False,  True,  True, ...,  True,  True,  True],\n",
       "       [ True, False,  True, ...,  True,  True,  True],\n",
       "       [ True,  True, False, ...,  True,  True,  True],\n",
       "       ...,\n",
       "       [ True,  True,  True, ..., False,  True,  True],\n",
       "       [ True,  True,  True, ...,  True, False,  True],\n",
       "       [ True,  True,  True, ...,  True,  True, False]])>"
      ]
     },
     "execution_count": 55,
     "metadata": {},
     "output_type": "execute_result"
    }
   ],
   "source": [
    "tf.cast(1 - tf.eye(50), dtype=tf.bool)"
   ]
  },
  {
   "cell_type": "code",
   "execution_count": 56,
   "metadata": {},
   "outputs": [],
   "source": [
    "x_tile = tf.repeat(tf.expand_dims(x, axis=0), repeats=len(x), axis=0)\n",
    "y_tile = tf.repeat(tf.expand_dims(y_train, axis=0), repeats=len(y_train), axis=0)\n",
    "keys = tf.reshape(x_tile[tf.cast(1 - tf.eye(len(x)), dtype='bool')], shape=(len(x), -1))\n",
    "values = tf.reshape(y_tile[tf.cast(1 - tf.eye(len(x)), dtype='bool')], shape=(len(x), -1))"
   ]
  },
  {
   "cell_type": "code",
   "execution_count": 57,
   "metadata": {},
   "outputs": [
    {
     "name": "stdout",
     "output_type": "stream",
     "text": [
      "loss:  1.035001\n",
      "loss:  0.972037\n",
      "loss:  0.891720\n",
      "loss:  0.806099\n",
      "loss:  0.728772\n",
      "loss:  0.665725\n",
      "loss:  0.616246\n",
      "loss:  0.577440\n",
      "loss:  0.546547\n",
      "loss:  0.521474\n",
      "loss:  0.500734\n",
      "loss:  0.483278\n",
      "loss:  0.468364\n",
      "loss:  0.455451\n",
      "loss:  0.444145\n",
      "loss:  0.434147\n",
      "loss:  0.425230\n",
      "loss:  0.417218\n",
      "loss:  0.409971\n",
      "loss:  0.403377\n",
      "loss:  0.397348\n",
      "loss:  0.391808\n",
      "loss:  0.386696\n",
      "loss:  0.381963\n",
      "loss:  0.377564\n",
      "loss:  0.373464\n",
      "loss:  0.369631\n",
      "loss:  0.366039\n",
      "loss:  0.362664\n",
      "loss:  0.359486\n",
      "loss:  0.356487\n",
      "loss:  0.353652\n",
      "loss:  0.350968\n",
      "loss:  0.348421\n",
      "loss:  0.346002\n",
      "loss:  0.343700\n",
      "loss:  0.341506\n",
      "loss:  0.339414\n",
      "loss:  0.337415\n",
      "loss:  0.335504\n",
      "loss:  0.333674\n",
      "loss:  0.331920\n",
      "loss:  0.330238\n",
      "loss:  0.328623\n",
      "loss:  0.327071\n",
      "loss:  0.325579\n",
      "loss:  0.324142\n",
      "loss:  0.322757\n",
      "loss:  0.321423\n",
      "loss:  0.320136\n",
      "loss:  0.318893\n",
      "loss:  0.317692\n",
      "loss:  0.316531\n",
      "loss:  0.315409\n",
      "loss:  0.314322\n",
      "loss:  0.313270\n",
      "loss:  0.312251\n",
      "loss:  0.311263\n",
      "loss:  0.310305\n",
      "loss:  0.309375\n",
      "loss:  0.308472\n",
      "loss:  0.307596\n",
      "loss:  0.306744\n",
      "loss:  0.305916\n",
      "loss:  0.305111\n",
      "loss:  0.304328\n",
      "loss:  0.303566\n",
      "loss:  0.302824\n",
      "loss:  0.302101\n",
      "loss:  0.301397\n",
      "loss:  0.300711\n",
      "loss:  0.300042\n",
      "loss:  0.299390\n",
      "loss:  0.298753\n",
      "loss:  0.298132\n",
      "loss:  0.297526\n",
      "loss:  0.296934\n",
      "loss:  0.296356\n",
      "loss:  0.295791\n",
      "loss:  0.295239\n",
      "loss:  0.294700\n",
      "loss:  0.294172\n",
      "loss:  0.293656\n",
      "loss:  0.293152\n",
      "loss:  0.292658\n",
      "loss:  0.292175\n",
      "loss:  0.291701\n",
      "loss:  0.291238\n",
      "loss:  0.290785\n",
      "loss:  0.290340\n",
      "loss:  0.289905\n",
      "loss:  0.289478\n",
      "loss:  0.289060\n",
      "loss:  0.288650\n",
      "loss:  0.288248\n",
      "loss:  0.287854\n",
      "loss:  0.287468\n",
      "loss:  0.287088\n",
      "loss:  0.286716\n",
      "loss:  0.286351\n"
     ]
    }
   ],
   "source": [
    "net = NWKernelRegression()\n",
    "loss_fn = tf.keras.losses.MeanSquaredError()\n",
    "optimizer = tf.keras.optimizers.SGD(learning_rate=1e-1)\n",
    "\n",
    "for epoch in range(100):\n",
    "    with tf.GradientTape() as gt:\n",
    "        y_ = net(x, keys, values)\n",
    "        loss = loss_fn(y_train, y_)\n",
    "    grads = gt.gradient(loss, net.trainable_variables)\n",
    "    optimizer.apply_gradients(zip(grads, net.trainable_variables))\n",
    "    print(f'loss: {loss: .6f}')"
   ]
  },
  {
   "cell_type": "code",
   "execution_count": 58,
   "metadata": {},
   "outputs": [
    {
     "data": {
      "image/png": "[encoded data removed]",
      "text/plain": [
       "<Figure size 432x288 with 1 Axes>"
      ]
     },
     "metadata": {
      "needs_background": "light"
     },
     "output_type": "display_data"
    }
   ],
   "source": [
    "keys = tf.repeat(tf.expand_dims(x, axis=0), repeats=len(x_test), axis=0)\n",
    "values = tf.repeat(tf.expand_dims(y_train, axis=0), repeats=len(x_test), axis=0)\n",
    "y_hat = net(x_test, keys, values)\n",
    "plot_kernel_reg(y_hat)"
   ]
  }
 ],
 "metadata": {
  "interpreter": {
   "hash": "8ae33f7c48cc3e1271596d1bf08ce4d5e6d6f7129ff8bbb83bbb95ed8addff62"
  },
  "kernelspec": {
   "display_name": "Python 3.10.0 ('mlenv')",
   "language": "python",
   "name": "python3"
  },
  "language_info": {
   "codemirror_mode": {
    "name": "ipython",
    "version": 3
   },
   "file_extension": ".py",
   "mimetype": "text/x-python",
   "name": "python",
   "nbconvert_exporter": "python",
   "pygments_lexer": "ipython3",
   "version": "3.10.0"
  },
  "orig_nbformat": 4
 },
 "nbformat": 4,
 "nbformat_minor": 2
}
